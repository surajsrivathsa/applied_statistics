{
  "nbformat": 4,
  "nbformat_minor": 0,
  "metadata": {
    "colab": {
      "name": "Statistical Thinking - Correlations.ipynb",
      "provenance": [],
      "authorship_tag": "ABX9TyP6qZnYBvHuNKdXBkteSo7N",
      "include_colab_link": true
    },
    "kernelspec": {
      "name": "python3",
      "display_name": "Python 3"
    }
  },
  "cells": [
    {
      "cell_type": "markdown",
      "metadata": {
        "id": "view-in-github",
        "colab_type": "text"
      },
      "source": [
        "<a href=\"https://colab.research.google.com/github/surajsrivathsa/applied_statistics/blob/main/Statistical_Thinking_Correlations.ipynb\" target=\"_parent\"><img src=\"https://colab.research.google.com/assets/colab-badge.svg\" alt=\"Open In Colab\"/></a>"
      ]
    },
    {
      "cell_type": "markdown",
      "metadata": {
        "id": "ysFa2YGCGHmy"
      },
      "source": [
        "# Statistics alone cannot conclude any final result. The tests we do are based on relative likelyhood \n",
        "\n",
        "* Relationship between features could be linear, non-linear or monotonic or no relationship at all. \n",
        "\n",
        "* There is also strength of relationships and how to assess them. \n",
        "\n",
        "* Ploynomials and segmentation"
      ]
    },
    {
      "cell_type": "code",
      "metadata": {
        "id": "7wNUpbPlF-3k"
      },
      "source": [
        "import pandas as pd\n",
        "import numpy as np\n",
        "import matplotlib.pyplot as plt\n",
        "import seaborn as sns\n",
        "import math\n",
        "import scipy.stats as stats\n"
      ],
      "execution_count": 2,
      "outputs": []
    },
    {
      "cell_type": "markdown",
      "metadata": {
        "id": "FUKWWrQmHtWo"
      },
      "source": [
        "* fico score between 500-850, Used to measure credit worthiness.\n",
        "\n",
        "* Usually banks give credit to fico_score > 650 and have lower interest rate. Subprime loans are lent to people < 650 with higher interest rate.\n",
        "\n",
        "* default rate is how many customers inside each bucket has defaulted. Usually higher for people with less fico score.\n",
        "\n",
        "loan_total, fico_score are categorical and rest of them continous. If there are too many categories then treat it as continous variables"
      ]
    },
    {
      "cell_type": "code",
      "metadata": {
        "colab": {
          "base_uri": "https://localhost:8080/",
          "height": 201
        },
        "id": "bp_bt-PPGgq9",
        "outputId": "c39d8c2e-e14d-40e4-df3d-3a09b36a8c80"
      },
      "source": [
        "loan_df = pd.read_csv(\"https://raw.githubusercontent.com/srivatsan88/YouTubeLI/master/dataset/loan_analysis_summary.csv\")\n",
        "loan_df.head()"
      ],
      "execution_count": 3,
      "outputs": [
        {
          "output_type": "execute_result",
          "data": {
            "text/html": [
              "<div>\n",
              "<style scoped>\n",
              "    .dataframe tbody tr th:only-of-type {\n",
              "        vertical-align: middle;\n",
              "    }\n",
              "\n",
              "    .dataframe tbody tr th {\n",
              "        vertical-align: top;\n",
              "    }\n",
              "\n",
              "    .dataframe thead th {\n",
              "        text-align: right;\n",
              "    }\n",
              "</style>\n",
              "<table border=\"1\" class=\"dataframe\">\n",
              "  <thead>\n",
              "    <tr style=\"text-align: right;\">\n",
              "      <th></th>\n",
              "      <th>fico_score</th>\n",
              "      <th>loan_total</th>\n",
              "      <th>default_total</th>\n",
              "      <th>dti</th>\n",
              "      <th>avg_loan_amnt</th>\n",
              "      <th>median_annual_inc</th>\n",
              "      <th>avg_annual_inc</th>\n",
              "      <th>int_rate</th>\n",
              "      <th>default_rate</th>\n",
              "      <th>actual_default_rate</th>\n",
              "    </tr>\n",
              "  </thead>\n",
              "  <tbody>\n",
              "    <tr>\n",
              "      <th>0</th>\n",
              "      <td>500</td>\n",
              "      <td>3585</td>\n",
              "      <td>3183</td>\n",
              "      <td>19.737013</td>\n",
              "      <td>13660.71827</td>\n",
              "      <td>55000</td>\n",
              "      <td>63396.10292</td>\n",
              "      <td>15.352285</td>\n",
              "      <td>2.463470</td>\n",
              "      <td>0.520266</td>\n",
              "    </tr>\n",
              "    <tr>\n",
              "      <th>1</th>\n",
              "      <td>510</td>\n",
              "      <td>8223</td>\n",
              "      <td>7191</td>\n",
              "      <td>19.747810</td>\n",
              "      <td>13889.67226</td>\n",
              "      <td>56000</td>\n",
              "      <td>65446.52263</td>\n",
              "      <td>15.440212</td>\n",
              "      <td>5.565445</td>\n",
              "      <td>1.175378</td>\n",
              "    </tr>\n",
              "    <tr>\n",
              "      <th>2</th>\n",
              "      <td>520</td>\n",
              "      <td>9792</td>\n",
              "      <td>8370</td>\n",
              "      <td>20.085761</td>\n",
              "      <td>14186.13920</td>\n",
              "      <td>58728</td>\n",
              "      <td>68261.38708</td>\n",
              "      <td>15.312451</td>\n",
              "      <td>6.477927</td>\n",
              "      <td>1.368087</td>\n",
              "    </tr>\n",
              "    <tr>\n",
              "      <th>3</th>\n",
              "      <td>530</td>\n",
              "      <td>10984</td>\n",
              "      <td>9254</td>\n",
              "      <td>20.253199</td>\n",
              "      <td>14487.00838</td>\n",
              "      <td>60000</td>\n",
              "      <td>69041.52340</td>\n",
              "      <td>15.449011</td>\n",
              "      <td>7.162095</td>\n",
              "      <td>1.512578</td>\n",
              "    </tr>\n",
              "    <tr>\n",
              "      <th>4</th>\n",
              "      <td>540</td>\n",
              "      <td>12333</td>\n",
              "      <td>10127</td>\n",
              "      <td>20.770446</td>\n",
              "      <td>14756.36706</td>\n",
              "      <td>60000</td>\n",
              "      <td>69948.95243</td>\n",
              "      <td>15.271022</td>\n",
              "      <td>7.837750</td>\n",
              "      <td>1.655271</td>\n",
              "    </tr>\n",
              "  </tbody>\n",
              "</table>\n",
              "</div>"
            ],
            "text/plain": [
              "   fico_score  loan_total  ...  default_rate  actual_default_rate\n",
              "0         500        3585  ...      2.463470             0.520266\n",
              "1         510        8223  ...      5.565445             1.175378\n",
              "2         520        9792  ...      6.477927             1.368087\n",
              "3         530       10984  ...      7.162095             1.512578\n",
              "4         540       12333  ...      7.837750             1.655271\n",
              "\n",
              "[5 rows x 10 columns]"
            ]
          },
          "metadata": {
            "tags": []
          },
          "execution_count": 3
        }
      ]
    },
    {
      "cell_type": "markdown",
      "metadata": {
        "id": "v6Q1WBY-KOEh"
      },
      "source": [
        "* We can see the right skewness by comparing mean annual income vs median annual income\n",
        "\n",
        "* DTI seem to be correctly normal distribution 18 vs 19"
      ]
    },
    {
      "cell_type": "code",
      "metadata": {
        "colab": {
          "base_uri": "https://localhost:8080/",
          "height": 291
        },
        "id": "oevW0NoPG0h-",
        "outputId": "b5aea19f-bcc5-4691-9e8e-48c6174af89e"
      },
      "source": [
        "loan_df.describe()"
      ],
      "execution_count": 4,
      "outputs": [
        {
          "output_type": "execute_result",
          "data": {
            "text/html": [
              "<div>\n",
              "<style scoped>\n",
              "    .dataframe tbody tr th:only-of-type {\n",
              "        vertical-align: middle;\n",
              "    }\n",
              "\n",
              "    .dataframe tbody tr th {\n",
              "        vertical-align: top;\n",
              "    }\n",
              "\n",
              "    .dataframe thead th {\n",
              "        text-align: right;\n",
              "    }\n",
              "</style>\n",
              "<table border=\"1\" class=\"dataframe\">\n",
              "  <thead>\n",
              "    <tr style=\"text-align: right;\">\n",
              "      <th></th>\n",
              "      <th>fico_score</th>\n",
              "      <th>loan_total</th>\n",
              "      <th>default_total</th>\n",
              "      <th>dti</th>\n",
              "      <th>avg_loan_amnt</th>\n",
              "      <th>median_annual_inc</th>\n",
              "      <th>avg_annual_inc</th>\n",
              "      <th>int_rate</th>\n",
              "      <th>default_rate</th>\n",
              "      <th>actual_default_rate</th>\n",
              "    </tr>\n",
              "  </thead>\n",
              "  <tbody>\n",
              "    <tr>\n",
              "      <th>count</th>\n",
              "      <td>36.000000</td>\n",
              "      <td>36.000000</td>\n",
              "      <td>36.000000</td>\n",
              "      <td>36.000000</td>\n",
              "      <td>36.000000</td>\n",
              "      <td>36.000000</td>\n",
              "      <td>36.000000</td>\n",
              "      <td>36.000000</td>\n",
              "      <td>36.000000</td>\n",
              "      <td>36.000000</td>\n",
              "    </tr>\n",
              "    <tr>\n",
              "      <th>mean</th>\n",
              "      <td>675.000000</td>\n",
              "      <td>16994.527778</td>\n",
              "      <td>3589.111111</td>\n",
              "      <td>18.790417</td>\n",
              "      <td>15088.569697</td>\n",
              "      <td>65678.583333</td>\n",
              "      <td>77391.960108</td>\n",
              "      <td>12.520384</td>\n",
              "      <td>2.777778</td>\n",
              "      <td>0.586645</td>\n",
              "    </tr>\n",
              "    <tr>\n",
              "      <th>std</th>\n",
              "      <td>105.356538</td>\n",
              "      <td>11917.752515</td>\n",
              "      <td>3512.765608</td>\n",
              "      <td>1.690671</td>\n",
              "      <td>1633.584599</td>\n",
              "      <td>6846.614297</td>\n",
              "      <td>8038.473538</td>\n",
              "      <td>2.560128</td>\n",
              "      <td>2.718690</td>\n",
              "      <td>0.574166</td>\n",
              "    </tr>\n",
              "    <tr>\n",
              "      <th>min</th>\n",
              "      <td>500.000000</td>\n",
              "      <td>124.000000</td>\n",
              "      <td>3.000000</td>\n",
              "      <td>14.676210</td>\n",
              "      <td>12994.231600</td>\n",
              "      <td>55000.000000</td>\n",
              "      <td>63396.102920</td>\n",
              "      <td>7.585562</td>\n",
              "      <td>0.002322</td>\n",
              "      <td>0.000490</td>\n",
              "    </tr>\n",
              "    <tr>\n",
              "      <th>25%</th>\n",
              "      <td>587.500000</td>\n",
              "      <td>10452.750000</td>\n",
              "      <td>214.250000</td>\n",
              "      <td>17.650570</td>\n",
              "      <td>14038.181180</td>\n",
              "      <td>61297.500000</td>\n",
              "      <td>72364.301710</td>\n",
              "      <td>10.453639</td>\n",
              "      <td>0.165818</td>\n",
              "      <td>0.035019</td>\n",
              "    </tr>\n",
              "    <tr>\n",
              "      <th>50%</th>\n",
              "      <td>675.000000</td>\n",
              "      <td>12519.500000</td>\n",
              "      <td>2886.500000</td>\n",
              "      <td>19.083851</td>\n",
              "      <td>14857.024775</td>\n",
              "      <td>63000.000000</td>\n",
              "      <td>74919.065440</td>\n",
              "      <td>13.556549</td>\n",
              "      <td>2.233995</td>\n",
              "      <td>0.471802</td>\n",
              "    </tr>\n",
              "    <tr>\n",
              "      <th>75%</th>\n",
              "      <td>762.500000</td>\n",
              "      <td>23774.500000</td>\n",
              "      <td>6123.750000</td>\n",
              "      <td>20.165171</td>\n",
              "      <td>15353.673887</td>\n",
              "      <td>68250.000000</td>\n",
              "      <td>80706.824483</td>\n",
              "      <td>14.732548</td>\n",
              "      <td>4.739451</td>\n",
              "      <td>1.000935</td>\n",
              "    </tr>\n",
              "    <tr>\n",
              "      <th>max</th>\n",
              "      <td>850.000000</td>\n",
              "      <td>40444.000000</td>\n",
              "      <td>10164.000000</td>\n",
              "      <td>20.974137</td>\n",
              "      <td>20082.459680</td>\n",
              "      <td>83750.000000</td>\n",
              "      <td>98683.805750</td>\n",
              "      <td>15.449011</td>\n",
              "      <td>7.866386</td>\n",
              "      <td>1.661319</td>\n",
              "    </tr>\n",
              "  </tbody>\n",
              "</table>\n",
              "</div>"
            ],
            "text/plain": [
              "       fico_score    loan_total  ...  default_rate  actual_default_rate\n",
              "count   36.000000     36.000000  ...     36.000000            36.000000\n",
              "mean   675.000000  16994.527778  ...      2.777778             0.586645\n",
              "std    105.356538  11917.752515  ...      2.718690             0.574166\n",
              "min    500.000000    124.000000  ...      0.002322             0.000490\n",
              "25%    587.500000  10452.750000  ...      0.165818             0.035019\n",
              "50%    675.000000  12519.500000  ...      2.233995             0.471802\n",
              "75%    762.500000  23774.500000  ...      4.739451             1.000935\n",
              "max    850.000000  40444.000000  ...      7.866386             1.661319\n",
              "\n",
              "[8 rows x 10 columns]"
            ]
          },
          "metadata": {
            "tags": []
          },
          "execution_count": 4
        }
      ]
    },
    {
      "cell_type": "markdown",
      "metadata": {
        "id": "S3Bo5LtQHPUO"
      },
      "source": [
        "* Most of the practical data don't have perfect linear or polynomial relationship everything is approximated.\n",
        "\n",
        "* Covariance measures direction of relationship rather than strength, they are not standardized values(range between + inf to -inf).\n",
        "\n",
        "* Value of perfect value of cov purely depends of data and cannot be pinpointed on any single measure, Hence we need correlation too"
      ]
    },
    {
      "cell_type": "code",
      "metadata": {
        "colab": {
          "base_uri": "https://localhost:8080/",
          "height": 352
        },
        "id": "qmnfsgRcG2cu",
        "outputId": "a4634026-6a9d-4efc-bcfe-86f7a694f81f"
      },
      "source": [
        "loan_df.cov()"
      ],
      "execution_count": 5,
      "outputs": [
        {
          "output_type": "execute_result",
          "data": {
            "text/html": [
              "<div>\n",
              "<style scoped>\n",
              "    .dataframe tbody tr th:only-of-type {\n",
              "        vertical-align: middle;\n",
              "    }\n",
              "\n",
              "    .dataframe tbody tr th {\n",
              "        vertical-align: top;\n",
              "    }\n",
              "\n",
              "    .dataframe thead th {\n",
              "        text-align: right;\n",
              "    }\n",
              "</style>\n",
              "<table border=\"1\" class=\"dataframe\">\n",
              "  <thead>\n",
              "    <tr style=\"text-align: right;\">\n",
              "      <th></th>\n",
              "      <th>fico_score</th>\n",
              "      <th>loan_total</th>\n",
              "      <th>default_total</th>\n",
              "      <th>dti</th>\n",
              "      <th>avg_loan_amnt</th>\n",
              "      <th>median_annual_inc</th>\n",
              "      <th>avg_annual_inc</th>\n",
              "      <th>int_rate</th>\n",
              "      <th>default_rate</th>\n",
              "      <th>actual_default_rate</th>\n",
              "    </tr>\n",
              "  </thead>\n",
              "  <tbody>\n",
              "    <tr>\n",
              "      <th>fico_score</th>\n",
              "      <td>11100.000000</td>\n",
              "      <td>8.431757e+04</td>\n",
              "      <td>-3.281917e+05</td>\n",
              "      <td>-164.562715</td>\n",
              "      <td>1.179751e+05</td>\n",
              "      <td>6.540867e+05</td>\n",
              "      <td>7.851304e+05</td>\n",
              "      <td>-261.372425</td>\n",
              "      <td>-254.002627</td>\n",
              "      <td>-53.643365</td>\n",
              "    </tr>\n",
              "    <tr>\n",
              "      <th>loan_total</th>\n",
              "      <td>84317.571429</td>\n",
              "      <td>1.420328e+08</td>\n",
              "      <td>-6.117364e+06</td>\n",
              "      <td>2841.802408</td>\n",
              "      <td>-9.263903e+06</td>\n",
              "      <td>-1.233279e+07</td>\n",
              "      <td>-9.045332e+06</td>\n",
              "      <td>3454.737681</td>\n",
              "      <td>-4734.508923</td>\n",
              "      <td>-999.891190</td>\n",
              "    </tr>\n",
              "    <tr>\n",
              "      <th>default_total</th>\n",
              "      <td>-328191.714286</td>\n",
              "      <td>-6.117364e+06</td>\n",
              "      <td>1.233952e+07</td>\n",
              "      <td>5018.669412</td>\n",
              "      <td>-2.542762e+06</td>\n",
              "      <td>-1.726291e+07</td>\n",
              "      <td>-2.094780e+07</td>\n",
              "      <td>7646.662485</td>\n",
              "      <td>9550.122450</td>\n",
              "      <td>2016.911035</td>\n",
              "    </tr>\n",
              "    <tr>\n",
              "      <th>dti</th>\n",
              "      <td>-164.562715</td>\n",
              "      <td>2.841802e+03</td>\n",
              "      <td>5.018669e+03</td>\n",
              "      <td>2.858369</td>\n",
              "      <td>-2.164641e+03</td>\n",
              "      <td>-1.040763e+04</td>\n",
              "      <td>-1.219916e+04</td>\n",
              "      <td>4.167275</td>\n",
              "      <td>3.884179</td>\n",
              "      <td>0.820308</td>\n",
              "    </tr>\n",
              "    <tr>\n",
              "      <th>avg_loan_amnt</th>\n",
              "      <td>117975.085123</td>\n",
              "      <td>-9.263903e+06</td>\n",
              "      <td>-2.542762e+06</td>\n",
              "      <td>-2164.640693</td>\n",
              "      <td>2.668599e+06</td>\n",
              "      <td>9.564547e+06</td>\n",
              "      <td>1.092982e+07</td>\n",
              "      <td>-3359.878600</td>\n",
              "      <td>-1967.960087</td>\n",
              "      <td>-415.617751</td>\n",
              "    </tr>\n",
              "    <tr>\n",
              "      <th>median_annual_inc</th>\n",
              "      <td>654086.714286</td>\n",
              "      <td>-1.233279e+07</td>\n",
              "      <td>-1.726291e+07</td>\n",
              "      <td>-10407.631551</td>\n",
              "      <td>9.564547e+06</td>\n",
              "      <td>4.687613e+07</td>\n",
              "      <td>5.457827e+07</td>\n",
              "      <td>-16564.670539</td>\n",
              "      <td>-13360.560742</td>\n",
              "      <td>-2821.645746</td>\n",
              "    </tr>\n",
              "    <tr>\n",
              "      <th>avg_annual_inc</th>\n",
              "      <td>785130.353840</td>\n",
              "      <td>-9.045332e+06</td>\n",
              "      <td>-2.094780e+07</td>\n",
              "      <td>-12199.161949</td>\n",
              "      <td>1.092982e+07</td>\n",
              "      <td>5.457827e+07</td>\n",
              "      <td>6.461706e+07</td>\n",
              "      <td>-19471.216732</td>\n",
              "      <td>-16212.465719</td>\n",
              "      <td>-3423.945732</td>\n",
              "    </tr>\n",
              "    <tr>\n",
              "      <th>int_rate</th>\n",
              "      <td>-261.372425</td>\n",
              "      <td>3.454738e+03</td>\n",
              "      <td>7.646662e+03</td>\n",
              "      <td>4.167275</td>\n",
              "      <td>-3.359879e+03</td>\n",
              "      <td>-1.656467e+04</td>\n",
              "      <td>-1.947122e+04</td>\n",
              "      <td>6.554256</td>\n",
              "      <td>5.918103</td>\n",
              "      <td>1.249857</td>\n",
              "    </tr>\n",
              "    <tr>\n",
              "      <th>default_rate</th>\n",
              "      <td>-254.002627</td>\n",
              "      <td>-4.734509e+03</td>\n",
              "      <td>9.550122e+03</td>\n",
              "      <td>3.884179</td>\n",
              "      <td>-1.967960e+03</td>\n",
              "      <td>-1.336056e+04</td>\n",
              "      <td>-1.621247e+04</td>\n",
              "      <td>5.918103</td>\n",
              "      <td>7.391278</td>\n",
              "      <td>1.560980</td>\n",
              "    </tr>\n",
              "    <tr>\n",
              "      <th>actual_default_rate</th>\n",
              "      <td>-53.643365</td>\n",
              "      <td>-9.998912e+02</td>\n",
              "      <td>2.016911e+03</td>\n",
              "      <td>0.820308</td>\n",
              "      <td>-4.156178e+02</td>\n",
              "      <td>-2.821646e+03</td>\n",
              "      <td>-3.423946e+03</td>\n",
              "      <td>1.249857</td>\n",
              "      <td>1.560980</td>\n",
              "      <td>0.329667</td>\n",
              "    </tr>\n",
              "  </tbody>\n",
              "</table>\n",
              "</div>"
            ],
            "text/plain": [
              "                        fico_score  ...  actual_default_rate\n",
              "fico_score            11100.000000  ...           -53.643365\n",
              "loan_total            84317.571429  ...          -999.891190\n",
              "default_total       -328191.714286  ...          2016.911035\n",
              "dti                    -164.562715  ...             0.820308\n",
              "avg_loan_amnt        117975.085123  ...          -415.617751\n",
              "median_annual_inc    654086.714286  ...         -2821.645746\n",
              "avg_annual_inc       785130.353840  ...         -3423.945732\n",
              "int_rate               -261.372425  ...             1.249857\n",
              "default_rate           -254.002627  ...             1.560980\n",
              "actual_default_rate     -53.643365  ...             0.329667\n",
              "\n",
              "[10 rows x 10 columns]"
            ]
          },
          "metadata": {
            "tags": []
          },
          "execution_count": 5
        }
      ]
    },
    {
      "cell_type": "markdown",
      "metadata": {
        "id": "nJ5DPJjeK-Gc"
      },
      "source": [
        "Corelation provides strenght of the relationship.\n",
        "\n",
        "* People with high fico score have low default, dti, intrest rate and high annual income."
      ]
    },
    {
      "cell_type": "code",
      "metadata": {
        "colab": {
          "base_uri": "https://localhost:8080/",
          "height": 352
        },
        "id": "aYtOqnLdHX6T",
        "outputId": "f50a19cf-5a56-46a6-91bd-85cfe32a457d"
      },
      "source": [
        "loan_df.corr()"
      ],
      "execution_count": 6,
      "outputs": [
        {
          "output_type": "execute_result",
          "data": {
            "text/html": [
              "<div>\n",
              "<style scoped>\n",
              "    .dataframe tbody tr th:only-of-type {\n",
              "        vertical-align: middle;\n",
              "    }\n",
              "\n",
              "    .dataframe tbody tr th {\n",
              "        vertical-align: top;\n",
              "    }\n",
              "\n",
              "    .dataframe thead th {\n",
              "        text-align: right;\n",
              "    }\n",
              "</style>\n",
              "<table border=\"1\" class=\"dataframe\">\n",
              "  <thead>\n",
              "    <tr style=\"text-align: right;\">\n",
              "      <th></th>\n",
              "      <th>fico_score</th>\n",
              "      <th>loan_total</th>\n",
              "      <th>default_total</th>\n",
              "      <th>dti</th>\n",
              "      <th>avg_loan_amnt</th>\n",
              "      <th>median_annual_inc</th>\n",
              "      <th>avg_annual_inc</th>\n",
              "      <th>int_rate</th>\n",
              "      <th>default_rate</th>\n",
              "      <th>actual_default_rate</th>\n",
              "    </tr>\n",
              "  </thead>\n",
              "  <tbody>\n",
              "    <tr>\n",
              "      <th>fico_score</th>\n",
              "      <td>1.000000</td>\n",
              "      <td>0.067153</td>\n",
              "      <td>-0.886782</td>\n",
              "      <td>-0.923870</td>\n",
              "      <td>0.685468</td>\n",
              "      <td>0.906772</td>\n",
              "      <td>0.927058</td>\n",
              "      <td>-0.969029</td>\n",
              "      <td>-0.886782</td>\n",
              "      <td>-0.886782</td>\n",
              "    </tr>\n",
              "    <tr>\n",
              "      <th>loan_total</th>\n",
              "      <td>0.067153</td>\n",
              "      <td>1.000000</td>\n",
              "      <td>-0.146124</td>\n",
              "      <td>0.141039</td>\n",
              "      <td>-0.475837</td>\n",
              "      <td>-0.151144</td>\n",
              "      <td>-0.094418</td>\n",
              "      <td>0.113229</td>\n",
              "      <td>-0.146124</td>\n",
              "      <td>-0.146124</td>\n",
              "    </tr>\n",
              "    <tr>\n",
              "      <th>default_total</th>\n",
              "      <td>-0.886782</td>\n",
              "      <td>-0.146124</td>\n",
              "      <td>1.000000</td>\n",
              "      <td>0.845046</td>\n",
              "      <td>-0.443113</td>\n",
              "      <td>-0.717776</td>\n",
              "      <td>-0.741849</td>\n",
              "      <td>0.850278</td>\n",
              "      <td>1.000000</td>\n",
              "      <td>1.000000</td>\n",
              "    </tr>\n",
              "    <tr>\n",
              "      <th>dti</th>\n",
              "      <td>-0.923870</td>\n",
              "      <td>0.141039</td>\n",
              "      <td>0.845046</td>\n",
              "      <td>1.000000</td>\n",
              "      <td>-0.783764</td>\n",
              "      <td>-0.899118</td>\n",
              "      <td>-0.897630</td>\n",
              "      <td>0.962789</td>\n",
              "      <td>0.845046</td>\n",
              "      <td>0.845046</td>\n",
              "    </tr>\n",
              "    <tr>\n",
              "      <th>avg_loan_amnt</th>\n",
              "      <td>0.685468</td>\n",
              "      <td>-0.475837</td>\n",
              "      <td>-0.443113</td>\n",
              "      <td>-0.783764</td>\n",
              "      <td>1.000000</td>\n",
              "      <td>0.855159</td>\n",
              "      <td>0.832335</td>\n",
              "      <td>-0.803379</td>\n",
              "      <td>-0.443113</td>\n",
              "      <td>-0.443113</td>\n",
              "    </tr>\n",
              "    <tr>\n",
              "      <th>median_annual_inc</th>\n",
              "      <td>0.906772</td>\n",
              "      <td>-0.151144</td>\n",
              "      <td>-0.717776</td>\n",
              "      <td>-0.899118</td>\n",
              "      <td>0.855159</td>\n",
              "      <td>1.000000</td>\n",
              "      <td>0.991677</td>\n",
              "      <td>-0.945029</td>\n",
              "      <td>-0.717776</td>\n",
              "      <td>-0.717776</td>\n",
              "    </tr>\n",
              "    <tr>\n",
              "      <th>avg_annual_inc</th>\n",
              "      <td>0.927058</td>\n",
              "      <td>-0.094418</td>\n",
              "      <td>-0.741849</td>\n",
              "      <td>-0.897630</td>\n",
              "      <td>0.832335</td>\n",
              "      <td>0.991677</td>\n",
              "      <td>1.000000</td>\n",
              "      <td>-0.946145</td>\n",
              "      <td>-0.741849</td>\n",
              "      <td>-0.741849</td>\n",
              "    </tr>\n",
              "    <tr>\n",
              "      <th>int_rate</th>\n",
              "      <td>-0.969029</td>\n",
              "      <td>0.113229</td>\n",
              "      <td>0.850278</td>\n",
              "      <td>0.962789</td>\n",
              "      <td>-0.803379</td>\n",
              "      <td>-0.945029</td>\n",
              "      <td>-0.946145</td>\n",
              "      <td>1.000000</td>\n",
              "      <td>0.850278</td>\n",
              "      <td>0.850278</td>\n",
              "    </tr>\n",
              "    <tr>\n",
              "      <th>default_rate</th>\n",
              "      <td>-0.886782</td>\n",
              "      <td>-0.146124</td>\n",
              "      <td>1.000000</td>\n",
              "      <td>0.845046</td>\n",
              "      <td>-0.443113</td>\n",
              "      <td>-0.717776</td>\n",
              "      <td>-0.741849</td>\n",
              "      <td>0.850278</td>\n",
              "      <td>1.000000</td>\n",
              "      <td>1.000000</td>\n",
              "    </tr>\n",
              "    <tr>\n",
              "      <th>actual_default_rate</th>\n",
              "      <td>-0.886782</td>\n",
              "      <td>-0.146124</td>\n",
              "      <td>1.000000</td>\n",
              "      <td>0.845046</td>\n",
              "      <td>-0.443113</td>\n",
              "      <td>-0.717776</td>\n",
              "      <td>-0.741849</td>\n",
              "      <td>0.850278</td>\n",
              "      <td>1.000000</td>\n",
              "      <td>1.000000</td>\n",
              "    </tr>\n",
              "  </tbody>\n",
              "</table>\n",
              "</div>"
            ],
            "text/plain": [
              "                     fico_score  loan_total  ...  default_rate  actual_default_rate\n",
              "fico_score             1.000000    0.067153  ...     -0.886782            -0.886782\n",
              "loan_total             0.067153    1.000000  ...     -0.146124            -0.146124\n",
              "default_total         -0.886782   -0.146124  ...      1.000000             1.000000\n",
              "dti                   -0.923870    0.141039  ...      0.845046             0.845046\n",
              "avg_loan_amnt          0.685468   -0.475837  ...     -0.443113            -0.443113\n",
              "median_annual_inc      0.906772   -0.151144  ...     -0.717776            -0.717776\n",
              "avg_annual_inc         0.927058   -0.094418  ...     -0.741849            -0.741849\n",
              "int_rate              -0.969029    0.113229  ...      0.850278             0.850278\n",
              "default_rate          -0.886782   -0.146124  ...      1.000000             1.000000\n",
              "actual_default_rate   -0.886782   -0.146124  ...      1.000000             1.000000\n",
              "\n",
              "[10 rows x 10 columns]"
            ]
          },
          "metadata": {
            "tags": []
          },
          "execution_count": 6
        }
      ]
    },
    {
      "cell_type": "markdown",
      "metadata": {
        "id": "BwsbQcSDLbM-"
      },
      "source": [
        "Pearson vs Spearman\n",
        "\n",
        "Pearson for srong linear relationship and both vars must be normally distributed.\n",
        "\n",
        "Spearman rank correlation non parametric test used to measure degree of association between two variables. Evaluates monotonic relation between continous and ordinal variable(like fico score bucket). It doesn't have any assumption on underlying distribution of data.\n",
        "\n"
      ]
    },
    {
      "cell_type": "code",
      "metadata": {
        "colab": {
          "base_uri": "https://localhost:8080/",
          "height": 352
        },
        "id": "kXQW1MsjHX-j",
        "outputId": "88d620f0-c103-481d-e168-fd07fa6a8a45"
      },
      "source": [
        "loan_df.corr(method=\"spearman\")"
      ],
      "execution_count": 8,
      "outputs": [
        {
          "output_type": "execute_result",
          "data": {
            "text/html": [
              "<div>\n",
              "<style scoped>\n",
              "    .dataframe tbody tr th:only-of-type {\n",
              "        vertical-align: middle;\n",
              "    }\n",
              "\n",
              "    .dataframe tbody tr th {\n",
              "        vertical-align: top;\n",
              "    }\n",
              "\n",
              "    .dataframe thead th {\n",
              "        text-align: right;\n",
              "    }\n",
              "</style>\n",
              "<table border=\"1\" class=\"dataframe\">\n",
              "  <thead>\n",
              "    <tr style=\"text-align: right;\">\n",
              "      <th></th>\n",
              "      <th>fico_score</th>\n",
              "      <th>loan_total</th>\n",
              "      <th>default_total</th>\n",
              "      <th>dti</th>\n",
              "      <th>avg_loan_amnt</th>\n",
              "      <th>median_annual_inc</th>\n",
              "      <th>avg_annual_inc</th>\n",
              "      <th>int_rate</th>\n",
              "      <th>default_rate</th>\n",
              "      <th>actual_default_rate</th>\n",
              "    </tr>\n",
              "  </thead>\n",
              "  <tbody>\n",
              "    <tr>\n",
              "      <th>fico_score</th>\n",
              "      <td>1.000000</td>\n",
              "      <td>0.043243</td>\n",
              "      <td>-0.939511</td>\n",
              "      <td>-0.936422</td>\n",
              "      <td>0.661261</td>\n",
              "      <td>0.956772</td>\n",
              "      <td>0.966281</td>\n",
              "      <td>-0.997169</td>\n",
              "      <td>-0.939511</td>\n",
              "      <td>-0.939511</td>\n",
              "    </tr>\n",
              "    <tr>\n",
              "      <th>loan_total</th>\n",
              "      <td>0.043243</td>\n",
              "      <td>1.000000</td>\n",
              "      <td>0.077992</td>\n",
              "      <td>0.029344</td>\n",
              "      <td>-0.344916</td>\n",
              "      <td>0.035934</td>\n",
              "      <td>0.048649</td>\n",
              "      <td>-0.035006</td>\n",
              "      <td>0.077992</td>\n",
              "      <td>0.077992</td>\n",
              "    </tr>\n",
              "    <tr>\n",
              "      <th>default_total</th>\n",
              "      <td>-0.939511</td>\n",
              "      <td>0.077992</td>\n",
              "      <td>1.000000</td>\n",
              "      <td>0.967310</td>\n",
              "      <td>-0.601544</td>\n",
              "      <td>-0.889429</td>\n",
              "      <td>-0.899871</td>\n",
              "      <td>0.950322</td>\n",
              "      <td>1.000000</td>\n",
              "      <td>1.000000</td>\n",
              "    </tr>\n",
              "    <tr>\n",
              "      <th>dti</th>\n",
              "      <td>-0.936422</td>\n",
              "      <td>0.029344</td>\n",
              "      <td>0.967310</td>\n",
              "      <td>1.000000</td>\n",
              "      <td>-0.576577</td>\n",
              "      <td>-0.877666</td>\n",
              "      <td>-0.890862</td>\n",
              "      <td>0.937709</td>\n",
              "      <td>0.967310</td>\n",
              "      <td>0.967310</td>\n",
              "    </tr>\n",
              "    <tr>\n",
              "      <th>avg_loan_amnt</th>\n",
              "      <td>0.661261</td>\n",
              "      <td>-0.344916</td>\n",
              "      <td>-0.601544</td>\n",
              "      <td>-0.576577</td>\n",
              "      <td>1.000000</td>\n",
              "      <td>0.750476</td>\n",
              "      <td>0.711969</td>\n",
              "      <td>-0.656371</td>\n",
              "      <td>-0.601544</td>\n",
              "      <td>-0.601544</td>\n",
              "    </tr>\n",
              "    <tr>\n",
              "      <th>median_annual_inc</th>\n",
              "      <td>0.956772</td>\n",
              "      <td>0.035934</td>\n",
              "      <td>-0.889429</td>\n",
              "      <td>-0.877666</td>\n",
              "      <td>0.750476</td>\n",
              "      <td>1.000000</td>\n",
              "      <td>0.979263</td>\n",
              "      <td>-0.955868</td>\n",
              "      <td>-0.889429</td>\n",
              "      <td>-0.889429</td>\n",
              "    </tr>\n",
              "    <tr>\n",
              "      <th>avg_annual_inc</th>\n",
              "      <td>0.966281</td>\n",
              "      <td>0.048649</td>\n",
              "      <td>-0.899871</td>\n",
              "      <td>-0.890862</td>\n",
              "      <td>0.711969</td>\n",
              "      <td>0.979263</td>\n",
              "      <td>1.000000</td>\n",
              "      <td>-0.966795</td>\n",
              "      <td>-0.899871</td>\n",
              "      <td>-0.899871</td>\n",
              "    </tr>\n",
              "    <tr>\n",
              "      <th>int_rate</th>\n",
              "      <td>-0.997169</td>\n",
              "      <td>-0.035006</td>\n",
              "      <td>0.950322</td>\n",
              "      <td>0.937709</td>\n",
              "      <td>-0.656371</td>\n",
              "      <td>-0.955868</td>\n",
              "      <td>-0.966795</td>\n",
              "      <td>1.000000</td>\n",
              "      <td>0.950322</td>\n",
              "      <td>0.950322</td>\n",
              "    </tr>\n",
              "    <tr>\n",
              "      <th>default_rate</th>\n",
              "      <td>-0.939511</td>\n",
              "      <td>0.077992</td>\n",
              "      <td>1.000000</td>\n",
              "      <td>0.967310</td>\n",
              "      <td>-0.601544</td>\n",
              "      <td>-0.889429</td>\n",
              "      <td>-0.899871</td>\n",
              "      <td>0.950322</td>\n",
              "      <td>1.000000</td>\n",
              "      <td>1.000000</td>\n",
              "    </tr>\n",
              "    <tr>\n",
              "      <th>actual_default_rate</th>\n",
              "      <td>-0.939511</td>\n",
              "      <td>0.077992</td>\n",
              "      <td>1.000000</td>\n",
              "      <td>0.967310</td>\n",
              "      <td>-0.601544</td>\n",
              "      <td>-0.889429</td>\n",
              "      <td>-0.899871</td>\n",
              "      <td>0.950322</td>\n",
              "      <td>1.000000</td>\n",
              "      <td>1.000000</td>\n",
              "    </tr>\n",
              "  </tbody>\n",
              "</table>\n",
              "</div>"
            ],
            "text/plain": [
              "                     fico_score  loan_total  ...  default_rate  actual_default_rate\n",
              "fico_score             1.000000    0.043243  ...     -0.939511            -0.939511\n",
              "loan_total             0.043243    1.000000  ...      0.077992             0.077992\n",
              "default_total         -0.939511    0.077992  ...      1.000000             1.000000\n",
              "dti                   -0.936422    0.029344  ...      0.967310             0.967310\n",
              "avg_loan_amnt          0.661261   -0.344916  ...     -0.601544            -0.601544\n",
              "median_annual_inc      0.956772    0.035934  ...     -0.889429            -0.889429\n",
              "avg_annual_inc         0.966281    0.048649  ...     -0.899871            -0.899871\n",
              "int_rate              -0.997169   -0.035006  ...      0.950322             0.950322\n",
              "default_rate          -0.939511    0.077992  ...      1.000000             1.000000\n",
              "actual_default_rate   -0.939511    0.077992  ...      1.000000             1.000000\n",
              "\n",
              "[10 rows x 10 columns]"
            ]
          },
          "metadata": {
            "tags": []
          },
          "execution_count": 8
        }
      ]
    },
    {
      "cell_type": "markdown",
      "metadata": {
        "id": "45Odyn2TMm73"
      },
      "source": [
        "Slightly right skewed"
      ]
    },
    {
      "cell_type": "code",
      "metadata": {
        "colab": {
          "base_uri": "https://localhost:8080/",
          "height": 348
        },
        "id": "jW-EvecHHYC_",
        "outputId": "74362f0e-d833-4001-823a-1aa35414224c"
      },
      "source": [
        "sns.distplot(a=loan_df[\"median_annual_inc\"], hist=True)"
      ],
      "execution_count": 11,
      "outputs": [
        {
          "output_type": "stream",
          "text": [
            "/usr/local/lib/python3.7/dist-packages/seaborn/distributions.py:2557: FutureWarning: `distplot` is a deprecated function and will be removed in a future version. Please adapt your code to use either `displot` (a figure-level function with similar flexibility) or `histplot` (an axes-level function for histograms).\n",
            "  warnings.warn(msg, FutureWarning)\n"
          ],
          "name": "stderr"
        },
        {
          "output_type": "execute_result",
          "data": {
            "text/plain": [
              "<matplotlib.axes._subplots.AxesSubplot at 0x7f07e636b310>"
            ]
          },
          "metadata": {
            "tags": []
          },
          "execution_count": 11
        },
        {
          "output_type": "display_data",
          "data": {
            "image/png": "[encoded data removed]",
            "text/plain": [
              "<Figure size 432x288 with 1 Axes>"
            ]
          },
          "metadata": {
            "tags": [],
            "needs_background": "light"
          }
        }
      ]
    },
    {
      "cell_type": "markdown",
      "metadata": {
        "id": "9-RE_UVqNFnA"
      },
      "source": [
        "Strong positive relationship between fico score and (int_rate, dti, annual income). Approximately linear"
      ]
    },
    {
      "cell_type": "code",
      "metadata": {
        "colab": {
          "base_uri": "https://localhost:8080/",
          "height": 298
        },
        "id": "_OojFSWFHYIU",
        "outputId": "c22ba201-faf2-499f-ca09-eb60f8a359e3"
      },
      "source": [
        "sns.regplot(x=\"fico_score\", y=\"median_annual_inc\", data=loan_df)"
      ],
      "execution_count": 13,
      "outputs": [
        {
          "output_type": "execute_result",
          "data": {
            "text/plain": [
              "<matplotlib.axes._subplots.AxesSubplot at 0x7f07e5a76c90>"
            ]
          },
          "metadata": {
            "tags": []
          },
          "execution_count": 13
        },
        {
          "output_type": "display_data",
          "data": {
            "image/png": "[encoded data removed]",
            "text/plain": [
              "<Figure size 432x288 with 1 Axes>"
            ]
          },
          "metadata": {
            "tags": [],
            "needs_background": "light"
          }
        }
      ]
    },
    {
      "cell_type": "code",
      "metadata": {
        "colab": {
          "base_uri": "https://localhost:8080/",
          "height": 297
        },
        "id": "v_MRNKUNNAbG",
        "outputId": "99f984e8-516b-4819-dac7-d75845a7bc7e"
      },
      "source": [
        "sns.regplot(x=\"fico_score\", y=\"avg_annual_inc\", data=loan_df)"
      ],
      "execution_count": 15,
      "outputs": [
        {
          "output_type": "execute_result",
          "data": {
            "text/plain": [
              "<matplotlib.axes._subplots.AxesSubplot at 0x7f07e59f3bd0>"
            ]
          },
          "metadata": {
            "tags": []
          },
          "execution_count": 15
        },
        {
          "output_type": "display_data",
          "data": {
            "image/png": "[encoded data removed]",
            "text/plain": [
              "<Figure size 432x288 with 1 Axes>"
            ]
          },
          "metadata": {
            "tags": [],
            "needs_background": "light"
          }
        }
      ]
    },
    {
      "cell_type": "code",
      "metadata": {
        "colab": {
          "base_uri": "https://localhost:8080/",
          "height": 295
        },
        "id": "OmYjIVwhNY0U",
        "outputId": "b5b79d4b-b22f-4737-c778-a5e6cd45af90"
      },
      "source": [
        "sns.regplot(x=\"fico_score\", y=\"dti\", data=loan_df)"
      ],
      "execution_count": 16,
      "outputs": [
        {
          "output_type": "execute_result",
          "data": {
            "text/plain": [
              "<matplotlib.axes._subplots.AxesSubplot at 0x7f07e5b1b5d0>"
            ]
          },
          "metadata": {
            "tags": []
          },
          "execution_count": 16
        },
        {
          "output_type": "display_data",
          "data": {
            "image/png": "[encoded data removed]",
            "text/plain": [
              "<Figure size 432x288 with 1 Axes>"
            ]
          },
          "metadata": {
            "tags": [],
            "needs_background": "light"
          }
        }
      ]
    },
    {
      "cell_type": "code",
      "metadata": {
        "colab": {
          "base_uri": "https://localhost:8080/",
          "height": 295
        },
        "id": "HJlKdS7GNl8h",
        "outputId": "ff5ac728-df88-4bae-beda-061b99471587"
      },
      "source": [
        "sns.regplot(x=\"fico_score\", y=\"int_rate\", data=loan_df)"
      ],
      "execution_count": 17,
      "outputs": [
        {
          "output_type": "execute_result",
          "data": {
            "text/plain": [
              "<matplotlib.axes._subplots.AxesSubplot at 0x7f07e59f3810>"
            ]
          },
          "metadata": {
            "tags": []
          },
          "execution_count": 17
        },
        {
          "output_type": "display_data",
          "data": {
            "image/png": "[encoded data removed]",
            "text/plain": [
              "<Figure size 432x288 with 1 Axes>"
            ]
          },
          "metadata": {
            "tags": [],
            "needs_background": "light"
          }
        }
      ]
    },
    {
      "cell_type": "markdown",
      "metadata": {
        "id": "qlm_kRdYOLBU"
      },
      "source": [
        "Probability plot or Q-Q plot considers quartiles at both ends.\n",
        "\n",
        "If all the points lie on the straight line then its perfectly normal. Features like height , weight , age and other bio markers are usually normal distributed but others are not"
      ]
    },
    {
      "cell_type": "code",
      "metadata": {
        "colab": {
          "base_uri": "https://localhost:8080/",
          "height": 574
        },
        "id": "at-LQbnJN5dL",
        "outputId": "0e81b824-9622-4da8-c077-2444f35f96ce"
      },
      "source": [
        "stats.probplot(loan_df[\"int_rate\"], dist=\"norm\", plot=plt)"
      ],
      "execution_count": 18,
      "outputs": [
        {
          "output_type": "execute_result",
          "data": {
            "text/plain": [
              "((array([-2.07334886, -1.68217954, -1.44830429, -1.27437681, -1.13225357,\n",
              "         -1.00993636, -0.90112151, -0.80205412, -0.71029762, -0.62416759,\n",
              "         -0.54243995, -0.46418751, -0.38868208, -0.31533241, -0.24364313,\n",
              "         -0.17318609, -0.10357945, -0.03447167,  0.03447167,  0.10357945,\n",
              "          0.17318609,  0.24364313,  0.31533241,  0.38868208,  0.46418751,\n",
              "          0.54243995,  0.62416759,  0.71029762,  0.80205412,  0.90112151,\n",
              "          1.00993636,  1.13225357,  1.27437681,  1.44830429,  1.68217954,\n",
              "          2.07334886]),\n",
              "  array([ 7.58556196,  7.96854839,  8.00050755,  8.40436779,  8.81612608,\n",
              "          9.17925418,  9.54207879,  9.94439109, 10.17342593, 10.54704384,\n",
              "         10.83639354, 11.07060021, 11.40585966, 11.84989813, 12.19602541,\n",
              "         12.64158738, 12.99737662, 13.36212073, 13.75097687, 13.84232878,\n",
              "         13.93910593, 13.99130432, 14.13094166, 14.38872081, 14.45885661,\n",
              "         14.56445333, 14.71287103, 14.79158065, 14.83095961, 14.93735761,\n",
              "         15.04821175, 15.27102165, 15.31245098, 15.35228452, 15.4402116 ,\n",
              "         15.44901129])),\n",
              " (2.5196349375983393, 12.520383785694445, 0.9516744621680466))"
            ]
          },
          "metadata": {
            "tags": []
          },
          "execution_count": 18
        },
        {
          "output_type": "display_data",
          "data": {
            "image/png": "[encoded data removed]",
            "text/plain": [
              "<Figure size 432x288 with 1 Axes>"
            ]
          },
          "metadata": {
            "tags": [],
            "needs_background": "light"
          }
        }
      ]
    },
    {
      "cell_type": "markdown",
      "metadata": {
        "id": "1DW4FM7SRLqq"
      },
      "source": [
        "* The correlation shows almost no relation ship existing\n",
        "\n",
        "* Data is very curvy in reg plot and shows no linear relation ship. Maybe requires polynomial or complex model.\n",
        "\n",
        "* Looks like 4th order polynomial. Hnadled in next class on polynomial modelling\n",
        "\n",
        "![image.png](data:image/png;base64,iVBORw0KGgoAAAANSUhEUgAAAUIAAADpCAYAAABRAT4FAAAYTGlDQ1BJQ0MgUHJvZmlsZQAAWIWVWQk4lN3bP8/sM/YZ+77vZN/3fd93EsY2thhrKJFkK1EhSiVZK5VCJSItSll6SZJIlkqhorLkeyz1f//ve13fd31nrvM8v7nPfe7trPcMAFz7fSMjwxCMAIRHxFAdTA343dw9+LGTAII/OPiD9CVHR+rb2VkBuPx+/3dZGoR54fJcZkPWv9v/18LkHxBNBgCyg7GffzQ5HMbXAUClkyOpMQBg1GC6UHxM5Ab2gjEzFTYQxpEbOGgLp29gvy1cvMnj5GAI44sA4Gh9falBANA3w3T+OHIQLId+CG4jRvhTImDWWRjrkIN9/QHgkoZ5pMPDd29gNxiL+/1NTtB/yfT7I9PXN+gP3vJls+CMKNGRYb57/p/h+L9LeFjsbx2icKUNppo5bPgMx20odLflBqaF8WyEn40tjIkw/kHx3+SHMYIQHGvmvMWP4CZHG8IxA6wwlvP3NbKEMTeMTSLCbKy26X6BFBNzGMMzBJFAiTF32u6bGRBt7Lgt8xR1t4PtbxxINdTf7nvZl7qpd4O/MzbUWX9b/lBwgPlv+d8Sg51ct2xGEuIoLjYwpocxa3Soo+UWD1I4MdjQ5jcPNdZhw35hGGsERJgabMlHegdSTRy2+anh0b/9RWYGU8xttnFJTLCT2baci2TfTfvZYdwcEKHv/FtOQLSb1W9f/AOMjLd8R/YGRDhv+4sci4wxcNju+yUyzG6bH0UICDPdoAvCmDs6znG7L0onBp6QW/JRNpExdk5bdqL8Qnwt7LbsQSUAK2AIjAA/iIWrH9gNQgDl2WzTLPxtq8UE+AIqCAIBQGab8ruH62ZLBPx0BIngE4wCQPSffgabrQEgDqav/aFuPWVA4GZr3GaPUDAF43BgCcLg77GbvSL+aHMB72AK5V/aybCtYXDdaPs3TR+mWG1TYn/L5Wf4zYkxxhhhzDAmGAkUJ0oHpYmygp96cFVAqaHUf1v7H370FLoP/RY9gB5Dv9xFSaP+wx9+YA3GYA0m2z77/d1nlCgsVRllgNKG5cOyUawoTiCDUoI16aN0Yd3KMNVw2/IN7/8p+798+FvUt/nwcngEng2vhxf/Z096SXrlP1I2Yvr3CG3Z6vcnroZ/Wv6p3/BvkfaH35b/5ERmIhuQD5HtyC5kC7IJ8CPbkM3IbuSdDfxnFr3bnEW/tTls2hMKy6H8S5/vts6NSEbL1cm9l1vdaosJSIjZWGCGuyP3UClBwTH8+vDOH8BvHkGWleZXkFOQB2DjHNnapr46bJ4PEGvPf2jkgwCozgOAX/4PLfwrAFcI8DZq/R+aiDe8zDAAVE+RY6lxWzTUxgMNCIABXlEcgBcIAXHYHwWgAjSBHjAGFsAWOAF34A1HORiez1QQD5JBKsgAOeAoOAFKwBlwHlSDS+AaaAItoB08AE9ALxgAr+DZMwk+gnmwBFYgCMJCdBAJ4oD4IBFIClKA1CAdyBiyghwgd8gHCoIioFgoGToA5UAFUAl0DqqBrkI3oXaoC+qDXkLj0HvoC7SMQCJoEcwIHoQoYgdCDaGPsEQ4IXYighBRiEREOuIIohhRjriIaES0I54gBhBjiI+IRSRA0iBZkQJIGaQa0hBpi/RABiKpyH3IbGQhshx5GXkLHufnyDHkLPInCoMiofhRMvAMNkM5o8ioKNQ+VC6qBFWNakR1op6jxlHzqF9oOjQ3WgqtgTZHu6GD0PHoDHQhuhJ9A30fXk2T6CUMBsOKEcOowqvRHROCScLkYk5j6jF3MX2YCcwiFovlwEphtbG2WF9sDDYDexJ7EduG7cdOYn/gaHB8OAWcCc4DF4FLwxXianGtuH7cNG4Fz4gXwWvgbfH++D34PHwF/ha+Bz+JXyEwEcQI2gQnQgghlVBMuEy4TxghfKWhoRGkUaexp6HQ7KcpprlC84hmnOYnLZFWktaQ1os2lvYIbRXtXdqXtF/p6OhE6fToPOhi6I7Q1dDdoxul+0FPopelN6f3p0+hL6VvpO+n/8yAZxBh0GfwZkhkKGRoYOhhmGXEM4oyGjL6Mu5jLGW8yfiCcZGJxCTPZMsUzpTLVMvUxTRDxBJFicZEf2I68TzxHnGChCQJkQxJZNIBUgXpPmmSGcMsxmzOHMKcw3yJ+RnzPAuRRYnFhSWBpZTlDssYK5JVlNWcNYw1j/Ua6yDrMhsPmz5bAFsW22W2frbv7FzseuwB7Nns9ewD7Msc/BzGHKEc+RxNHK85UZySnPac8ZxlnPc5Z7mYuTS5yFzZXNe4hrkR3JLcDtxJ3Oe5u7kXeXh5THkieU7y3OOZ5WXl1eMN4T3O28r7no/Ep8NH4TvO18b3gZ+FX58/jL+Yv5N/XoBbwEwgVuCcwDOBFUExQWfBNMF6wddCBCE1oUCh40IdQvPCfMLWwsnCdcLDIngRNZFgkSKRhyLfRcVEXUUPiTaJzoixi5mLJYrViY2I04nrikeJl4v/JYGRUJMIlTgt0SuJkFSWDJYsleyRQkipSFGkTkv1SaOl1aUjpMulX8jQyujLxMnUyYzLsspayabJNsl+3iG8w2NH/o6HO37JKcuFyVXIvZInylvIp8nfkv+iIKlAVihV+EuRTtFEMUWxWXFBSUopQKlMaUiZpGytfEi5Q3lNRVWFqnJZ5b2qsKqP6inVF2rManZquWqP1NHqBuop6i3qPzVUNGI0rmnMacpohmrWas5oiWkFaFVoTWgLavtqn9Me0+HX8dE5qzOmK6Drq1uu+1ZPSM9fr1JvWl9CP0T/ov5nAzkDqsENg++GGoZ7De8aIY1MjbKNnhkTjZ2NS4xHTQRNgkzqTOZNlU2TTO+aoc0szfLNXpjzmJPNa8znLVQt9lp0WtJaOlqWWL61krSiWt2yRlhbWB+zHrERsYmwabIFtua2x2xf24nZRdndtsfY29mX2k85yDskOzx0JDnucqx1XHIycMpzeuUs7hzr3OHC4OLlUuPy3dXItcB1zG2H2163J+6c7hT3Zg+sh4tHpceip7HnCc9JL2WvDK/BnWI7E3Z2eXN6h3nf2cWwy3dXgw/ax9Wn1mfV19a33HfRz9zvlN882ZBcRP7or+d/3P99gHZAQcB0oHZgQeBMkHbQsaD3wbrBhcGzFENKCWUhxCzkTMj3UNvQqtD1MNew+nBcuE/4zQhiRGhE527e3Qm7+yKlIjMix6I0ok5EzVMtqZXRUPTO6OYYZvjC3h0rHnswdjxOJ6407ke8S3xDAlNCREL3Hsk9WXumE00SLyShkshJHckCyanJ43v1957bB+3z29eRIpSSnjK533R/dSohNTT1aZpcWkHatwOuB26l86TvT584aHqwLoM+g5rx4pDmoTOZqExK5rMsxayTWb+y/bMf58jlFOas5pJzHx+WP1x8eP1I4JFneSp5ZUcxRyOODubr5lcXMBUkFkwcsz7WeJz/ePbxbyd2negqVCo8U0Qoii0aK7Yqbj4pfPLoydWS4JKBUoPS+lPcp7JOfT/tf7q/TK/s8hmeMzlnls9Szg6dMz3XWC5aXngecz7u/FSFS8XDC2oXaio5K3Mq16oiqsaqHao7a1Rramq5a/PqEHWxde8vel3svWR0qfmyzOVz9az1OVfAldgrH676XB28Znmto0Gt4fJ1keunbpBuZDdCjXsa55uCm8aa3Zv7blrc7LileevGbdnbVS0CLaV3WO7ktRJa01vX2xLbFu9G3p1tD2qf6NjV8eqe272/Ou07n923vP/ogcmDew/1H7Y90n7U0qXRdfOx2uOmJypPGruVu288VX5645nKs8Ye1Z7mXvXeW31afa39uv3tz42eP/jL/K8nAzYDfYPOg0MvvF6MDfkPzbwMe7kwHDe88mr/CHok+zXj68JR7tHyNxJv6sdUxu6MG413v3V8+2qCPPHxXfS71cn0Kbqpwmm+6ZoZhZmW9ybvez94fpj8GPlxZTbjE9OnU5/FP1+f05vrnnebn1ygLqx/yf3K8bXqm9K3jkW7xdGl8KWV79k/OH5U/1T7+XDZdXl6JX4Vu1q8JrF265flr5H18PX1SF+q7+ZVAAlXRGAgAF+qAKBzB4DUCwDBcyvP2y5I+PKBgN8ukCz0EZEOn6g9qAy0CQaJeYItxkXgrQgSNFiaWdp+uib6KoZKxnqmZmIH6QlzL8sQ6xu2GfaPHAucy1xrPAheLB+Bn06AKEgUYhVmF2ETZRfjFueR4JfklxKUFpYRlRXbIS0nJ6+ooKKooaSrbKxirmquZqJuomGiaailr62lo6GrpCerL2rAY8hsRDBaN/5qMmX60qzbvMWi2vKYVYp1iI2brbGdsr2YA5cjoxPOGekCuSLcUO54D0ZPDi/hnTLeEruEffh8Of1YyCR/YgApkDWIK1iQIh2iGmoS5hJOiUjeXRBZEXWWWhydH5MbmxWXHX8koXhPdWJr0qu9YJ90yq79J1NfHRBM332w/RAmUyhLIdsgxzE38HDikfy86qN384cLFo8znZAptCgKLD5wsqzkZmn/qXenF89gz3KckyzXOm9b4XchpvJgVWF1dc3N2sd1wxc/XPpZj7vCdlX8mm6D+/WoG1mNp5vqm9tudt3qud3b8uROR+vVttK7Ke27OjTuEe9Ndd68X/vg1MOcRwldfo/Nn8h203fPPr3/7FRPZK9BH6lvov/a89S/7AdEBlGD7190D9W/LBiOeeUyovaa8/Xq6Oib9rEL41lvd084v9OaFIZn2dL0XzPX3xd9SPkYNkv+RP4cOZczf2Nh7qvet3NLpO/FP6WWn62m/NJYX//b+CsgZ1AFaEsMC+Y1tgGXiw8iGNFI0jLQrtJN0w8xDDG+YXpH/ET6yrzEssa6wrbG/otjjXOJ6yv3HM8U7whfP/99gZuClUI5wmEiVqKSYnixD+JdEjWS2VIUaUsZGVk62bkdfXLX5YsUkhXJSvbKBioKqgJqRLV19c8aI5pdWo3a5Tq5uvF6PvoWBgqGnEYIo/fGz0yumOabRZs7WahYslmuWL2xvmdTa5tvl2Qf6ODoqO8k7yzgQnLFui67fXQf8ej2vONVv/Os97Fdh3ySfal+FLKvv0eAU6B9kE2wJcUyxCxUM0w2XCCCZTdNJCJyNeoH9Wf0Wiw6jhgvlKCxxykxOqkwuWXvVArNfr5UmTTtAzbpfgfjMw4fqsxsyxrO/p7LfFjhiH1exNHD+XUFj469O75eyFmkXGx3MrTkYOmZU82ne8tmzvw6x1wucV67wu4CuTK26lB1MbzPddfNXSJeVqx3vBJ1Ne9aXUPn9ZEbX5owzRw3JW9p3LZocbsT2BrTlnI3tf1Ax8F7GZ2H7mc+yH6Y++hw1+HHh58c7s59mvMsq+dQb3pfav/e53F/RQ3sHox8ETOU9PLg8LFX5SMNrx+MvnzzaRy8JU4IvpOf1Jkyn/abOfv+00fl2aRPrZ9/zWsuxH25/PXdIvuS5feUHw0/p1e4Vx3Wsn91bo+/MUIfuQP5GdWOPoRxxIpjF3A38RkEBxpumlHa83Th9OoMCIZ2xnQmCyIDsZd0lNmWhYHlKWs2mwk7xN7MEcEpxDnElcOtw/2Jp5TXjPcbXxm/Gf9ngeOCGoIjQnuF+YVbRbxFVkWLxZTEusUDxFcljklKSbZJOUpNSafKiMgMyebuMNjxTa5K3lOBTqFNMVJJQKlfOU1FQWVcNU9NW+2TeqmGucai5nkte61f2nU67rpY3Rt6ZH2i/l2DSEN+w16jNGMl42mTElNb+N5x2zzKQsrinWWZlYc1q/VzmwJbBzuS3aD9SQdvR2HHD05XnRNdjF0ZXIfdKt2jPQw8aT0Hvc7sDPZW8F7Zdd8n39fLT8JvidzpfyzAN1AxCBU0GFxLSQlxCpUOQ4e9Cb8VUbw7PtI1SoPKG42Kno0ZiG2Pq48vS8jbk5oYnxSa7L935z63FKf9Dqn2afYHHNKdDrpn7DwUkBmaFZ2dkpOZW3C47EhNXuPRe/l9BaPHPp9AFUoUeRUfPXm/ZOWU7Gm/shNnHp9dLVc4H1BRcqGnClWtVRNfW1/38ZLk5ZD62itz11Qa9l/vbuRoCmvuvMV3O6XlbatVW0u7fMfFTqn7Vx8aPBp+nNDN97S353Cf03PRATD4cejd8IfX4I3I+K6J2in0TOJH8KlinvxVd0ntp/Nq8cb4b/3et1EwKgCcOATAxu85DjUA5F4EQGwPAGxw7mlHB4CTOkAImAJosQNAFtp/zg8ITjwJgAR4gCRQA2ZwfhkG55RFoB50gQmwBrFDypAjFA2dgJqh13DOJ41wQaQi6hGjSAakATIeeQk5BWdpXqhS1Cs4E/NBX0B/wqhgUjHPsDzYcGwbjoSj4NrxnPhYfD9BkVBEWKUh0zylVaetpmOny6VH0CfRf2eIZVhiTGSCmLKJrMQKkhqplzmEBctygdWYdYotk12KvZcjhpODs5XLn5uG+xqPBy+S9xKfJ5wR9AnkCdoKMQk9Fy4S8RQVEJ0SuygeLaEhCUl2SeVLe8Kzc162f0eLXKV8gcI+RYqSo7KGCp8qpDqm1qJ+XCNEU1uLXmtEu0YnRldXD6fXp99gcN2wyeiWcavJPdMusx7zQYtRy2mrBesVW5wdq72og5qjlRPZOdml2LXVbcaD5KnvFbmz3HvAh+Cr75dEbvb/HqgWlBTcHkIIdQ6rCF/cbRZZFjUXrRWTEzsar5RwdM9Ckmvyg33aKa2plmkT6VkZ2pkgqy/nyuFTeQX5ZseQx+8X5hcHlBieki4TPCtSrlRhUxlVXVr75BKoV71q0+B+I7gp+eaJ29fu9LctdfB2mj2IeXT28bPutR6Zvp3PjwzcHSINk0cujc6Oc0+oTepNy7+n//Bi9sjnHXPtC2ZfOr8pLJYsLf+w/3lheWFVYy3l193N/WNr/Inw+EsAVWACXEEI2AeOgzrQCUbBD4gEyUE2UAR0FGqAXiIAQgLO8tMQVxFv4TzeCpmObEOuoLRRB1DdaHZ0ILoRg8d4YxqxjNgw7BOcNC4Pt4j3wj8gyBKKaJA0UTTjtM60j+kM6VrptejvwFnsI0Z7xlE4T10nHifJkp4yR8CZZzOrLxsNWzN7IAcrx0POPVzSXOPcRTy2vDjeDr79/AYCGIGngoVCvsKywqsi3aJlYlHixhJcEl8kH0udl06R8ZTV3CEhxy6Pl19VmFOcUHqh/FjltupFtRL1QxpUTU8tQ21JHUadRd1hvVb9eoOrhg1GTca3TdpMO80em/davLB8YzVtvWCzYoezZ3UQc1R3snb2d9nrWuJ2033YY81LcKeFd8yusz49fhBZxT8ioCZwKliUEhJyNXQ53DSicPdMlBZ1b3RbLCrOKr4oYSpRPelI8vQ+45TqVPq0PQem4f2kN9Mi62GOWW73EYe8sfyUY7zH7xYGFtOfbC71P00qe3B2b7nK+S8XrlbF1mjVYS4OXL5wJfma13WVRvqmiZvXbx+4Y9PGfne8o6aT+kDrEbZr8EnN0/09Xn06z0UGmAYfDTm/nHyV+Jp59NqY0/jqRPWk+zTDTNeHzFnLz4xzLxbOfg1ZVPmO+NGzXLoa9Etxe/yRAANoN3cAcaACzwA3EA4OgjPgNhiG178gZAHFQhXQIIIGYQSv/A4kDmmPPIP8grJAVaHxaCr6DcYJXu022AEcGfcTX0hQJ0zSnKTVox2hS6Lnp+9iiGeUZJxgOkP0I0mQvjM/ZCljTWLzZNfjkOJk56LhRnCv8izzrvIDASx8A+URlhXRFnUQCxLfL3FS8gacd8/LMu5QkHOV36dQodijtKIioequVqDer8ms5a5doTOnp61/2OCNkaJxjsm4mZZ5ocUXKzvrS7a0dmH2jx0lnXKcP7hauNV64D0pXg+9RXcd9Jn0MyRXBiAD/YPuUURDMkJnwq0i6iNZohKoYzFGsZfj2RP27fmY5AavU5WUqlSOtCPpqIPJGV8yPbKuZq/nOh2uOrJ81DH/8jHCccqJB0VSxbkn50pdT90pEz2TD+/9/ue7L2hWVlUz1STWTl10vNRSL3ol7+pSg/f1B40yTUeb52/Z3758h9Aa2NbaTuwIuNd4H/XA7mHpo4nHEk8o3ZVPx3s4e+37DvZff/52gDAo98JhiPryyHDNq3sjA6+nRhferI5Db7ETmHeYSTC5PPVpenTm6fvmD+UfM2cjPll/lprDzr2Zb17I+uLxVeLrl28ti2lLRt8x3zt/pPzU/LmwfGHFY5Ww2rhG/kX369q6+8b4RwcqKmweHxCtAQDo0fX1r6IAYAsAWMtfX18pX19fOw8nGyMA3A3b+g9p86xhBOAs1wbqu7L4r/9y/geXX9REBFRpFgAAAgRpVFh0WE1MOmNvbS5hZG9iZS54bXAAAAAAADx4OnhtcG1ldGEgeG1sbnM6eD0iYWRvYmU6bnM6bWV0YS8iIHg6eG1wdGs9IlhNUCBDb3JlIDUuNC4wIj4KICAgPHJkZjpSREYgeG1sbnM6cmRmPSJodHRwOi8vd3d3LnczLm9yZy8xOTk5LzAyLzIyLXJkZi1zeW50YXgtbnMjIj4KICAgICAgPHJkZjpEZXNjcmlwdGlvbiByZGY6YWJvdXQ9IiIKICAgICAgICAgICAgeG1sbnM6ZXhpZj0iaHR0cDovL25zLmFkb2JlLmNvbS9leGlmLzEuMC8iCiAgICAgICAgICAgIHhtbG5zOnRpZmY9Imh0dHA6Ly9ucy5hZG9iZS5jb20vdGlmZi8xLjAvIj4KICAgICAgICAgPGV4aWY6UGl4ZWxZRGltZW5zaW9uPjIzMzwvZXhpZjpQaXhlbFlEaW1lbnNpb24+CiAgICAgICAgIDxleGlmOlBpeGVsWERpbWVuc2lvbj4zMjI8L2V4aWY6UGl4ZWxYRGltZW5zaW9uPgogICAgICAgICA8dGlmZjpPcmllbnRhdGlvbj4xPC90aWZmOk9yaWVudGF0aW9uPgogICAgICA8L3JkZjpEZXNjcmlwdGlvbj4KICAgPC9yZGY6UkRGPgo8L3g6eG1wbWV0YT4KCB1yUQAAHrtJREFUeAHtXV/oLddZPddeVFo0hNLQmqb3Equ1jUg1TW5orAUxivQhJJckkELFlxAiWPAhhPjiizHkocSCMQZfrE2gjUmI0qeCNNZI7r25qVAp2IZyo4nWqpQiCAWb62+dX9Y538yZmTNzZvbe3957DZzfntmzZ+9vr2/PmrX/zPxOXD7aVtqEwAACjz3+xOqRhx9aXbp0acX9F89fWF191bsGruo+de7ououvfG116+23HXR9d66KFQLzEPiReZfr6toQACFim0OCuP75Z59bvfHd/8SuNiGQHAERYXIX+DfgvnvvWRsJNYgNanDqRiVorxMZWjS0nxKBE+oap4Q/n7JPnz69MRZd5ClbFwna69VNtmhoPwUCUoQpUM+4zKlqcB8JAgopw4wbRCGmiwgLcWTIaoDMsN3/wIOTxwYxMTJme32iyhyTp9IIgbEIiAjHIlVpOkxo3HXnHevac6zwUCjQBb7+l35xfbndPzQ/XScElkJARLgUkgXmg8mRm2+8YV2zqeOCbTg4DmgV4pmjvEmM7fQ6FgIxERARxkQ7s7KwVAbd4aVIENVvE5/IMLNGUai5Jwutl6q1AAJzCRAmUAnSHKsIGQcy1JpCoqEwBQJShClQr6jM9sLrtiIkFO10jFcoBGIgICIcQFkqZQCcA091KcIDs9JlQmAxBNQ1bkH5D//636vf+7t/asWuVp/5lZ9fffSad+7EK2IaAlCEIsNpmCl1eAREhAbjm558wRw1d0mOIsQmLlOPRIJTEVP6GAioa/wWypYE7/7Zq1cvffLjmx+OuYEQP3vhVR4qnIhA3xjhxGyUXAgsioCI8AhOS2zP3PKh1e/e8P4GyDgGMZIQn/rmG41rGol1MIiAFOEgPDqZCIHqiRBjgiA2bOj2Ds1eghCRBpvIcA3D5D9ShJMh0wUREKieCDn2B7U3ZjIEaaQMD2+ZUoSHY6crwyFQNRHaLnG7OzwEeVsZQlVqG4eAFOE4nJQqLgJVE6HtEk+F3SpDqEqtORyHoBThOJyUKi4C1RKhVYNjusRdbrEq8pnXvt+VRHEtBKQIW4Do0AUC1RLhHDVoPYdZZmzIT11ki0z3vhRhNy6KTYtAlURoCetQNUi3YZaZkyeceOE5hbsISBHuYqKY9AhUSYQkLBLYXDfYLrLtcs/Nt8TrpQhL9Gr+daqOCO2khiWwua606wttGXPzLe16KcLSPFpGfaojQk5qLKUG2QxsF5tl8JzCLQJShFsstOcHgeqIkJMkH3n3lYt7Aa/hYUMZUoXd8EoRduOi2LQIVEWElpysglvSBVSaUoXdqEoRduOi2LQIVEWEJCeSVQjoz566Yp2tVGE3ulKE3bgoNi0CVRFhyG4x3WiX05B4eU7hSh9lVSNwiUA1RBijW0wPSxUSid1QinAXE8WkR6AaIqQ6C9ktpjvtp7xYLs/VHmqMsPYW4LP+1RBhjG6xdbF99c6qUZumxn0pwhq97r/OVRChJaJQs8VtV0sVthE5PpYi7MZFsWkRqIIIX/tBmmrat03SutlP6VKEfnwhS7YIpGGIbflR9l7+zvfW5ZCYohR6VIhVn/ZDD7HK91iOFKFHr8imKoiQ44Mp3M3JGX7oIYUNnsqUIvTkDdlCBIonwhTjgwQXof2wg7XFpqlpX4qwJm/nU9fiiZDLV6jMUriGZdOWFDZ4KVOK0IsnZIdFoHgitJVNtc8PPKTsoqeqe7tcKcI2Ijr2gEDxREjy4dseKUDXpMkWdSnCLRba84NA0URox+Tsur4U8HPGuvZJEynCFK1PZe5DoGgi5Jgcx+j2gRHyvFWFlqBDlukxbylCj16RTUUToTf3kpBJ0G37Hnv8idW58xfa0dked9VHijBbdxZteNFE6GF80LaeoUkTqMRHHn7IJt+7D9IE2Zw+fXrzw/GYDeXx2r70PM/824vCbR5MY4kc6u+uO+9okLsUYR/aik+JQLFEaLufqccH6WDbPW6TyvPPPrdOdubGG5h8VAjyvP+BB1df+OLT6/Q43keGOH/zUTlDxIs07bzv/tj1m39BAHyZhy3fEh/rYlWg3R9VQSUSAjEQuFzo9uK//NflM5//yvrnqYp/fP5ba5sQcnv9P757+dSpU5dfOneeUQeHyAe/oe1P/vTPLvPXlZb2IA23dhzO4VrE2w1x+HGDH3CMEBvqiGvb1zG9QiGQAoFiFSHfL+a4XIyHypgyuIwH3Xaq1kPVYF95UGhD23333rPCr2+jPbfeftsmCVX1kIrcJDY7VMH/+KVn1rFShAYc7bpBoFgi5Pggx+W8IA5CITn3TZocYivH63Dt3HE4kh3Jj/ZYgmUZ6B5zY5ec3XTG25DX2TjtC4HUCJxMbUDo8qlIQpdzSP4ga7yLzLE45oEJh33KiYoOaTEuxw1kxbE5xk0NkQfJsO9alAHCQ9mYKOGGuHb5zA8276sX81EoBGIiUKQiZJczJpBTytr3IYb3GmLZR0hIC/KhWkN6KrMpNtm0+8pkWpIay0Y8iHEIfylCoqfQEwJFKkJ2OdkF9QQ4bYFtUIS0lfEI0SWl4mNoz9t9pMUPKgxpoc5AZPuus3m096ng2vH2mLPKVIAoj+oUY4x95ZM8bV7aFwKpEShSEaYGdUz5HLsEGVpFNebaoTQgJmx2Pd9Q+innrFLkvu0GY38fiUoRTkFcaWMhUCQRep0osU61Y5cgFRKLTXPIPhXXD99z7fpydFNBilOIkWTVdQ1Jm2Hbxq56II7paV/7Oh0LgZQIFEmEBNSSDeM8hey6v/sP/+Igs9A9tWSFfRIR6/76pUuNyZQxBVHlcbzPzkjbJTXICzZwTJBjkyQ9WxbJlaE9p30hkBqB4sYI229spAZ4qHysKaR6RToQGUlo6DqeI+nxmOGlI/LjRgU2JV9c++KRLVgaY5fHoNvNJTUcA4QN1g6QIM8hH5Ijy6c9OKdNCHhB4ARWcXsxZgk7Pnvh1TW5QG3Z2dkl8g6Rx01PvrDO9ju//1vr0JLY2PJAoCAYqDUSFa/F5EmbnHhuTEjFSSLrumZK+UNpu/JWnBCIgUBxijAGaEuWwdljdI9BhiCKIdLpKhvpu65hl/XDnzjbddmouK582xf2lU8Std1pKcI2ejr2gECxY4SclfUA8pANVrVyxnco/ZRzUIdQmBwvnHLtUmnRxbYqVWOESyGrfJZEoDgi5Jhbypt/qoM4aXLuxJWdym5qfl7SQylaEoRdUoRevCM7LAJFdY3ZFbQVzGEf6hUEjp9ViDnYPtVGKEIvZIjxZGx8eGI/l7Fl2KptOQSKIsLXfpCnwD31Y29uPAoyb6uozckCdjyQICfUuuDkAwn/YyanXkVXXRQ3HoE8maOnfl4/vdVj7iYaxMfucdcrd5uEBeykHCPEQwaz9FYBgvCeueVDq5c++fEV/8EWYMY/2cppKVYBTSNpFYoiQjbwXCZKrOdpM+tgz5W0n0oRgtTOfvkbGyhBeiA/qD4qcOwjjg8lkGGuwy2bimpnFAJFEeGoGjtNZLthJSuRFIoQePLfqILkoAAt3u0mYcdpLXm20+m4HASKJMKhRu7ZdVQi7OJ7tvVQ22IrQowHWhIEyVEBDtUBypAbJ1V4rLA8BIohwhJUFD/j/5k7fm39aloJdWrfMjEVIfDjUAMeMlbpte3qOuaYIfIo0Rddda41rhgipIqiqsrRoXivl6/a4f1d/Nc4vp2RY326bI6lCDG211aCXfYMxdmeBdvXUHqdyxeBYogwXxccW943KG8/w597HWF/LEVox/amKkGLM7vIUoUWlfL2iyFCdoE4+5qbq/if43Kze6q9MRShHdPDxMjcjb0MKsy5+el6fwgUQ4SE1i5OZlwOYSyllBqL0PW044IY4xszMbIPE47dIl2fct+Xh877RqA4Ilyi4adwWd9XXro+cprCvqXKDKkI2+OCdoxvjv1oU1SFpS94n4NTztcWQYSlzOjhSzGW+PBprjmf0PLYMEMqQktSc8YFu3CjKuQQTFcaxeWLQBFESPj51OZxjiG+7gxC5Of7S5utDKUI7fvDS4wLttuO7WmU8uBt17Hm4yKIsDSyQIO0a9hKaqAhFCG6xFRqeBha0loSO/pEkyZLouojryKIkDdBrjPGXU3Bjm+VNEAfQhGG7BJb35TqE1vHWveLIMJSnceuvr3Rc6/r0orQzhKH6BK38S7RJ+061nhcFBHaJ3YJzqTCpeItoU5LK0J2U0N2iS3uJfrE1q/W/eyJsKRuY7sRWmIvZYB+SUVoF04vPUvc9gWPrU9Kbnusby1h9kTIr1Kzy1Ka41ivUiaEllKEdoKEkxixfE+flDRkEQs7r+VkT4SlEERfA7Hr10pQIEspQktCVqX14bhkvLrHS6LpI6/sidAHjOGssEtBqH7DlRY+5yUUoZ0g4UcRwlu+LcESbwkPp23N6t3Lngg5kcCndImuZNePEwM513EJRUgc2EVNgQfLtso0hR0qcxkEsidCwpDrxxZo/1BYkgKZqwjtpFGsCZIh3/BBPJRG5/wjUAwR2i6kf9inW1iKApmrCKkGqZKnI7nMFR5IeJmaKBcgkDURWnVQujvZ9c9dgcxRhHa5jFXJqX1fUztMjXWo8rMmwlCgeMzX3vg533iHKsKUy2X62gNVeukrF/rqX1J81kTIBsgGWZJjuurCerJ72JXGe9yhipCTEsDAPhRS1rcUlZ4SQy9lZ02EXkCMZUcJ41KHKEIoYA4JkHxiYT5UjiVkLaMZQsr/uayJkDcHFx37h3u+hVSFdrxsfq7xcjhEEVIBe1KDRIz+oGJlvMK8EMiaCPOCehlrqYj4EFgm13i5TFWEdjy0BEUcD2mVNAWBIoiw9KUz1qG2O2ZJwqbxvD9VEVo16LFe7I3k+mDyiGkKm7IlwhxJYCkHcw0dSWKpfGPkM0UR2u6/VzVoH8IaJ4zRgsKUkS0REg6O0fC4hjBnVThFEVJlkfi9+pZtUOOEXj20365siZBLZ/ZXscwUvPlyw2GsIrRq0BJ/md5UrVIjkC0RpgYudfl2bCqnLtkYRWgXT8f4/P5cX+Y+gTW3/iVcny0RstvERliCM6bUAWNTVIU5dcnGKEJbHzsGNwWfmGmtYs3poRQTI+9lZUuEBLbkr86wjn0hHwJ8KPSl8xS/TxHaxdMpvjU4F6sSvhk5F4Mcr8+eCHNQDKEahlUidkwtVHlL5LtPEXImnGp3iTJj5EF7cxuzjYFNDmVkSYTqfmybFmdUc1GFQ4rQLonyulxmi3xzL0d13qxB3UdZEqG6H9tGa1WhJZJtCl97Q4qQapDk7svyYWusH4ZT6qxHBLIkQnY/2B3xCGxMm0gcJJKYZU8tq08R2q597qSSwwNpqt9KT58lEZbulKn1s8Th/SbsUoR2uQxJfSoGHtLzwcwHtQebZMM4BLIkQo6HcVxmXFXLTsWb0Lsq7FKEZ7/8jbVzUAdL6mV7TLXzhECWROgJQC+22MkFqwofe/wJLyau7WgrQmsrF4m7MniCMXww40F97vyFCVcqaWoEsibCmtcQdjWcHFRhWxFSwcL23JdCWTXbrmeXvxTnB4GsiTD3G2fpZmBVoZ18WLqcOflREWLm39pobZ+Tv5dr/+/6X/ViiuwYgUB2RGi7UiPqV10STjZwHDUlAOgetn9USphQoI1Qg0hXwvpQqvKTF/82JfQqeyIC2RHhxPpVl9x2z6zi8gaEJcEzl7+3Nq+k9aFShN5a3LA9J3Mb1H35xJWbGuVm+8bwwDtQJSAa/D51VJY3nD73Ex/YIEASRMTb/v3bq3NHv6y3t9onsLd1y7pOFRh/kl2VXOr61Fs30af+559XF1/Jxeq4dp5EcW/htCadV74W14CRpZXoQ4t9bvfWSLcVmewkB69zqd3nvvW/a1PR9dATt99r1x+d+vRbWCGVFz97tKkfxcPOqI0ehlvKq06eufGGlOVPLvvuE6+uu3xYs3XmmvdPvr6mC4gVVOF9Dvx8PGZ5/CDDB1dLnfUn7mhrud1fNd0ftq7ZTZZwkF1rCK0bu/ftkpTUEyeY7afv0CXWJgQ8IZAdERK8UtUE67dUSNIBCaUiQyyL4cJp1qukGWLWiaF9w4RxCn0jkBURag3hYY2Ja9tAhinW6vFdYlhPYi5Z0Zdct8NaoP+rsiJC/3D6tNB2kS0pxbDWqlB8et/LpE2MuqOMFA+eWHUrqZwsiZAKpyRHhKrLfffes87a/v8PS06hykW+KIfjgnzjpYYlJXbYpuQhgJBtJ3bebokQT9L2QmB95627eRCrfUMHJKMY44V2cgQPLr7xMkYRwu/45aCmiH27rfJhrTbb3Wa9xa7Xf3oyCp+NeuThhzYmXbp0abOvnSYCbax49sUjErGqhPEgI9ygIEL8MKhPgmKaJUKrBFGe7ZrvU4SnT59umHD/Aw+uqGobJxwctG2FSbQX2FINOzBVJuxBwJUiRMMCCaIx4dcmQTYszsrtqVsVp4ETiA9YfeGLT6/r/Pyzz/XWHaREtYKZ3KW7yW0laEkQRg0pQhIL6oMfNrQHr8oQ2ANzYN9nL9vsujL64xYBN0TID4iiYUEBeFUBnjxJnKj+uHjXKuouey0Z4kZdigyRD5fJtJUg7ehThOxawv+oD34klyFiZ74pQuBPzGEviBHb60fEGEJpp6hjLWW6IEI88akE2bCGHKBG1o8Ob8b+FMdnQIZ2zPCmJ1/Yd8ng+aHusL2wTxGSIK3/SfD7iN3m72H/h++5tmHGvrHbRmIdJEHABRHyiY+bBN0j/qgSkyCTaaFTSAMPFJIhqgsynKoOcZPjOnYB+5Qg4STh8Zhhn91jiZ35xA45scPxWtirB3VsL8wvL/hkCUhtaMP4Cre77rxj3b0AIWKfNwe6IDU9VXlTEZd2iO6jVU48z+7lFPLATYv3fp957fubSRSQ2j5Cgz/YDWb5Y94fhm/7yHCK3SwzdYh2ardbb79tcwgMgSVmjkWOG1hc7py4fLSFtAw353uPyBDjJjbE+ip8fw43NMnSkiJssvG88fbdoCHrEitvDBUQny7M0PXqurEsXofYSozb1/KGZth1vj0p0k7DY6p8EAa7vjjXZzsfCu22wfy8hMDu7o/hmz+r9dgm6kY8a2izXvxwqB3BFSGVCxv9JoTFR2pkaINCoCqsaT0WMLra4DMGMxIJJxiGcO07B3LFwmvcwMCb3d12yOvRrcbrZLSP8UNhnyK0vh663us5YAeyhh8w1GMn+4Df2AeF1/qVbldwIhwDYO43wZg6hkxDlcUZ17ll4abGDzcv1anNE+cO3fq6xX358UHYd95jPGwGEc7ByWO9SrbJxWQJAeYYF49zvAloe6yQXce+ccO5dkDtkRgZzskTirBr+/Anzq6jSeo44PrBXMYOh+yFytbmF4G3/cHRltq8Gz5y/erRRx9d/dXTT69+9MffvnrzzTdXv3zzzWuznvrqxdU1V7x99emvfH19/NvXnVofp7bZQ/nohr34919dm3LtT//M6sLLFze/n3rf+1Y/+Y53eDCzYcNf/82X1sc/98EPNuyDj+F7PPzYBn7z129Zp33y83/ZyMPDAUjvF667bmPrG2/824r2/s4fPbppo3/+9dfW5v7Gqas2cR7slw1NBFx0jWESxleobmgixruuvqrZDdMnjohOM2yrZyivKWN3zdzCHfWNEaJEzrjauqBdeNww+dc1pIMHt+0Sc4JJM8cevbi1Kfis8baoeXtc8Gu/ojIvR12dAgF2fduzxilsiVGmZo5joDy/DFdjhPOroxy8I9A3Rujd7rn2ceZ9bj66PgwCWRChBprDOD9FrlNnjVPYuGSZGspZEs1weWVBhOGqr5xjI1CbIrTjtJxVjo25ytuPQFZEiIFnbXkjUJsitN7S16otGr72syDCmt4q8dU8lremNkUIBPkAVztevj0tlWMWRLhUZZVPegRqVoTp0ZcFfQhkQYSccdOXqfvcmE98jYqQ7ZbtOB9v1WNpFkTIrkU9bim3pjUqQs0c+2/PWRAhn6RqUP4b1D4La1SEduZ4Hz46nwaBLIiQ0KhBEYl8wxoVofWW1sRaNPzsuydCrb3y01iWsKRGRQjcNLyzROsJl4d7ItTaq3DOT5Fz7YpQS2hStLr9ZbonQlZBT1QikXdYqyLM22vlW++eCPUELasR1qoItYTGdzt2T4S+4ZN1UxGoVRFqxcPUlhI3vYgwLt7Vl1arItSKB99N3z0Rcg0huxa+4ZR1+xCoVRFaXLSExqLhY989EWqSxEdDWcqKWhXhUvgpnzAIuCdCKkKNsYRpALFzrVkR8qGuCcDYrW5/ee6JkFXQGAuRyDuUIszbf6Vanw0RluqA2upVsyLkODd7ObX53nN9XROhBpU9N53DbJMiPAw3XRUWAddEyKpzbIXHCvNFoGZFaP/fcb4eLNNy10SoQeXyGp0U4bFP9TERX23bNRH6gkrWLIFAzYrQ4qePiVg00u+LCNP7oCoLaleEGubx2dyzIELOtvmEUFZNQUCK8BgtDftMaTXh07omQi0zCN8AYpdQuyKMjbfKG4eAayIcVwWlygmB2hUhezd6yPtqtVkQoZYd+Go0c6ypXRHqVdE5rSfctVkQYbjqK+fYCNSuCPWqaOwWN648t0SodVbjHJhbqtoVofWX2rhFI+2+WyLUOqu0DSNU6bUrQour2rhFI+2+WyIkLFp3RSTKCKUI9a89PbZkt0SodVYem8t8m6QItxiqjW+xSL3nlghTA6PywyAgRRgGV+U6DwER4Tz8dPVEBKQIVyutJZzYaCIkd0uEXHDKRhMBCxURAQEpwgggq4jJCLglQk2STPZlFhdIEa5WekHAX1N1S4RUhP4gk0VzEJAinIOerg2FgFsiZIX19CQSZYRShE0/6t9RNPFIdeSeCFMBo3LDICBFeIyrhn7CtK9Dc3VJhHr16FB3+r9OirDpI60lbOKR6sglEerVo1TNIXy5UoThMVYJ0xFwSYSshroPRKKcUIrw2JdcFqZJQR9t2yURqrvgo3GEsEKKsImqHvZNPFIduSTCVGCo3PAISBEeY8wPtEoRhm9zY0oQEY5BSWkWQ0CK8BhKfaB1sSa1SEauiZDjKIvUVJm4QECKcNcNWiWxi0nsGJdEqO5C7GYQrzwpwl2stUpiF5PYMS6JUAPIsZtBvPKkCLdYq51vsUi955IIqQg5oJwaJJW/HAJShLtYapXELiaxY1wSIUHQgDKRKCeUIizHlyXVxDURlgS06nKMgBThtiVoMnCLReo9d0SoGbTUTSJs+VKEu/hyKGj3jGJiIeCOCDmDpoHkWE0gbjlShFu8NQa+xSL1njsiJCB6ShKJskIpwq0/NQa+xSL1njsi5AyaFGHqphGmfCnCMLgq13kIuCPCedXR1d4RkCLs9pC+VN2NS6xYEWEspFXOGgEpwmZDUM+niUeqIxFhKuQrLVeKsNvxHBLqPqvY0Ai4I0JOkpw9dUXouiv/BAhIESYAXUXuRcAdEbKrwGU0e2ugBFkhIEWYlbuqMdYdEVIRao1VmW1QirDpV71d0sQj1ZE7IiQQWmNFJMoKpQi7/UkB0H1WsaERcEuEoSuu/NMgIEXYxF09nyYeqY5EhKmQr7RcKcKm49XzaeKR6sgVEWpRaapmEK9cKcJ4WKuk8Qi4IkKazZljHissBwEpwn5fSgj0YxP6jEsi1MBxaLeny1+KcBd7Pfh3MYkd44oIubpeDSN2M4hXnhRhP9Zs//0pdCYUAq6IMFQlla8fBKQI/fhClmwREBFusdBeBASkCCOArCImI+CSCLXafrIfs7lAinDXVWrvu5jEjnFFhJokie3++OVJEfZjrvbfj03oM66IUJMkod2dPn8pwvQ+kAW7CLgiQj0Rdx1UWowU4a5HP3rNO3cjFRMVAVdEyJqrYRCJ8kIpwvJ8WkKNXBJhCcCqDt0ISBF248JY/V9vIhE3FBHGxbv60qQIh5uAPkg8jE+os26IUE/CUC72la8UYbc/NFHYjUusWDdEyCehGkQs16cpR4pwGHe9ZjeMT6izboiQFdTMMZEoM5QiLNOvudfKHRFKEebepIbtlyIcxkdn0yDghgjVJUjTAGKXKkUYG3GVNwYBN0Q4xlilyR8BKcJuH/L/eGtoqBuf0LEiwtAIK/8GAlKEDTg2B5os3ECRZMcdEepLHEnaQbRCpQiHoZYiHMYn1Fk3RKgGEMrFvvKVIuz2h14r7cYlVqwbItRscSyXpy1HijAt/iq9GwE3RChF2O2g0mKlCPd7VG9Z7cdo6RRuiJAVUxeBSJQZShHu9ysnTvanVIqlEHBHhEtVTPn4RECKsN8vGh7qxyb0GRFhaISVfwMBKcIGHI0DDQ814Ih6ICKMCrcKkyLsbwNUhHrLqh+jUGdcESEbQqjKKt/0CEgR9vuAa2gZ9qfUmaUROHH5aFs6U+UnBPoQOHf+wgpkeOvtt62uvupdfckULwSiIiAijAq3CgMCWB4iElRb8ISAiNCTN2SLEBACSRBwNUaYBAEVKgSEQPUIiAirbwICQAgIgf8H6cdJTO2DFTMAAAAASUVORK5CYII=)"
      ]
    },
    {
      "cell_type": "code",
      "metadata": {
        "colab": {
          "base_uri": "https://localhost:8080/",
          "height": 109
        },
        "id": "GhgirI58RydY",
        "outputId": "b8a8e39d-e50e-4fc6-c932-e3f7d9f104fd"
      },
      "source": [
        "loan_df[[\"fico_score\", \"loan_total\"]].corr()"
      ],
      "execution_count": 22,
      "outputs": [
        {
          "output_type": "execute_result",
          "data": {
            "text/html": [
              "<div>\n",
              "<style scoped>\n",
              "    .dataframe tbody tr th:only-of-type {\n",
              "        vertical-align: middle;\n",
              "    }\n",
              "\n",
              "    .dataframe tbody tr th {\n",
              "        vertical-align: top;\n",
              "    }\n",
              "\n",
              "    .dataframe thead th {\n",
              "        text-align: right;\n",
              "    }\n",
              "</style>\n",
              "<table border=\"1\" class=\"dataframe\">\n",
              "  <thead>\n",
              "    <tr style=\"text-align: right;\">\n",
              "      <th></th>\n",
              "      <th>fico_score</th>\n",
              "      <th>loan_total</th>\n",
              "    </tr>\n",
              "  </thead>\n",
              "  <tbody>\n",
              "    <tr>\n",
              "      <th>fico_score</th>\n",
              "      <td>1.000000</td>\n",
              "      <td>0.067153</td>\n",
              "    </tr>\n",
              "    <tr>\n",
              "      <th>loan_total</th>\n",
              "      <td>0.067153</td>\n",
              "      <td>1.000000</td>\n",
              "    </tr>\n",
              "  </tbody>\n",
              "</table>\n",
              "</div>"
            ],
            "text/plain": [
              "            fico_score  loan_total\n",
              "fico_score    1.000000    0.067153\n",
              "loan_total    0.067153    1.000000"
            ]
          },
          "metadata": {
            "tags": []
          },
          "execution_count": 22
        }
      ]
    },
    {
      "cell_type": "code",
      "metadata": {
        "colab": {
          "base_uri": "https://localhost:8080/",
          "height": 295
        },
        "id": "cwiKROrdQhTt",
        "outputId": "99b151b4-f1e0-47e6-9548-d7b3137dd06d"
      },
      "source": [
        "sns.regplot(x=\"fico_score\", y=\"loan_total\", data=loan_df)"
      ],
      "execution_count": 21,
      "outputs": [
        {
          "output_type": "execute_result",
          "data": {
            "text/plain": [
              "<matplotlib.axes._subplots.AxesSubplot at 0x7f07e56e8d10>"
            ]
          },
          "metadata": {
            "tags": []
          },
          "execution_count": 21
        },
        {
          "output_type": "display_data",
          "data": {
            "image/png": "[encoded data removed]",
            "text/plain": [
              "<Figure size 432x288 with 1 Axes>"
            ]
          },
          "metadata": {
            "tags": [],
            "needs_background": "light"
          }
        }
      ]
    },
    {
      "cell_type": "markdown",
      "metadata": {
        "id": "ElyvmZtkSNur"
      },
      "source": [
        "There seem to be broader negative trend of fico score vs default rate. But the data is too curvy and there are too many outliers.\n",
        "\n",
        "Data is not increasing or decreasing the same way at too many points.\n",
        "\n",
        "Looks like monotonic relationship due to broader trend but required polynomial relationship or segmentation.\n",
        "\n",
        "Segmentation can solve this problem. Run different models on each fico bucket.\n",
        "Different models can help remove bias of common ml model that has shared coefficients across all data. This is also commonly used in regulatory practices.\n",
        "\n"
      ]
    },
    {
      "cell_type": "code",
      "metadata": {
        "colab": {
          "base_uri": "https://localhost:8080/",
          "height": 295
        },
        "id": "-pJtpKFiRB1j",
        "outputId": "ae7cd6b4-c79c-46ae-cc46-04b5f00bc614"
      },
      "source": [
        "sns.regplot(x=\"fico_score\", y=\"default_rate\", data=loan_df)"
      ],
      "execution_count": 23,
      "outputs": [
        {
          "output_type": "execute_result",
          "data": {
            "text/plain": [
              "<matplotlib.axes._subplots.AxesSubplot at 0x7f07e55f1890>"
            ]
          },
          "metadata": {
            "tags": []
          },
          "execution_count": 23
        },
        {
          "output_type": "display_data",
          "data": {
            "image/png": "[encoded data removed]",
            "text/plain": [
              "<Figure size 432x288 with 1 Axes>"
            ]
          },
          "metadata": {
            "tags": [],
            "needs_background": "light"
          }
        }
      ]
    },
    {
      "cell_type": "markdown",
      "metadata": {
        "id": "hsYHQSQ-TYpg"
      },
      "source": [
        "More strengthedn relationship in spearman coefficinet"
      ]
    },
    {
      "cell_type": "code",
      "metadata": {
        "colab": {
          "base_uri": "https://localhost:8080/",
          "height": 109
        },
        "id": "3e6TYZJlSMxz",
        "outputId": "5541b42b-6659-4cad-cf9b-b808cb803fa1"
      },
      "source": [
        "loan_df[[\"fico_score\", \"default_rate\"]].corr(method=\"spearman\")"
      ],
      "execution_count": 24,
      "outputs": [
        {
          "output_type": "execute_result",
          "data": {
            "text/html": [
              "<div>\n",
              "<style scoped>\n",
              "    .dataframe tbody tr th:only-of-type {\n",
              "        vertical-align: middle;\n",
              "    }\n",
              "\n",
              "    .dataframe tbody tr th {\n",
              "        vertical-align: top;\n",
              "    }\n",
              "\n",
              "    .dataframe thead th {\n",
              "        text-align: right;\n",
              "    }\n",
              "</style>\n",
              "<table border=\"1\" class=\"dataframe\">\n",
              "  <thead>\n",
              "    <tr style=\"text-align: right;\">\n",
              "      <th></th>\n",
              "      <th>fico_score</th>\n",
              "      <th>default_rate</th>\n",
              "    </tr>\n",
              "  </thead>\n",
              "  <tbody>\n",
              "    <tr>\n",
              "      <th>fico_score</th>\n",
              "      <td>1.000000</td>\n",
              "      <td>-0.939511</td>\n",
              "    </tr>\n",
              "    <tr>\n",
              "      <th>default_rate</th>\n",
              "      <td>-0.939511</td>\n",
              "      <td>1.000000</td>\n",
              "    </tr>\n",
              "  </tbody>\n",
              "</table>\n",
              "</div>"
            ],
            "text/plain": [
              "              fico_score  default_rate\n",
              "fico_score      1.000000     -0.939511\n",
              "default_rate   -0.939511      1.000000"
            ]
          },
          "metadata": {
            "tags": []
          },
          "execution_count": 24
        }
      ]
    },
    {
      "cell_type": "code",
      "metadata": {
        "colab": {
          "base_uri": "https://localhost:8080/",
          "height": 109
        },
        "id": "N1HOSW6YTVKl",
        "outputId": "59631696-633d-433c-91c2-eae47ff8bffb"
      },
      "source": [
        "loan_df[[\"fico_score\", \"default_rate\"]].corr(method=\"pearson\")"
      ],
      "execution_count": 25,
      "outputs": [
        {
          "output_type": "execute_result",
          "data": {
            "text/html": [
              "<div>\n",
              "<style scoped>\n",
              "    .dataframe tbody tr th:only-of-type {\n",
              "        vertical-align: middle;\n",
              "    }\n",
              "\n",
              "    .dataframe tbody tr th {\n",
              "        vertical-align: top;\n",
              "    }\n",
              "\n",
              "    .dataframe thead th {\n",
              "        text-align: right;\n",
              "    }\n",
              "</style>\n",
              "<table border=\"1\" class=\"dataframe\">\n",
              "  <thead>\n",
              "    <tr style=\"text-align: right;\">\n",
              "      <th></th>\n",
              "      <th>fico_score</th>\n",
              "      <th>default_rate</th>\n",
              "    </tr>\n",
              "  </thead>\n",
              "  <tbody>\n",
              "    <tr>\n",
              "      <th>fico_score</th>\n",
              "      <td>1.000000</td>\n",
              "      <td>-0.886782</td>\n",
              "    </tr>\n",
              "    <tr>\n",
              "      <th>default_rate</th>\n",
              "      <td>-0.886782</td>\n",
              "      <td>1.000000</td>\n",
              "    </tr>\n",
              "  </tbody>\n",
              "</table>\n",
              "</div>"
            ],
            "text/plain": [
              "              fico_score  default_rate\n",
              "fico_score      1.000000     -0.886782\n",
              "default_rate   -0.886782      1.000000"
            ]
          },
          "metadata": {
            "tags": []
          },
          "execution_count": 25
        }
      ]
    },
    {
      "cell_type": "markdown",
      "metadata": {
        "id": "o8hDuN30TxEc"
      },
      "source": [
        "Extremely non linear relation. Maybe not possible even with polynomial. Also weak relationship"
      ]
    },
    {
      "cell_type": "code",
      "metadata": {
        "colab": {
          "base_uri": "https://localhost:8080/",
          "height": 295
        },
        "id": "NKLuQUe-TXqx",
        "outputId": "763c408f-ed6e-4e97-8bfb-2eb2ef25059c"
      },
      "source": [
        "sns.regplot(y=\"loan_total\", x=\"median_annual_inc\", data=loan_df)"
      ],
      "execution_count": 27,
      "outputs": [
        {
          "output_type": "execute_result",
          "data": {
            "text/plain": [
              "<matplotlib.axes._subplots.AxesSubplot at 0x7f07e555b8d0>"
            ]
          },
          "metadata": {
            "tags": []
          },
          "execution_count": 27
        },
        {
          "output_type": "display_data",
          "data": {
            "image/png": "[encoded data removed]",
            "text/plain": [
              "<Figure size 432x288 with 1 Axes>"
            ]
          },
          "metadata": {
            "tags": [],
            "needs_background": "light"
          }
        }
      ]
    },
    {
      "cell_type": "code",
      "metadata": {
        "colab": {
          "base_uri": "https://localhost:8080/",
          "height": 109
        },
        "id": "9lCMn1mSTq0E",
        "outputId": "f555f25f-0717-4069-a650-54bf0787a11b"
      },
      "source": [
        "loan_df[[\"loan_total\", \"median_annual_inc\"]].corr(method=\"spearman\")"
      ],
      "execution_count": 29,
      "outputs": [
        {
          "output_type": "execute_result",
          "data": {
            "text/html": [
              "<div>\n",
              "<style scoped>\n",
              "    .dataframe tbody tr th:only-of-type {\n",
              "        vertical-align: middle;\n",
              "    }\n",
              "\n",
              "    .dataframe tbody tr th {\n",
              "        vertical-align: top;\n",
              "    }\n",
              "\n",
              "    .dataframe thead th {\n",
              "        text-align: right;\n",
              "    }\n",
              "</style>\n",
              "<table border=\"1\" class=\"dataframe\">\n",
              "  <thead>\n",
              "    <tr style=\"text-align: right;\">\n",
              "      <th></th>\n",
              "      <th>loan_total</th>\n",
              "      <th>median_annual_inc</th>\n",
              "    </tr>\n",
              "  </thead>\n",
              "  <tbody>\n",
              "    <tr>\n",
              "      <th>loan_total</th>\n",
              "      <td>1.000000</td>\n",
              "      <td>0.035934</td>\n",
              "    </tr>\n",
              "    <tr>\n",
              "      <th>median_annual_inc</th>\n",
              "      <td>0.035934</td>\n",
              "      <td>1.000000</td>\n",
              "    </tr>\n",
              "  </tbody>\n",
              "</table>\n",
              "</div>"
            ],
            "text/plain": [
              "                   loan_total  median_annual_inc\n",
              "loan_total           1.000000           0.035934\n",
              "median_annual_inc    0.035934           1.000000"
            ]
          },
          "metadata": {
            "tags": []
          },
          "execution_count": 29
        }
      ]
    },
    {
      "cell_type": "markdown",
      "metadata": {
        "id": "1OfG4FlsULv0"
      },
      "source": [
        "No coreltaion. weak polynomial relation. Maybe 3rd order. But still missing lot of points\n",
        "\n",
        "![image.png](data:image/png;base64,iVBORw0KGgoAAAANSUhEUgAAATQAAADhCAYAAABGBUm3AAAYTGlDQ1BJQ0MgUHJvZmlsZQAAWIWVWQk4lN3bP8/sM/YZ+77vZN/3fd93EsY2thhrKJFkK1EhSiVZK5VCJSItSll6SZJIlkqhorLkeyz1f//ve13fd31nrvM8v7nPfe7trPcMAFz7fSMjwxCMAIRHxFAdTA343dw9+LGTAII/OPiD9CVHR+rb2VkBuPx+/3dZGoR54fJcZkPWv9v/18LkHxBNBgCyg7GffzQ5HMbXAUClkyOpMQBg1GC6UHxM5Ab2gjEzFTYQxpEbOGgLp29gvy1cvMnj5GAI44sA4Gh9falBANA3w3T+OHIQLId+CG4jRvhTImDWWRjrkIN9/QHgkoZ5pMPDd29gNxiL+/1NTtB/yfT7I9PXN+gP3vJls+CMKNGRYb57/p/h+L9LeFjsbx2icKUNppo5bPgMx20odLflBqaF8WyEn40tjIkw/kHx3+SHMYIQHGvmvMWP4CZHG8IxA6wwlvP3NbKEMTeMTSLCbKy26X6BFBNzGMMzBJFAiTF32u6bGRBt7Lgt8xR1t4PtbxxINdTf7nvZl7qpd4O/MzbUWX9b/lBwgPlv+d8Sg51ct2xGEuIoLjYwpocxa3Soo+UWD1I4MdjQ5jcPNdZhw35hGGsERJgabMlHegdSTRy2+anh0b/9RWYGU8xttnFJTLCT2baci2TfTfvZYdwcEKHv/FtOQLSb1W9f/AOMjLd8R/YGRDhv+4sci4wxcNju+yUyzG6bH0UICDPdoAvCmDs6znG7L0onBp6QW/JRNpExdk5bdqL8Qnwt7LbsQSUAK2AIjAA/iIWrH9gNQgDl2WzTLPxtq8UE+AIqCAIBQGab8ruH62ZLBPx0BIngE4wCQPSffgabrQEgDqav/aFuPWVA4GZr3GaPUDAF43BgCcLg77GbvSL+aHMB72AK5V/aybCtYXDdaPs3TR+mWG1TYn/L5Wf4zYkxxhhhzDAmGAkUJ0oHpYmygp96cFVAqaHUf1v7H370FLoP/RY9gB5Dv9xFSaP+wx9+YA3GYA0m2z77/d1nlCgsVRllgNKG5cOyUawoTiCDUoI16aN0Yd3KMNVw2/IN7/8p+798+FvUt/nwcngEng2vhxf/Z096SXrlP1I2Yvr3CG3Z6vcnroZ/Wv6p3/BvkfaH35b/5ERmIhuQD5HtyC5kC7IJ8CPbkM3IbuSdDfxnFr3bnEW/tTls2hMKy6H8S5/vts6NSEbL1cm9l1vdaosJSIjZWGCGuyP3UClBwTH8+vDOH8BvHkGWleZXkFOQB2DjHNnapr46bJ4PEGvPf2jkgwCozgOAX/4PLfwrAFcI8DZq/R+aiDe8zDAAVE+RY6lxWzTUxgMNCIABXlEcgBcIAXHYHwWgAjSBHjAGFsAWOAF34A1HORiez1QQD5JBKsgAOeAoOAFKwBlwHlSDS+AaaAItoB08AE9ALxgAr+DZMwk+gnmwBFYgCMJCdBAJ4oD4IBFIClKA1CAdyBiyghwgd8gHCoIioFgoGToA5UAFUAl0DqqBrkI3oXaoC+qDXkLj0HvoC7SMQCJoEcwIHoQoYgdCDaGPsEQ4IXYighBRiEREOuIIohhRjriIaES0I54gBhBjiI+IRSRA0iBZkQJIGaQa0hBpi/RABiKpyH3IbGQhshx5GXkLHufnyDHkLPInCoMiofhRMvAMNkM5o8ioKNQ+VC6qBFWNakR1op6jxlHzqF9oOjQ3WgqtgTZHu6GD0PHoDHQhuhJ9A30fXk2T6CUMBsOKEcOowqvRHROCScLkYk5j6jF3MX2YCcwiFovlwEphtbG2WF9sDDYDexJ7EduG7cdOYn/gaHB8OAWcCc4DF4FLwxXianGtuH7cNG4Fz4gXwWvgbfH++D34PHwF/ha+Bz+JXyEwEcQI2gQnQgghlVBMuEy4TxghfKWhoRGkUaexp6HQ7KcpprlC84hmnOYnLZFWktaQ1os2lvYIbRXtXdqXtF/p6OhE6fToPOhi6I7Q1dDdoxul+0FPopelN6f3p0+hL6VvpO+n/8yAZxBh0GfwZkhkKGRoYOhhmGXEM4oyGjL6Mu5jLGW8yfiCcZGJxCTPZMsUzpTLVMvUxTRDxBJFicZEf2I68TzxHnGChCQJkQxJZNIBUgXpPmmSGcMsxmzOHMKcw3yJ+RnzPAuRRYnFhSWBpZTlDssYK5JVlNWcNYw1j/Ua6yDrMhsPmz5bAFsW22W2frbv7FzseuwB7Nns9ewD7Msc/BzGHKEc+RxNHK85UZySnPac8ZxlnPc5Z7mYuTS5yFzZXNe4hrkR3JLcDtxJ3Oe5u7kXeXh5THkieU7y3OOZ5WXl1eMN4T3O28r7no/Ep8NH4TvO18b3gZ+FX58/jL+Yv5N/XoBbwEwgVuCcwDOBFUExQWfBNMF6wddCBCE1oUCh40IdQvPCfMLWwsnCdcLDIngRNZFgkSKRhyLfRcVEXUUPiTaJzoixi5mLJYrViY2I04nrikeJl4v/JYGRUJMIlTgt0SuJkFSWDJYsleyRQkipSFGkTkv1SaOl1aUjpMulX8jQyujLxMnUyYzLsspayabJNsl+3iG8w2NH/o6HO37JKcuFyVXIvZInylvIp8nfkv+iIKlAVihV+EuRTtFEMUWxWXFBSUopQKlMaUiZpGytfEi5Q3lNRVWFqnJZ5b2qsKqP6inVF2rManZquWqP1NHqBuop6i3qPzVUNGI0rmnMacpohmrWas5oiWkFaFVoTWgLavtqn9Me0+HX8dE5qzOmK6Drq1uu+1ZPSM9fr1JvWl9CP0T/ov5nAzkDqsENg++GGoZ7De8aIY1MjbKNnhkTjZ2NS4xHTQRNgkzqTOZNlU2TTO+aoc0szfLNXpjzmJPNa8znLVQt9lp0WtJaOlqWWL61krSiWt2yRlhbWB+zHrERsYmwabIFtua2x2xf24nZRdndtsfY29mX2k85yDskOzx0JDnucqx1XHIycMpzeuUs7hzr3OHC4OLlUuPy3dXItcB1zG2H2163J+6c7hT3Zg+sh4tHpceip7HnCc9JL2WvDK/BnWI7E3Z2eXN6h3nf2cWwy3dXgw/ax9Wn1mfV19a33HfRz9zvlN882ZBcRP7or+d/3P99gHZAQcB0oHZgQeBMkHbQsaD3wbrBhcGzFENKCWUhxCzkTMj3UNvQqtD1MNew+nBcuE/4zQhiRGhE527e3Qm7+yKlIjMix6I0ok5EzVMtqZXRUPTO6OYYZvjC3h0rHnswdjxOJ6407ke8S3xDAlNCREL3Hsk9WXumE00SLyShkshJHckCyanJ43v1957bB+3z29eRIpSSnjK533R/dSohNTT1aZpcWkHatwOuB26l86TvT584aHqwLoM+g5rx4pDmoTOZqExK5rMsxayTWb+y/bMf58jlFOas5pJzHx+WP1x8eP1I4JFneSp5ZUcxRyOODubr5lcXMBUkFkwcsz7WeJz/ePbxbyd2negqVCo8U0Qoii0aK7Yqbj4pfPLoydWS4JKBUoPS+lPcp7JOfT/tf7q/TK/s8hmeMzlnls9Szg6dMz3XWC5aXngecz7u/FSFS8XDC2oXaio5K3Mq16oiqsaqHao7a1Rramq5a/PqEHWxde8vel3svWR0qfmyzOVz9az1OVfAldgrH676XB28Znmto0Gt4fJ1keunbpBuZDdCjXsa55uCm8aa3Zv7blrc7LileevGbdnbVS0CLaV3WO7ktRJa01vX2xLbFu9G3p1tD2qf6NjV8eqe272/Ou07n923vP/ogcmDew/1H7Y90n7U0qXRdfOx2uOmJypPGruVu288VX5645nKs8Ye1Z7mXvXeW31afa39uv3tz42eP/jL/K8nAzYDfYPOg0MvvF6MDfkPzbwMe7kwHDe88mr/CHok+zXj68JR7tHyNxJv6sdUxu6MG413v3V8+2qCPPHxXfS71cn0Kbqpwmm+6ZoZhZmW9ybvez94fpj8GPlxZTbjE9OnU5/FP1+f05vrnnebn1ygLqx/yf3K8bXqm9K3jkW7xdGl8KWV79k/OH5U/1T7+XDZdXl6JX4Vu1q8JrF265flr5H18PX1SF+q7+ZVAAlXRGAgAF+qAKBzB4DUCwDBcyvP2y5I+PKBgN8ukCz0EZEOn6g9qAy0CQaJeYItxkXgrQgSNFiaWdp+uib6KoZKxnqmZmIH6QlzL8sQ6xu2GfaPHAucy1xrPAheLB+Bn06AKEgUYhVmF2ETZRfjFueR4JfklxKUFpYRlRXbIS0nJ6+ooKKooaSrbKxirmquZqJuomGiaailr62lo6GrpCerL2rAY8hsRDBaN/5qMmX60qzbvMWi2vKYVYp1iI2brbGdsr2YA5cjoxPOGekCuSLcUO54D0ZPDi/hnTLeEruEffh8Of1YyCR/YgApkDWIK1iQIh2iGmoS5hJOiUjeXRBZEXWWWhydH5MbmxWXHX8koXhPdWJr0qu9YJ90yq79J1NfHRBM332w/RAmUyhLIdsgxzE38HDikfy86qN384cLFo8znZAptCgKLD5wsqzkZmn/qXenF89gz3KckyzXOm9b4XchpvJgVWF1dc3N2sd1wxc/XPpZj7vCdlX8mm6D+/WoG1mNp5vqm9tudt3qud3b8uROR+vVttK7Ke27OjTuEe9Ndd68X/vg1MOcRwldfo/Nn8h203fPPr3/7FRPZK9BH6lvov/a89S/7AdEBlGD7190D9W/LBiOeeUyovaa8/Xq6Oib9rEL41lvd084v9OaFIZn2dL0XzPX3xd9SPkYNkv+RP4cOZczf2Nh7qvet3NLpO/FP6WWn62m/NJYX//b+CsgZ1AFaEsMC+Y1tgGXiw8iGNFI0jLQrtJN0w8xDDG+YXpH/ET6yrzEssa6wrbG/otjjXOJ6yv3HM8U7whfP/99gZuClUI5wmEiVqKSYnixD+JdEjWS2VIUaUsZGVk62bkdfXLX5YsUkhXJSvbKBioKqgJqRLV19c8aI5pdWo3a5Tq5uvF6PvoWBgqGnEYIo/fGz0yumOabRZs7WahYslmuWL2xvmdTa5tvl2Qf6ODoqO8k7yzgQnLFui67fXQf8ej2vONVv/Os97Fdh3ySfal+FLKvv0eAU6B9kE2wJcUyxCxUM0w2XCCCZTdNJCJyNeoH9Wf0Wiw6jhgvlKCxxykxOqkwuWXvVArNfr5UmTTtAzbpfgfjMw4fqsxsyxrO/p7LfFjhiH1exNHD+XUFj469O75eyFmkXGx3MrTkYOmZU82ne8tmzvw6x1wucV67wu4CuTK26lB1MbzPddfNXSJeVqx3vBJ1Ne9aXUPn9ZEbX5owzRw3JW9p3LZocbsT2BrTlnI3tf1Ax8F7GZ2H7mc+yH6Y++hw1+HHh58c7s59mvMsq+dQb3pfav/e53F/RQ3sHox8ETOU9PLg8LFX5SMNrx+MvnzzaRy8JU4IvpOf1Jkyn/abOfv+00fl2aRPrZ9/zWsuxH25/PXdIvuS5feUHw0/p1e4Vx3Wsn91bo+/MUIfuQP5GdWOPoRxxIpjF3A38RkEBxpumlHa83Th9OoMCIZ2xnQmCyIDsZd0lNmWhYHlKWs2mwk7xN7MEcEpxDnElcOtw/2Jp5TXjPcbXxm/Gf9ngeOCGoIjQnuF+YVbRbxFVkWLxZTEusUDxFcljklKSbZJOUpNSafKiMgMyebuMNjxTa5K3lOBTqFNMVJJQKlfOU1FQWVcNU9NW+2TeqmGucai5nkte61f2nU67rpY3Rt6ZH2i/l2DSEN+w16jNGMl42mTElNb+N5x2zzKQsrinWWZlYc1q/VzmwJbBzuS3aD9SQdvR2HHD05XnRNdjF0ZXIfdKt2jPQw8aT0Hvc7sDPZW8F7Zdd8n39fLT8JvidzpfyzAN1AxCBU0GFxLSQlxCpUOQ4e9Cb8VUbw7PtI1SoPKG42Kno0ZiG2Pq48vS8jbk5oYnxSa7L935z63FKf9Dqn2afYHHNKdDrpn7DwUkBmaFZ2dkpOZW3C47EhNXuPRe/l9BaPHPp9AFUoUeRUfPXm/ZOWU7Gm/shNnHp9dLVc4H1BRcqGnClWtVRNfW1/38ZLk5ZD62itz11Qa9l/vbuRoCmvuvMV3O6XlbatVW0u7fMfFTqn7Vx8aPBp+nNDN97S353Cf03PRATD4cejd8IfX4I3I+K6J2in0TOJH8KlinvxVd0ntp/Nq8cb4b/3et1EwKgCcOATAxu85DjUA5F4EQGwPAGxw7mlHB4CTOkAImAJosQNAFtp/zg8ITjwJgAR4gCRQA2ZwfhkG55RFoB50gQmwBrFDypAjFA2dgJqh13DOJ41wQaQi6hGjSAakATIeeQk5BWdpXqhS1Cs4E/NBX0B/wqhgUjHPsDzYcGwbjoSj4NrxnPhYfD9BkVBEWKUh0zylVaetpmOny6VH0CfRf2eIZVhiTGSCmLKJrMQKkhqplzmEBctygdWYdYotk12KvZcjhpODs5XLn5uG+xqPBy+S9xKfJ5wR9AnkCdoKMQk9Fy4S8RQVEJ0SuygeLaEhCUl2SeVLe8Kzc162f0eLXKV8gcI+RYqSo7KGCp8qpDqm1qJ+XCNEU1uLXmtEu0YnRldXD6fXp99gcN2wyeiWcavJPdMusx7zQYtRy2mrBesVW5wdq72og5qjlRPZOdml2LXVbcaD5KnvFbmz3HvAh+Cr75dEbvb/HqgWlBTcHkIIdQ6rCF/cbRZZFjUXrRWTEzsar5RwdM9Ckmvyg33aKa2plmkT6VkZ2pkgqy/nyuFTeQX5ZseQx+8X5hcHlBieki4TPCtSrlRhUxlVXVr75BKoV71q0+B+I7gp+eaJ29fu9LctdfB2mj2IeXT28bPutR6Zvp3PjwzcHSINk0cujc6Oc0+oTepNy7+n//Bi9sjnHXPtC2ZfOr8pLJYsLf+w/3lheWFVYy3l193N/WNr/Inw+EsAVWACXEEI2AeOgzrQCUbBD4gEyUE2UAR0FGqAXiIAQgLO8tMQVxFv4TzeCpmObEOuoLRRB1DdaHZ0ILoRg8d4YxqxjNgw7BOcNC4Pt4j3wj8gyBKKaJA0UTTjtM60j+kM6VrptejvwFnsI0Z7xlE4T10nHifJkp4yR8CZZzOrLxsNWzN7IAcrx0POPVzSXOPcRTy2vDjeDr79/AYCGIGngoVCvsKywqsi3aJlYlHixhJcEl8kH0udl06R8ZTV3CEhxy6Pl19VmFOcUHqh/FjltupFtRL1QxpUTU8tQ21JHUadRd1hvVb9eoOrhg1GTca3TdpMO80em/davLB8YzVtvWCzYoezZ3UQc1R3snb2d9nrWuJ2033YY81LcKeFd8yusz49fhBZxT8ioCZwKliUEhJyNXQ53DSicPdMlBZ1b3RbLCrOKr4oYSpRPelI8vQ+45TqVPq0PQem4f2kN9Mi62GOWW73EYe8sfyUY7zH7xYGFtOfbC71P00qe3B2b7nK+S8XrlbF1mjVYS4OXL5wJfma13WVRvqmiZvXbx+4Y9PGfne8o6aT+kDrEbZr8EnN0/09Xn06z0UGmAYfDTm/nHyV+Jp59NqY0/jqRPWk+zTDTNeHzFnLz4xzLxbOfg1ZVPmO+NGzXLoa9Etxe/yRAANoN3cAcaACzwA3EA4OgjPgNhiG178gZAHFQhXQIIIGYQSv/A4kDmmPPIP8grJAVaHxaCr6DcYJXu022AEcGfcTX0hQJ0zSnKTVox2hS6Lnp+9iiGeUZJxgOkP0I0mQvjM/ZCljTWLzZNfjkOJk56LhRnCv8izzrvIDASx8A+URlhXRFnUQCxLfL3FS8gacd8/LMu5QkHOV36dQodijtKIioequVqDer8ms5a5doTOnp61/2OCNkaJxjsm4mZZ5ocUXKzvrS7a0dmH2jx0lnXKcP7hauNV64D0pXg+9RXcd9Jn0MyRXBiAD/YPuUURDMkJnwq0i6iNZohKoYzFGsZfj2RP27fmY5AavU5WUqlSOtCPpqIPJGV8yPbKuZq/nOh2uOrJ81DH/8jHCccqJB0VSxbkn50pdT90pEz2TD+/9/ue7L2hWVlUz1STWTl10vNRSL3ol7+pSg/f1B40yTUeb52/Z3758h9Aa2NbaTuwIuNd4H/XA7mHpo4nHEk8o3ZVPx3s4e+37DvZff/52gDAo98JhiPryyHDNq3sjA6+nRhferI5Db7ETmHeYSTC5PPVpenTm6fvmD+UfM2cjPll/lprDzr2Zb17I+uLxVeLrl28ti2lLRt8x3zt/pPzU/LmwfGHFY5Ww2rhG/kX369q6+8b4RwcqKmweHxCtAQDo0fX1r6IAYAsAWMtfX18pX19fOw8nGyMA3A3b+g9p86xhBOAs1wbqu7L4r/9y/geXX9REBFRpFgAAAgRpVFh0WE1MOmNvbS5hZG9iZS54bXAAAAAAADx4OnhtcG1ldGEgeG1sbnM6eD0iYWRvYmU6bnM6bWV0YS8iIHg6eG1wdGs9IlhNUCBDb3JlIDUuNC4wIj4KICAgPHJkZjpSREYgeG1sbnM6cmRmPSJodHRwOi8vd3d3LnczLm9yZy8xOTk5LzAyLzIyLXJkZi1zeW50YXgtbnMjIj4KICAgICAgPHJkZjpEZXNjcmlwdGlvbiByZGY6YWJvdXQ9IiIKICAgICAgICAgICAgeG1sbnM6ZXhpZj0iaHR0cDovL25zLmFkb2JlLmNvbS9leGlmLzEuMC8iCiAgICAgICAgICAgIHhtbG5zOnRpZmY9Imh0dHA6Ly9ucy5hZG9iZS5jb20vdGlmZi8xLjAvIj4KICAgICAgICAgPGV4aWY6UGl4ZWxZRGltZW5zaW9uPjIyNTwvZXhpZjpQaXhlbFlEaW1lbnNpb24+CiAgICAgICAgIDxleGlmOlBpeGVsWERpbWVuc2lvbj4zMDg8L2V4aWY6UGl4ZWxYRGltZW5zaW9uPgogICAgICAgICA8dGlmZjpPcmllbnRhdGlvbj4xPC90aWZmOk9yaWVudGF0aW9uPgogICAgICA8L3JkZjpEZXNjcmlwdGlvbj4KICAgPC9yZGY6UkRGPgo8L3g6eG1wbWV0YT4KSZrjfgAAQABJREFUeAHsvWd3HMmWLbbLewOgCt6DJOiabDO3r5u58+5bT/OkedLSF/0u/RBpSZqlkTRaM/eO3sz1rrvZ9KCD9yigCoUqlNfekZWFAhogi2yQhMkAsjIzMiIy4kTEzhMnTpxwNeqNBlywXIMnHY5zKOBQwKHAOaSA+xzm2cmyQwGHAg4FjqWAA2jHksXxdCjgUOA8UsABtPNYa06eHQo4FDiWAg6gHUsWx9OhgEOB80gBB9DOY605eXYo4FDgWAq4wUlOxzkUcCjgUOAiUMANl62zcRGK45TBoYBDgctMAa/RO3OYtMvcBpyyOxS4MBRwZGgXpiqdgjgUcCjgAJrTBhwKOBS4MBRwAO3CVKVTEIcCDgUcQHPagEMBhwIXhgIOoF2YqnQK4lDAoYADaE4bcCjgUODCUMABtAtTlU5BHAo4FHAAzWkDDgUcClwYCnjPVUmcRQ3nqrqczDoU+NAUOF+A5qxo+NDtw3mfQ4FzRQFnyHmuqsvJrEMBhwKvo8C54NDqjTrcLje2t7dfVxbnmUMBhwKXnAJnHtAaXD1fr9cxtzCHhw8eolKpwOv1wu1xmMtL3nad4jsU+A4FzjyguWjeSIC2urKKJ0+eoK+vD/FEHK66M0Pwndp0PM4ZBdqFwk57Po3KO9uApjrWwXov7hcNmH355ZfoSfXQjJuLj5xGcBqNwEnjY1BAYHYU0Jz2/H1r4uwDWrOEPq8PsVgMqVTKANprC+60i9eSx3l4VihQb8uIGu1rGu5R7GuL6VweUOBsA5qdz2Y9G65MFnZfU+92lNa5vSG0PD/AxUl5PJqfk8J9gCyemVe00+QoPdqfdZrho2nY8Y6m9X3D2em+07lO/uxgj+/DSbhavNtJWTwc3rmzKfB2gCbqHm0UdkpvOjfjNrRRu6dZTUrrXdM77n2nnd5x7+jUr9NydRqu0/ee93CnQY9O0zjtcB3TnpyZq87vsjJgZ8KNA35N/cM69NRMf7X2/qCPieLp+G2XKWDngGbTWNQRQe17XRsC68E7OqVlp9F+3UlydrxOwjphHAqcFQo02ND5X4MHpYYbe9U6KmzLbncDfo+HvkC5yuc1wONqIESPEHurgTEin+HunP1AvlObnQOaHVWAo8N2RwBFhJYTJyZnRPcmfDOSHdeOp3vbz8Ro3tvPbb+TzieEs/PxsSYO7PcfzfbR/JwU7mi8i3x/Ek2O+ndKg5NoejS97xuu0/x8N5zV6DXgLPLhQh64v7CO9d08oiE3JvoHEXL7sbS1i63tHQTdVUz1RXFjuAdxqizZA1I7/3a57Pvvvu/y+Lw1oDVqDeTzedTqNcTjcRQKBXMf8AeMOoXH60GxUEQ2m+XXxo1EPIFAKIBKuYJcLmf0yKLRKCKRiKGywu7u7iIQDCBGf4/nrbN0bG3ZlXzsww/g2en7Ow33AbJ8Zl7xfWnSafzTDtciIDkq48SFneBqfLTPY6UE/PZlFv/8YB5Pt7bRH/fi1lAFEZcfL9ZzWNrYRMxdwV+NdcHjD+KTgQSCzTSP5v/o/QmvvtDeHaNHrUrm2Ocx4PX1N1+jUW9gcmrS6IfNz88jkUjg9u3b6Ovvw/LyMh49fGQINz09jeHhYYJZFg/pt72dwcjIKG7cvIFqtYqnT59iYX7BzFzevHkTveleglpTPqB2cXKbuNAV4xTu/FNAeCa52NFBhGRiUqM03FkG+N2LDfzjYoGMQB338kXc25jFgD+Cr/c45tyvIeoqk4HYwGhvN0ZjYQTDR7qt3UeOvuj8k/CtS3CEMifHF5gJxGZmZvCrX/0KPd09Zhy/sbGBnZ0di0sLBDjmr+H58+dYWV2Bx+0xoOX1ebG1tYWlpSXz/PHjxwYApfX/bOYZ9kv72NvbM2oZ3V3dB4DWzI6ZSJDeWbvMQJXnVODJFeY8+XAUMByZBnzWvt0Ug0FgVuVRYS5294ESGQJNBPi9DUT9bnj5VyPa7eT28HItg2KeN8FuRtrFaqmKVVeBArUAhWY+5OslvCL3tr65iVJ5CPWIz5TN7g7CM3Pt9AdStUMnMMtkMgaotK6yWq1gbW0NddbKJ7c/QX4vj/WNdQNOAq8b129Aw8/ZV7N49fIVh5plDAwOoCvZhfv3v8X8/BzqlLOFI2HcuXMHC4sL2KG8oFAsIEBgNI4VVCqVINDcZGUKAB05QYcV5gT7MBSwh5fNoYSFKVYrLRPVNohjD9b3sLiyjnxuB6PpOG6MpNHfHadIhnjFJXyEQWskwokBN/uZ+pQ/4ENZSMVVMuA7/OxzAa//Ox/7D1PI8/OWjgFNw0MtP6pWqhgeGYaGoJKlSdl1dGwUmxzrLy0uoVgsGk5Oflqy9PjRY6ysrCAYDGJyctLEfTrzFKura0ZuJk5vaHjIpCXALJfKLeoJwFaWVzDzbAaPHj0ycVtcmfM1atHJufjYFFBjtNYWC4PM0IEARCzDs2wD//B8E9++WMR+dhu3ukLIV1z4cSiO7jCQjIdwdSDFiYEqZna5GsbTwEh3F/x+H2b2y1jnEDTg4qRAbwoDvX0I+P3mDc7P8RToGNA0rHzw4D6XIO3Dx5mWLd5rYiASjpjF4kpe3BT4HwqFTJ2Kq9Micg0p/QE/K8lvwkpGJuDzsdJ8Pp/x0zM5e3ZU1xpiKl4oGDLAGQ6xBTSdw6nZlHDOH5UCxDLBWUN6Zbxwm/GfWqcLe2Suni5s4h8fLXL0wiEkx6DF/C4Gw8u4SRDrD8cxmgD+4/U+Iyd7trSGhD+MGxNDiEfDeL66ioVVMg2+MH4wMYDbIymE/RZkftQyn+GXdwxoma0MlijsFxcmOZlmLAVcyUTSzGAKiDRTKbmZuG+BXZnDTHF2AiJxdDYIifNSK9DMp4BNszMGDEmodisasqqhxeheznwq3F5hr0VKZ0anRQrn4oNTQBDWBiy8rBPNzNCR0wB6SnE+cvtVql5ksb5DIZqLH2O24+elHSxuZpDbpRZANYIeyqa/nIqiPzaBtUkBlhfDfV3giBN3R8LI5sitESwHk3GM9QQR1HyZRqFtr6eP45oU6BjQ0r1p/PQnPyWoLRlBvsCmv7+fw8qasYKxyy+P1Dh6enqMbO3Fixfk5HxmqKlZTnF4kqVledYEwNTUlBmSSt52//59I5vTTKnNqdk1JDlcMpk0YNkOaPZz5+xQ4MNTQJAlR1QxMjT7XmfrWr91Csl8WhVDQEJDEMfDW0WFg5GGl6OWRgFBqmeEqPLUNRxEmYfwSmMVxR8hl1YbCsHdqCFA5VuvQIyMQ72JZoYbZMDXaIcwwuVyHQNaV1cX7t69iytXr6C/r9/IxQYGBoyKxouXL8ywUKoYg4ODhoN7+fKl4bwkbxN4rZJ9fvjooQE7zWRKnmbrpj18+ADRaAwD/QPWcLVZB2b4SUGEztJpc5xDgY9JAQGHwS+TCXJibJcuF2f/TUt3cURp8WgCIx0JzmZOpbvwNz0R/GqZxkmrJXwW9eKTdA8GYnH4qDzrIl+nOUt1RMJey9FolnlW42/N5TWrCKoS4TAP5lBIvYTuIE/W/WX+7RjQJM8KhoNGpnX12lX0D/Sju7sbqXTKgFs0EsX4xLhRxzCzNJSJKc7w0LAZNhq5Giktq7OaBBgdHTXDTA1L1wmW6XTa+Eum1nJqQPoa8b+h2R7HORT4yBSwQK0JWbSkrMVIaqMleu3sVbBXogFStuEoVSsibLd3x7vx3+9dxVCIM/27OdzuT+JnVwcwkUhTlMKPdDMpBrWWNZnyMV2XvuSaAQWynCfLcvhabpSQ5JA0QdGOkTgrkuLr7DhDARc1/0WSN7sm0fRV0uylBP5eEldcluRjLn42JOuSDKxcLpvZSnsSQASXqkepXGL4MrmwsIkr4NOsZrUmOVvIqHEoDdsZ0aoaCycb/vD732OLs6A/+5ufoYdfuEOfMzuCc3Yo8B4pYNsUdZvhI7sN22ad3NMu8efh6j6eLaxhLbODdCyI2xTsj6ej4IgSC5wPWFjOorJXxFhXHOOJAFJRDi6PG3S0gRO7GNYY9/7KHlcNrCJbyOJqMoRPx4YwQPGO0a9tB7S2uO+RDGc66QP0eFM2m7AnYbwR/OvjQopLTqaj3UmPTBMEttNyKQGe8eczXevLIpDTLKav4YObsjIpJBpnn+0EnLNDgTNDATZOAxwcCpKDEsgtUTXjX5+u4I/PFrG6vYsrcR+KVI6N+MYx1BvBJOcDhqcS1DFLGK7NLF0SHyEGT32h3dltn95aKPByq4b/OrOMP76aw2Iugx8lyUQw7b+5cQWhRIhZsSIYzrGZr6ZXe6qX5rpzQGsnSbMOXCdJI0Vju2IUzw5vX6gim06gZmY/j8axAzhnhwJnhAIHEjJhkdcovnK1Ep6u7OD/fL6KPy2TnaoHMJsvUIC/hit93eSkAkgGKhzVuMkI6MPfHGYaUUp7J2kWUn2l2T92Oep8tLaNf3q5gW+2NKkQg3e7gNTcJq6Pj2GoW+pRDMy0TBc7qT82k74Mp3cDtGPq4Y3EelOcNz1/4wucAA4FPhQFbL6IJn4IOtt7+9gqUzVD4OINYIMimc1iFTuFEkUwtI7BlegeM6nV+rI3M9q8b8+2+oG8eRSZ9ubeLmYKStsCw4VKCav5EvI06tAA99Yw6GdPTCghOwFdXz533Cj+1KnwJp0xI/g/9bc6CToUOGUKGA7IQhuNGMVkyUm2nxBrIJkJ5cFUvkSFY1E312FyEpT+/LEDN8GqlZQSOOoYRrAkixwurhzw29OYHOLWmGCNo5oa32MxchzfMHBDCdrH0fQu0f0HAbRLRE+nqBeZAm06Z+LRhFVd/LnTH8WPUwlMegkx+U3ccu3j0/4EFWHj1mJp9bImkFnkkaLHyU5gpgFmmEzZFNP4GYeW3vIuUNjGj2gv7bP+Hk48RKxZUTPTesAxnpzq5XjybkPOy0Ebp5QOBU6kgAE0ckRegtwwZy3/2+tjiHNx+dzqNibTCfz09jhGCUQHK5UEU+1O92LB2v14LW7LOplVAZO9SfznW2METheyHMbe6Q3jh9cn0d+T4CL2KucULKQ8msyRVC/NrQNol6aqnYKeJgUEaEZ+xeFfT9iPn431YCzgIehUuA7TjwGuPO+N6o0UhB2rn3FMbtowT5fUy8VYyotwcAjTfUlUOYxNhvxcBuVFlEoEbqNHYk1VHJPapfRyAO1SVrtT6O9PAZsnoskfckkJatFeGyPoKGECkU/yNCrHWjP4bUNMW5Z2XAbsJPlMw1lNA0j5KURgHKCFZ+GXkm3OlTa5O8rq2gV6DH+ZnQNol7n2nbK/MwVauCQwaQ4Sg+xNAh0J6wVkAjctbbJxyj538lKFVeeU+M2s7aSH3mQSE1bqLQpkPHnNCQPLQ4Eur3MA7fLWvVPyU6GAjSpNwTzlalwMxZSt+4MrgzwdvVHQJFDU2XZWOvadfT7e1356Gc9nD9BUR3LH1L9R/7CfW6GcX4cCH4wCVpM83ACtuwM/XbUUzm1vqVO0ru3s2h72/eGzedoMYoc0zGDLjxfH9JHDqVy+u7MHaKoDVRor6zv6a/Rv+TXDXL4qc0r88SjQ5MKOZMBWE1OTbHe2v/ETqL2FOxS6edOmNcKUDoV4i5QvdtB2rvZil9QpnUOB90ABMUlviVVvlQsDW+YlbxXt0gY+mxzapa0Op+DnkQLCGzNJoItTdIc4vFNM9yIn5XBoF7l2nbI5FLhkFHAA7ZJVuFPcTinw5nHeIYbs0E2n7/h+4TTUfZ/D3e+Xu48T2xlyfhy6O289FxQQSnEioCl/Pwpxxp+e74srMBgp0GqjlbJismN7NvN2KFBb+Mt26QDaZatxp7wdUsCCjhrRijszYpNrw3f3yqjQkkZ3IohUzNoLQGD2vmRdJWahwGOHGdjO1lCr1NEXbiAV8SBCbVtpvNm41mGhLnwwB9AufBU7BXxXCggstLfmKndP/MvTVTyfXUGFG21fG+vGlzdGMNrFnczfNfEO4nE/YmS4n8CfZnN48HwZW5s5fNLLdaO3RnCFi9S1/4bL7bVgTfhrs5IdpH1RgziAdlFr1inXu1NASEaAED5wQ3N8O7eL/+vrWTyZ30CQm/+85L4BtXoFqR9dh/+0Ec0Ak/X+MsF0ZiGPX/DdX81vGmsbS+vchIVbSMYjExjo4R4e4tG4zZ01ED3tzLw7CT9WTAfQPhblnfeeQQo0B3DSweClsEXGYp8tbeHP6znMVLgsvNxAtr6H8eUMNjO7SKZj1jolBdZxGs56PXeQAl5xc5VvFnP4hkNOWcP1ZEsYownuu+QSe7k9XtOA/am9+jSy/zHTcADtY1LfeffZokA7IAnQeMiy9lZuHzNilzzc3kRcE+2QbXFbuQIPsxxJpRAWtsd/15IxHSUla7XcC4VmvOt4sUefEqV1Xj9e1bzY3q+TQ+Tyd2Kc26Od2gVrWgbvOIcGThtwKNBGAYGJDhucguwhPbQSO8n9SOCiQMvXwHjIi1Q8ihB3LDNOveg0wMxKzQx1teG6LHcnonFMcAd1eIReJUwGrEmBrrAHAdoScnNcXKdNNm1L7DjLQsnZo4NpUWcvW06OLjgFJDTjv5qfgQf+JDiinBpK4M4Kt1+s7HL3pjLucvu46d5u9ERpBltgJjtB74E1iNAY2ng6gr/qD8NV2kKhtoerBNZJDnOj4QjzqMxamxFf8JrpuHhnb8jZBmayKdVajM4iaZNjHca1heu4tE5AhwIdUICjSi5lUgNrIECzsZ9O96HEod3N56/goZntW/19+OHkMFLaYFPy+FMGM4Gp8hAjh3Z7gF30bhpXYkXscHu8a9wa77NrE4hyw2HhqJ89xK3AcgaFrcvL+nv2AO2y1oRT7jNBAQNjYnz44ZQRRT/RKs0R34+mB3AtFYWPuy71hcMchrZlV0Byih9YC0o5fOJFiu/+q8kUrjITVcrN4kEfreP6QWvf1gYsdjYcMDOUcADNbhDO2aFAGwUa5NAEaNynHGH+9gVc6BuMmYmCEMFDIi3DEdlAcqqgZkGaGL8g0w1Rhtcb4rBT7yCoGSNGGh7bru3S9rqsZwfQLmvNO+X+DgVsjJCNfmGExB06BziuFKemsWVzJGqB2SlyZe2ZkdFuGYlU8prDNH/NF3sPsYJk05pyv/b4l/n67QBNtfsulfiu8S5zzThl/0gUsDggNVkjHGu2d+veSNcO8tXaWODA61Su+E7rfU1u7FCi1hPLq/36UKBLe/PugCZafgfc9C2xvmyHKHps2EMhGI+V195AvpP24fDOnUOB06aAYYLYVq2mZ4PFKUv8O8m0S8BpSfrN5lHiDg37SH2zZrZMXpWWnc1O0r0EYToHNJtwdv3agNN239zE2SKyHd4moh1O9/aHjmmYWUuFtdNrv7bjOmeHAh+CAkQJq9lav2qS1pX1chtM2rNinpu2296A20O8y7VSbe4WZV7QzMXRDL1L0hc8ztsBGoGoVpc0lBXd5KZq5RrcburCULnPOBK9VqNlAIaTn4eKOi4+b0izmX/1ep1+3BeH8XVdZ1hZMPB5fSYdl9uWXFjJOb8OBT40BYz8qokhBtFsrGJG2i5b2bJVPAz8HRegFbLDC4OcdgYOx2lxZoe9nbsmBToHNEZYWVnB7Nws/D4/+qiLE+Hmpzs7O9hY30AoHMLY2BjiiTitAmxhbnYOXp8XI8Mj6O7uxt7eHhYWFpDbzaGvrw8T4xPY39/H8vKyid/V1YXhkWFEqDB46LN4tKrsetb5NBrP0fSd+8tLgTYWzG5mb2pjVhNsfoSd9vjR207HgNaoNZDL5bC6sorifhFLy0tIJpLYK+xhaXEJgWDAcFi9pV48m3mGp0+fmuHkzvYOpqensb29jW/ufYN8Po90Km1AUYB2/9v7Jq1UT8pYERgfHzdngZqZY2qexdGZe5tkanFOA7Kp4ZxPmwJv0bYUVM3RcR+fAp0DGtEjlU7hk08+wctXL/H8+XOsLK/AT3MqAwMDBthmns5gN7eL5ZVl46ehp7g6cWryDwaC6OnpwatXr/Ds2TMORa1h580bN5DJbBsOrrevF/FYvAVWSqNQLJCbK5khaotkb9HgWnGcC4cCDgUuNAXaRfUnF5SfHzdlYRpilstlrK2uoVgookigCQaDuEFAGh0dxdbWpgGzcqmEickJXLt2jQbxKpifmzdDzpGRERM2EU8YoNvc2EQsFsN1xk8mk8hms2YYamekUq2Q+1vEN19/g4cPHxrO0H7mcGctSjgX34sC+jI6X8fvRcIzFLkzQGtmWDOSGxsbWFtbQ5WCfE0G+Mh9RWNRJBIJVMlNbW5ukpPSGriA4d4k+FdYHQorUFT43d1dM/wUUMryZjAUNENUcWTtbm+vQDnbknlvuVRuTUa0h3GuHQpI/GUfx1PDBi77rFAH13bcQ2etlnRVeNDKBlcMuBoVWrdoHrx3tx1oaGUl266k9p1I7lvh7Dy0n5U3x70LBToecqruxY19+tmn5nzv23uGy+ru7jGzmlWaJhYweWjzRPIuzWTaYKYJAw0v+cDIwcTdyeqmHV4zoLr3eBm3TRrh9XgxPjFuJhUi0aiZNVXajnMo0E4BA0LtHmpqwoeWs8Gi5XFwYQdku5I2kWwfmKjUQXKjyCVONIhWJ1jpIdstGyrXPfHwUUvfZgc0w99QV/IRVHV42YrVll/nmhlUoObl4dCvj304rHNnU6BjQKvX6ma4KRDq6u4y3JdArFAoGFmaJgzCXG+mGc1MJmPATi8RsGk4qbCaGFD8YrGIdDpNDs/FiYYstne2kcvmIADTc9sJvASG8lMaCtMOeHY45+xQoJ0CwofO4EAhiVQcRQjOPEaRkn68Rz1PpiwH7GdRyvPgSKFO8YmL/UDt0c2jpo8rAdFFQPPStr/L44cvFIUr2kMzGFECHu3/uNme+cygX4MgaOeMZn8sJDsWzfjMce9Cgc4AjTSXLOzV7Cusrq4is5UxnJgmCARo397/1oCR1C5GR0bx5MljPHr0yAxJpcYxNTllhqlzc3NmRrRK2djQ0JDh7DQb+tvf/NZwdZK5hUJtZgyarVJg2tJze5dSOnEcCogCak9N/DArU3QjENOQslKgeVpyYCVt77TO6zxqRQJZJY9yZZ9MWhUujiTEwtEKN3GMIKizSZBiFaZNCQwq0rGM9cOXGIQ3PoBGME6AS/LF6mo0CNkIGC7QNG0z2mAijjs1CnQGaHydBPSVcgUS5Et2dv36NHpSKWR3snj+4jmikSiuTF0xs5sCrBLlXWpAV69eNeAVpskVcWaZ7QzVOK6boaTkZVLdmJ+fN/E0keAPNK2AthWxbhpdm4dz6VDgXShgY4dZfE7ZWINttEYQy69Zx84ayntZfmgrVAx3USJGxfBgGOFYEh7Kf90cblrDW1mKbaDK9qylSZItE+5ol6xMvywKO6uoZtbhDc8hFE8jEO2CJ54CwuTcXLTY4Q3Ryqy9wcm7FMSJcxIFOgY0qVyMj48jkUwYbkyKsNI9y3fnDRgFAgEzFBWIjY9PoLe3z3B1EVr1DAVDZogaiYQphiga8Ovu6WZLoNSBKwSmCY6aRNCEgYadjnMo8C4UENdjY9br42tISSDb30ZjZxN7G/PY31ogB7ZP4CKHxVFCMJJCNMQ2Gu4C+LHmmNJ8oK1VAYxPEKM1bqZjvVFSM5mu9RPQwrlN7G5voLi3S3WmHPIMEiCweWK9CPVNwZNIkSmgobOGPt6Mx7QkX3bc96dAx+hhts5KxhHn0e40pEx0JQ5aEutGumk+P2UHqmvWk2RhmlAIhmXik47twTg+S3aLHadTWDn7bN05vw4FXk8B4QFDCA5s+b64qJbTdSsAQYlL8iqlffjyiygsP8M8lcJX1wlq+xWkh0cpMplEV2+cupMEMh0eycLYTSTy4gvMH8/CH0ue295g6Rkn15fMIZbOIJrj0DW7gtruBvJ768gXcwS4LHoGx+BNDLCj9DFdytkcd2oU6BjQzBvthtH2ejN72XZvtSxWNln21iyQnqth2U7Xdlr2WV76UjWdI/y3KeGc34YCalo2sLXiSaWiwT3hGtwxuLCDSmYDG1Qvej6/jkdL+1jYCWDf3YXrqUGEvONIx7o5kUk1Iu6w5HKLixKaqck2/9hODVPV9DXNmT9uolyDgn8Xh6fwUXYW7ie4jcJb2Ca4bcKTy2BvZwU7e1voHhiHu5dqHpFecn8RfuPdljVvdoEmdprUD/+0dZbDD5y7JgXeHtBsmtqg1E5KPdNx1Nlx7LP93A7bPDsgZhPGOb8zBew2pfZpO+mSVXe4J9wLlNdfEVS2sFjoxr2MG3/IJTFfCWG7EcLyRgiB1QaGuSt5PMLJKabh4Ux86ztL1k/JHtdODYiKbePsJedLrTAeysuiGrbuE7O2EEusIsZdm3Kr88jNfosAZ05DA9NAeopD0CjI21G2RixkGfSew04FO65wh0Nd9ru3AzSbWu20tf2OO9v01zP72j4fF97xcyjwthRge7L4p7aIFuqwzUnRlTBRXAE2ZlBZeYw8J6EqvgQy0Sk8cBfxL4VdrAcoMqm7sZ0pYnxtBz/f6+b2cWEza2mQpcM22z7CEJtoQEkg5+GwMpqmII0il3AM8XAKucUZ7K89pShvBxHOqCI9yV3ZmQ/tXUddNgGj6TTGNhqt1DC1BtMy9tE6zE8bRS7N5bsB2qUhj1PQ80cB9XYeGmbWqIKhGcylR9hdfsqZ+jJC/ZNIDn2Cuf0JlBcWsY4lghkBxFXDUq1EWVrezOJLBUPOqKbxLFyyXOvikIjEfqqzzcFJlmeFFkjx8OugNRlfBPEowWt1Bttry9h/+ltEs+scpfbB3cVhapjgB8ruBGYHY1uTstI35WumbN07vzYFHECzKeGcLwYFNLwEtfsrHGJuvkT51Z9RoTDe7Q0gPvIJvEO3UY+PI1oIYqC7gL5IBmtFytYY5weJGvfBDHO23Rputoaa70AZi4mSuq44KxuCaJGGOxS4g+x2UrwNRNEVjKG69AB7L/4NeZcfIeYvPPQZZW9TBD5ydmYVAjkzAZhJ1Er5HbJ0KaI4gHYpqvkCFNKW9B+awrTL1dbJ61SQLawCW885wfiS+rL7CCQJYFSXcKUmuH4vQW7Lhz6O/n4ymuYwcxffUA+SCmf48VgUn14d44oXApqSbEvWflOnZzu7hrMjMlocnp0gJxo0tIyPkRtLwhtLIzL7NbJLT7A78/+hRH24+NRP4OmdJOhxptXV1A4wL7d4PsP9NZOzSWK/s9M8XsRwDqBdxFq9sGVSD7Y69OEiyl9GDXjUOcwkZ7Y9dw9lqu8nBm8g0HsVrgRXpgSSqHGjYDePOIeAd/qpXvT5FD4ZjFB7wo2pdAA3hlLUjWRSTbA4/J63uzM5NUrh0lOyExTX5jVKu253nLOpBLf+GNVEfOjhe8vzX2Ft9vdcgZNF342/gXfgFkF4yMjP9PYDbu94SrxdDi9eaAfQLl6dXswSGSyT2oTl2mGtRnmXp0HOrEThP3XLdmdnUPd0ITFxC42eK9bSIx8NJHDg5uXSpAZBxsOE0hRndU368KOpEYMO5JksZVn7JW+gpPQr3+wYRms428avEs/pMGybm+ohXBLl6rnGYWgM/sQo4jO/R37rHjbuZ5HIZxAc/xkqoS4UuVZUC+O9TDLIPJo0DEU4rFVySvOSOwfQLnkDOFfF19CNGW7hjblowCOurETh/+oTFFbm4faH0NV/E25yZxV/Dw1hCMQOSqrF5B4mpINaFIecMMoeunWEV4diH3ejHMvZZ+vO/uUiKsOted0xzgMwzGAACXJroeduZHYyyHIyY7MU4ORFCuv1GIJdSUyOjnDjYwvYVDDNfh4php38pTs7gHbpqvycFtggErutAMcugnoxZyexT85s7TEKi89RqHiQGr0OUGaGcDcHd21g1ozYis/oHxsIBJ6mE0pVw0OWMUZujitt/P44+jk7u0KdtY3ZP+NJlqbt9zgDmu5GruTCjyf7EYpItiaVDv6yUOI6L7tzAO2yt4BzUH4jADcwRqVVIQDBTYYW4aL2f2mbnNkzbC6+otUfLxIjtymTIqCFuBjcggoGJ2dHBdl2IFOxDUZ+xPLXbIBlkbhvGnPCWU0CMMh9gXK9mj+NreyfsLLxBJW9FYSLGawuJvDctYubyR+hLzZkNHFNMg6YmZp0AO0jNmjn1Z1TwBKGSwWC8i9jQVbmfrZRXX2KzOIz6pg1OAFwDYGhm+TMuEayBWbWO8ww8iiidf769xJSKh1yNiBZkOtDRQYiuXJgmzugzWMRM1tPEfM3MBCl2ft8FfWsn/bZaKutPmhic5PIJqd5xgpoSvdhfxxA+7D0dt72DhSwOnyTw5L2v/TM9leBxQfIL82g5EoiPnoT0cFpcmY9NIDRNM3DkO3icls2piycBYbGK2ZTmaETJOla+mYeorcMPOdcYSx7B/CwOIyB4iYmYwX0+/Y4hbDFBRB5w2E2GNBtjBcpFac7WxMlooXjHAqcAQqoU9tHKzv0EIdmDTfJme1vAC/+gLWHvzGa/YF+6pkNXSVnJntjPqNgbxKhsNyopJpzKzVzIZA87jgc6v3eCWCVB7mDvGg4zbLqGfEpkOhFIzmC+UIYs9se+Kk43BfYRbS+ynJmGLZsiqrF7aLRgVMClK5JxmhCHDy5yFcOpF/k2j1nZWMXPNQp2zkqCb5rFH/7yxlyZveAx79AlUqzsam/g290Gg1yZsYRCVwUjmnmz45vn1voYYVsPW/eftSToNfiJjWTKy6NhjiopTEx3ofVnbuYYblyVBhOJl0Y7irS/NFj7M5xg6KB26iGaRlXZsCFYSqFhIOm0AIzHmZtKGVzl8A5gHYJKvk8FNGSkVm8hA1sttBc+ffRIKOnRjDbuo/q7B+xW6whRv2s+NCPUeNib6OVZaT86sCSTmnwYbMsSpH3ZsE3L8+Qs3NoAZF+mz7McpxZvsKFApG7o7jVRTWNcgFXo5voca+jnH2FzdkHBDE3LXZwMoHcaUm7sJEbk0ztAK3Vxe23nKGCv6esOID2ngjrJPsuFBB3YnFX1pXVFQ1vUed6yyLlZvNfY3trHkhNoev6XwM91xXD/HlsENP6Ry0GN/pZ4tianIrJEp+dJSfsOSE/tGkLH7MbJV5foa02KnYgWJngzO4S6ms0VDnPjb2Xn9D0dwSB4etwRboMZ2omGwTqZgyq8pLn00uE6xfcOYB2wSv4vBRPIyTLvDVn8SjcrrETqit6eecG1TO0A9PiC5rLpqHE+DAit/8DwWyMT6TqoD0yKXfib51ApuXpBWJYkQY3ymTzUlSDiBsJPD3VyU3vZqAz38FrBDEdFiVYHKMkzBLBTXND/VRdyS6/xP76YwS4r62fC94bvqDZsEWFUzHdbVzpZQA1B9DYSBx3RihgwIbzfOyE6nzCILcszcoMUG4F5dXnHF72Izl2G+6BG6h6YwaTNDNoSaA8KDLeCrFvZjmDha0sKlx29ElfCLcH4khzzfmBkbMzUuaTssFyHNhE03Wb4qz23aClW1dvBXFu6JJbW8Hm0rdI+MPwpScYkJuwND8ISl5JGXfmAdzO6LufHUB7d9o5MU+dAux6VLmwOAv2S+4KZnZl2l1FffEpStyhKdD/OcHsLqr+XnbagNRQmx2Wi77ZYfd4PFwu4l8fLOLrWYIg+Zv/PBWnae0xytvi4Br0c+O0k5S1abHUbZuDcHuGw8W9PSLcl6q/inBll7uxLSO39A0i3OTF00NQMyocFpdrCnwJwEzldADN1Lbz80EpYDrlMT3MeLETcvG4n5uZmJ2Z9qiisfAQW5vbSA58Ct8gFWdDfRyIybaYxbVokbhE4RXGX6UZtL88X8XvXmSxVPRjs1JC8tk6Rrm5z9VUDwISSr3JtViaYwIek+1jQp2Kl8DaTFjybMnDBPjMgBk7shwuzuyG/fBwwUAYBPxFrigg9xbUru7xUcbiNKnJ7+sy/brCnkoxPmgiDqB9UHI7L3stBdS3zEylpEUy0shZzY2X2NlY4CiKZn0GuayJ8jO4NXa0wEz7Y6qDK6pUO3YLDSxu5fF8t46s6dANLOXzxq9Aa9y08H8wBOP1ie64fv46XDgxoXd/YOSK34nOjBlhvzLI7ksLHB4ya0kWvry7iczaC5oiCiA0yXWeIa79JMdrAaCoc5w7rqDHhTsffg6gnY96uhS5FF7QtD+tZzQBjXsB7G/P0o5ZGN2jN5pgFjFMh/S0pIBqAJAcnWVxgsBGExoeduiqTO2o4zMpTRT4uW+s7O4YMd0HBqb3UnlCOxVGpolATi1GI0QjORqKpJHItWeo0lxSdMiPaqgXPmHWRShzB4TsgP/uIBUniEOBU6CABo4es+UcubPyDhqrc8gXqETKGT1XaoxIR0UG9WG+y4CZ3mlMVLMZ01Mg180gNzkB8GXSg/5qFpF6DtNJH8ZSMYTYs9W3L4YTFehUIKmocIIEXVcRo5Kxm8PqneVHyK/P0JglN2AxyrUKfPGdw6Fd/Do+RyVkJxXnQeE/NueR2Vjj6LILgbSWNaXIaQnyLKcvsS1fIrwZTw/j9oRd+HyiBwVuEdfVyHL4FcFPp4dwm+a2pXmv5M+1MwWwCtHgsiZLjZZcqdRXglyUz5nPBHeEL1NHLb/6kFsXROHpmiSJuIfBd9zFgXe7aA6g2ZRwzh+OAi0ZUPOVVAI1Jn4EV9rkhDsvFRdeYb8aQqrvJs3qU8Ct3cuNhpniyIy1TuK4aHhH0XjrZmdP+l24M+JDd2QSX0zEaLq/gWsDPeiLexBUoPMMaAbMbFmYQNwCpCackwCUm3EPAh+tjvRWilhbnsXuy3+H50oY3q4rVnBDe0Y1zopv312EswNoF6EWz10ZhCoWt2W6lAEZ/XBms8RpyvUFFHI7CKavI9BDMNO+lsZJ3dZydrcWQpk+yuiyUCHdNdlIJJOGwXgaNc6WJkMea/Ne855mAm86vU3YN6X1Hp63Z8++NkoaLhqJ5NpO71AZqXIJuQ2C2sJjdHE/BQR5uLXewKbie8jYR07SAbSPXAGX9vWG22DHMr1RZ15IiXZzlltpvuT2lVzOMzhOdNI6TToTTp3xIIq5Mff2Qin2VwUkwkWYpIaYREMTwerCJhH2Z/u9dgpHzs1gR3w//q2Quzns1mKvJiVYXO3WLsu18g1xuRTNJ8VcCIw2kK6WsL35AgWa7vCP/QDeJPf8PPgafPwynXIOLG71NBO1Ws6hFC3iH/Jybi47BdgfDaaJDho6ymjj/iZqGy+oerENT6qPG4ZQyULbvbUBTNtlGwXF7R0caoJHDwXWTKgBs7aY5/HyaNlkXUTqK5byrYbjBH4PJwkSI8DIZ4hGYyhtPOf6z4dmsuU8lrnTPJ8+oHX6ZiecQwFRwPROKdFyNm57DqX8BoLxOOXbYxwisVMSweoSfrfQT8B0HOksQDvuSbufAPF4UGwPdfav20FNXKk6slFlMVnXU8rTuPMVuKmyr2+E8sN9lJbvo85NVyxZJGl+IShhCtz66XjIWaeuT343j93dHD9ybu4uHaFujx/1Wh27+V3uZehDLMZtuIJ+7n1Yw052B6VSCdFIlF+ICKr1OnK5HPaL+4gn4sZfnFsum0N+L49QMIQ4G7KPO9447jJQgLBiQIqcGU0DIfOKGze9QK7CPTMHp+DunuRzyoOEPsZIIU9UT7DBqM72JGd17OPVMTrbZs4kc85/bITXKguLZOLXXFw/AO3S3sX+ldrEHjde3l24j0RMQDdAUx6c+dTXwSbqOaeCst8xoAmI5uZm8fDhIzMjNTo2ivHxcSwvL+P5s+cIBAP47NNPMTo6hpcvX+Kbb74x5JmYnMCN69cJcFnc//Y+Njc30T/Qjx/84AcG+O7du4fFpUUDhnfv3sXIyAj3Tuw4WxegCi5pEQhm+nPJkkaNG53sLKKwuwMf1yH6uib4JM5nagdaZm39GWxrkstD2192N1aH1Cyp7S42kLVKbRfXAqXm3eEhF8O6OKESoTrH6CeIkCnZZF+rzH0N3zhDJsg8mF3Z29LkZYvOByQ9eNcZv+oYOdRItLuzwEhc1czTGWQyGRSp+KiGKb2fR48fc+edBp4/f479fRrk83rxbGYGwUDQcGcbGxxOBIOYn5un5c0kvHy+tr5mnu/s7GBhfgGpVMqAm6Fqi7JnnIpO9t6aAqpaDSNdNCGN7Dz3O1mhjqwH3tQ1qkwNkxtjZzMdSsBlNQR1O+PVfFupXOHoIG+GW+FQCAGtBrjo7vjx9uFSG3AXByuKEbi8CXJkPA8W0V3Mo0RzQzWqdwT99A+LZgeAZuqlmdqBb9PjHJw6BjQ/9wocHR01HNTc3Bzm5+exubVpAOivvvgrAtg+xG1pKCBwuzY9bYDq22+/xezsK1QqVfT19Rmu7quvvjLxNbz0sBF/Ss5uaXnJpLed2bYAjdRUWtreS8CnllytVQ++xKJ2e+s+B8R2stikAOtORhddGmoW12nv5ymy+xX4eyYRSQxw6RKHSnKtOuZF29CozL65SXW1Pz3N4MGrRXjZtq4Pp/HFtSEMdXHROjkRK7INhSY1a4SrNC+oE4ms4umXRGo59h83F3wmxuEeK6H2PMvlUQ/QFfRxJvkzMmkJKsxw82XDDYsnbsY9gVZGUtBK+2xddAZoLJiHu09HvNwrkPIxycbcZPk1NPT7/Ein08hySFmpVAzXFg5x7V1XN3x+nzm2yX0JlIaGhtDV1YVoLIq11TXzRe3tTRugy/NLu0kOrlrl4jsRkmClYUQ+l8fa2poBPL1T3KBxzTBni5xObjqigOpOR5lWaHdWUd6iBdbAMAK9k/CGKd9pdwpndzBWvUTZBeLVX2aL+D++XcQvX60hTnHIj1ZzlOdWEfxkFH1RyWEtMFNsOdMJTVrW/UX7tfHe9A5TzrbC8lJrCVzcRR5pbihT3kJx9iGNQz5AItzLCZggOeIQ+xsJS/l4s4edSCIO1s4sM9EO4ycWwDxo0ufVq5ccMs5hYGDAcGduj5uWMv2cXSchCEDiqozWN0stAKry61kulUkwktRDolL70ZaRCQDLHDZowkFEcvO54thOzxcWFvCXv/zFyN/E+RlZiSiuj7DjzgcF1Hbsg5fWXt+EpgK5s7V5VPd9CCcH4E9S50xbHR11qm8e6rQVHhtk7P40u4xfLO9gZd+Dp40wHqzmce/FMrZz3BXKdMlmpKNpXaJ7kVy9yaykEDmkzuGlHtrAHaQGR7koY4ubzj+i8cxlmvGm6IhgVpVOGyPaAKlY58kd03qOz75mM7e3t/HkyVNyUTVMX58mR7WJjc0NSP61l98zXFw8FidIlQ3HpplQOc1qSqwrLqzCZ0XK18IRa1ixt7fHmdNd+u0bsBIw2k4A2EMbVuMT4+bdujeAppoyFWSHdM7nhQJmIqDOiQB2JpkGyu5kEOkah0eWVs2sm75U1D1THR9xqnI9LTJ6Zq+I1TyRza02xhn4yh6ylOdqMTtbHA+Fbkuk7ZIPLoWzu8jholOdgzuyu9LTCO9VUNxeQn4hiOgoGZDYIIEsaLjg80qgzgCNlNEw8+GDh/jzX/6MkeERU16pWaysrOD+g/sEqoqRfWn2c3lpGa9evTITADVaHdVQU6ClSQHJ2rI7WSOPE0DNL8xb3FexgBgVAG0QFHC5+bXoSlJ4OR3Ebm7XAKcBtPNK7cuab7tnsfxGwaJOLiq7gFJmHjV+wLx9V7kigLa7uLGuAbMT6CQuXkNHSjIQoQ19s9aJH1p+5WjUkIYN+SAkf+MOd+OTvJqBL+xJpD9MCTIMDX4EwuOI9HMX+vwfqM7xCFGpdwSjXBlFSZqWRzHi4Xjng0QH7NAb8qth4/r6uhH4i9MSkElG1t3TbeRhAqwrU1fMIdULhZFKh2ZFp6amMD42Ts6tRA7vidE3u3L1CiYmJpBMJIyaR6FQwODQIHXWmlYBRFC2YF+AjTTM5RxqxY47txQwogj2EiMDLWa4XvOF4aY8SW6k29PLoRCNNsoYoXqgDrn2a95q31w//bo5Mff5cC/+x9EU4v4KbgXKuEbPOxMD6I5ZowKNmdQhnQ+gCElHYmhbQHG4+mjUvSm4uGA9NHKN9tLI4VLhtro+y2FoXvyxCKffljt81/I+cxedcWjMtqbE79y9g+ERCm/9AaNUq1lLTQhInibZ1/j4eGuGUuHFnaUp9E/1sOFxKKrGtZXZMpMAiiv3SeMOgWwImkiYmBg3+mx2g7blaYpnJgsUwXaCYqt2bB/nfIYpYESjblaYJgKya9zzZB51LpaOD1yj/iyXOElf6iSn3iR0othNnzUuU8TtvjjWJ9Pc+ITARe7+1mAXPrk2zHakJq3AdAbU2rqifdl8bAU6T78sgNhUOZsm1p3hXCX3ep2zi2+MYUpW6edi9e4RJAa3WR9UuuWWeF3RLri5kN0kxQhHZWm2/+ve8zGfcfb8CBR/zNw0322+4qbuSD4Cl7jDX//615BKx8/+9mcGJE1QB9DOQG0dnwV1HnUGCaRN73PJdCyXN+XmUH/1ALuUvQbHf4DA+CfsWNSHOsmpedppaBcUbctGQ43apm5xr4aVPFeuVPeRioeRTsQQZYf3G3Ufvry9h/PW4tn4In0MlaZJ96QXnzF/M03LDFMMIydSyLpI+0ddwvzjnBXDemIXW0Fd3AaPFQLkOfR/9ScUttZp4eQGlW5/zjE9PzIM3AI0RtC8sWW4iSm20/a4l34kv445tA+ZPzU8A2of8qXOu06fAuoQTNUAiSzRcnci7CxQnkrDi10DNA2k5TfW/gDfebkiyhGgzKyb2oR6JpMRp+bldT/tBKXjtpqHOpvV6fRrHdavnRQ9z7kjDagRUDOzkZYKixg28ba0PG4R+7gSHnnWoo4s3bq4XjbaD0/vFHx7OXJqjxEmtxya+AFlan2H1F1cIr7hf1opHPe2j+p3JgFNFJH8zLTLj0oe5+XfiwKsQhtMXDVOTRY4s8lZtRI9I72jVPSUmobWZyqUOol+7RjWnZhwriUwph0zZPDyOW4tzL0BumN+hCn/1xCU+MZYpruZDmilZKdondtTZfDz58gRiSnSNsyi3w6Zq9xeyUzW9YS9ND0eQJiTbOo2x465RBTGO6wUK06LNpbc5JB7ryJYzqLw6PfYe/kLqmJxi8CJH/MZddS4BM3Qzygsq0bOLGyc4Zydvybn5LidAuxAavoSMNsrAiR03t6haaCem1SHusL9PaIMQ91DdhfLnpfAR/umW/DT4JUYMiliPN2o4Y8z63gxv8KOW8OXV/pwd7QbkymamOZzgZp5lxXVdF5dmg+jzjysH12cTyegKvEDsMpJ4nsLOTx4MY8tagxc643hP9yZws3e5oQIiye5s13215XW0Ig21OChPK13Gt35LLKPf4XM898gLdUqzUBzlQFVljnSFwC+LrWP/+zsQu3Hp42Tg+9BAbV7yXm8snNW51Azt4RchisCuMwm2X+F46QeKnGSo2AY2fMSa2GJZWQnn52xKaPRzNx2uYEnazv4379+hV+vbGLQU8U6Z9WD7qvoZaeLhLRsR524mWHFPcyKHJTEINvB7bm6Yt73+ZWY2yjh3x8s4c8v1rBFfbx5rpLwcpXEwA8nuUInaWRrWtL/JicyiWTWYJ1LxgJUuh3+BIndDBZfPsLOk39FklwfUtOoeYM0T0TDkeYzpbH/2XRnN2dH6GXkMG+uoyOxnNuPRQFVVYPrNSFA44qAMpVoS/sF+FPj8KVG6W+BmWx4qVd5KCjzGhDTfuHi7eiYiK7WuKzuzzOz+LetAvXWIligHtWvVor4am4bmWKTa2BAA46MZEkr1GIuVoMRqQocub9cIj1eZPAk58V8NYnnGQL+7AbVqjYMQBnSseiGDq8lgYimiQEd5JM19IyOA+M/oe7oKGqb32Lr1T3u95kxHHCFCVa59rr5rdFrzpw7Fxya2GetINBCdinbGqfaddzHp4BdD62OIw9CCess4GFHqe5Q5+wVChwaBag8G9IOTm6KsRms9TVVzzOxFFOKsYKxAx6jXgkgs6Ot7QiQWrjOxzWCo2a9C1x1UuOQiWI1qzMzXZOaZlV1Zfat5KXt7Pza92fw3G7Msj17Urcos0gZboAyXy4iIwpydmSR65+3CvuQLqf6ikGy9ognXBvANzMthmIMxfRc1APldniuKwWEufRwZ+059rxRdN3kcJabPdfdXou+po7IS1Mfp06EMx+mE97zIb1bbepDvvSt3yVAI+EEap3IBd46fSfC96OAQKIFFPb8tECJ0q/sMrA1x05AA6A95M7iQ/S3vqMW8OjVdofilTpYvfmdpbeeBD0hJCOU8ehjxrXBVEpED6f1uqJSuOaQiIH01lYWlGQTFNuStvJo5/VwYBPjLP1Y5Tn8K4oKnz3U6g9FKcz3EuAb+9j3UdoY8CBBJfUGx/ka6nfkCEQuJiiaW4cG7ppp4WRNzzWExr9ANzeYKc//BfW5PxhO21q6zvc2qa1XnaQu0lEeTjnQuQC0Q/Vjt/1DnqdMFSe5zimg+lArsuuF476KuWf3K1N2trmMnUIe9VgfjTcO00CBVgQoeUtyY0eTz1FnBNv0TJBp+PTKEH7YF0G/r4w7oTruDnfhs+kx6p/5zU5PLvZiN/tZS3TG2TtNKhgQeN1Ljr70LN2bMTRLoCUSPDQDrBVK00Np/HQsjTHSgSiDH3f5cX2k1xiL8JqP/ikUQutqB65ST/AGqbiP/KNfojr/kHW6x7xw2MnRkqZhJOs84M5YsSbPH69znosh5ylUj5PEe6SAmq/BDHY68RReSVzqbPhbnNXcXKFpoCSNpk5SV4Nffg2JTNe02n57ttQXjLIo01AYdWANcLrJNNwZTeJ/Kk9ibmkDgqo7YwOU86SplMtXKZ5QVdGaTnIeQeZ5xTK7HO1nyRajBJLpAT/+/u4EhrhKIkNjq1M9Ifzk6iBX8JAYdHaZ28jRnkxH1w1+eFxB0pcigp5R2k978nsU5r9FPEqF28Hr5A45BOWLjJzOVJd+zAVPdg46etWpBnIA7VTJefkSO9ppXEQlV4NDzcIqAY2Wi0v7CA1of80xftAl/7JjCK6s6wMxguLKj4eRqzWMnlmCzMAN9q14uB+7V3pRomiuwWFSlq+5P1dHf6CKwQT10tpaswZFctqn86I4USzCw0OBYWA4iGuJCWO9JspZ3z6ysX6ue7bd9y12mUPPOmc4QzFScqyGWG6N8rRnqLz0c311GK7UBIe/1FFrVheXa/DV+qiIPf94rq0JfLxMOG8+vxTQt1htWoMfwyXprpKl5HoWezTc6IsMIZKehMvHL7r5cltdzYp3zJfceNn+PFOZU4ObEOVnw0yiHHFzuRPw1UwOD1+uYo/C8JspN340PYQbHIaG1acJih4CovUm3p9XpwIYYOdZcuTmLQftZl6lh+ulXQ2uq+Yzn8Xa8slhZyj5DoSQLqAZ5HLnKFdyErj6twiV/yvXe35LTjDBPU99XNw+xpc1QdQAmV1vh/PwIe8cQPuQ1L6g71IzNn1GPxRSo7hB2dkrFGs0KZUegU+mgdTwhXrmk87zUdfWF6z+Zw8XdcedJqWlTtlNmYppK9S7+t2jV/j9c9riK9UwF9vn6Ic7pHOSYDIt66vaYV0JGgg4+qZzdM8yWMQwpRFEu0gHlU34ZUooehrQ0x2dHb55a99bD5u/zTAmgUMPDm48fI+oV3Vz4kWTBH03EcivosIj++K3HI6SI6YVHAT6+E7CiADNBt+DZD74lfLsOIcC35sCpiG5OQascXkTN7Td2l7k+sBpBLikBt4YGztDKBA7mpFvqcOZzqgOqR5m9TLJvcSL2IciSZImS7baLiVPPaxH1Ln6DZVKH/F6zuXHy4Ib9xcyWFqnGXgz1rR77Pcu1kdKwBDnyLtJFxbLqGWIa2U5NQliphjrJKxd5HYgU/g2ettBDJDppuVx5FXmlh8FM4xUMH6MvDSaOXwH0etf0gcTpV8AADu3SURBVBQ/jUI++yfUn/2Wa9FY33qn+eAcl86H9TPt8MO+0nnbRaLAQZ+gAm2JOmfcji6/voqGrwsB6jMhSDv2AjNziI8SQBle4ztksJQU7B5pPbbDWh2Z/ZeduERxTZ7qBhUNRtljC7SgvE9LyIZDMB3V6sWHU/rO6864h3J/+NC+pNoTV0eLpqRnyx0FKZGBD+3DLPI3RKGPObdiHr4wHxhFtpQ0quK83JxwCA9wJ/YvuCH75+TCNVHwSzQWvqa8dFMTnq9P8/Ab3tudM+R8b6S9HAlraZKbQzx3nUPN0jZ3cHqBcoU6Z/3XaBVoyuLOSAopX9bZMQRahjEz5BFcnezUEW1nQSB5BZ+bm1SHEeO2dXyREkY3+1oqFqB/gPtVKIY6OY/2BOyEztX5CHVMeY74HVseBbQKr4GjdSVacxaa0c1wXMno5qizuWUpvPGx4pq5a3LIfg9XEkQmgCt/h979Kgov/wmbM1HOQofgGfyCM84Ucr62Ro++7PTvHUA7fZpeqhTFJ7mkQKuh5vYC8pvrNNg4ggD310SI3Bmd1SkM9rxTc7f00TjMYgeLBd3Uw+rBX4/vIPR8kRYn9nAz6cKt4W700h6aEeO0zbTZfdb000tUMxVycZtkWmczRbO/R5xb1o2n4lz76qONOs1IntD1LcQzuGREngbOBGqsaXKIPm0C3nWTynAlriQgl7a1gr1Xv0c8QL21lD5gVID+iO6EUn3EHDmvPlcUcGkdYI3TjrtLXPu3wL1TGwh1D1PHghMBhlviY0Ka+AObMxNfYB36tfgHq9C6P8kpHJdT8XeSelj/5QfXMEGF0r3dHM8+7sk5TgVcixvRe0yqTE7n16V60tvOs7+WSG2wWr5Z3sMvHy9iY2UNg5z+/Y+3RvCDK4Mg2V5PFIKacM2qNUkzbf6YwCZZpjg1riTAzb9D6vG/YX3pW6p4cDVHMIZGMqGatsjX/hWxvyzvk7B8nwNo75PAlyHtOntOQes1Z5Hb3qJV50EE+4c4+yXo0TIcDkfVvjkTZgOaDTbWkEcPrQ4g7so8O5ZuJhGxCkgy6U/HPZhMTsFFM+8hv5s6alzcbiVzbOzL5Cn+az5bxy+freN/friBMG3IfeotIlidRYq6al1T3MOhSc7X0UXApD8N4DXryTlPxuNZFjhoLQWpL+GZKiO1/wtsLt1DIz6GSHjcbGtp1WRbbZr3vccKMuDpANrr6tN51kaB9g+smql1VLmcUNzZOorcK6JM7fF4/7Rlvllx2QlME2bkg6bMazY+09SN58ET49m8NZMAiiVRGJGupm8vIykfgkoqyaOHoxs3ZT0SdgsM1dd4Mj82OOre+DX9dWo5k4nW3Zm6aOW5k1y1F5JlqvLYzO7i+TLVZ/KUdXF1waNKCcOrGdxeWqcduRTXg1oyMn0gvuss2abIY3gzQ6f2HNHDxZlPHyug9zp8xRwiL+9hZ+4viCTpZ8xDkYvTMg4Dh824OrU3JN6+ztmv1dn6KPLCzq9dZp6tiW21sdae769L1nl22SmgNqhG1X7UiR5Vl3TONlHPraDAReM+brjRSIyysQtyNN60vu8WnDG23QiNv3ytJzZ97fQVThtSSxSmxkpzaKCGBo0bWu1ZKQe4fV2QEwLaPyBIfQbtBtXi0PQeOvO6VqKWn+XZvD6jJ8PJMt9Hz8dml4W0i6i+rroiSczeuHnulQtt8+etY4cL2TdYR7tlbvwtv3ZnJ6BzKzWBmnWIZopRpwzNUnPWe/iUNtLMzOfQXcSHuM9nmdaIn/6vaKx9xQxw5lPiCBPTfgFv39LZMc0CE+mtmEq1EpGKjqz3qn1oA2qV3RlyviWBneAafuig0kSDHYZLYvKbXObkj1GJdhyeaIrdgJDD1qW2Z/qH9fNG0qlBVs3QgWZyGFoWg9Y2acKGu6GHAw0M0jJrMuIxwGXSNiwZr6x/k77xf+ObLlAA9XEVWmdTLF7wKhLyIU0z5VinOIB74Q766hhNRJDixInfR+7KxjQFb3dWdPo0EzXP7MQtzk0v01PNcHu0pjMxAozXkXJXsf3i37BJi7fxKjerGfsxGTl7tlmfobdzeoe1FM6KJ35fu4ftMTtaLbK4lqO6zj662SaGe8IYjHKW++1e4YS+jBRoYoyBJTUy03u4IsBd2EBlZ92sJwxxwbIvMYBa016WiSOEaotlor7hR4PRMhvuOhHt0WIZv7v3AksrWzQHXcPf3B3B59fGEaDw3+7EdjdWslbe3vCCi/y4CU7s8xjsiuNHtFCyTk3k1ZVtjAf8uDnQhSujAwSh1xHBpqL9QRKfZruDZ/IxdaBhpYdKt4kxrvksIrYzh8WFZyjVPFxfO8jlUZwgolFOa+hpp9PJWW89OBpsV8JgWh/HPNn1377I4qsnL7C5uYlbA1H87e0RJK/2OYDWCWmdMPpSsnnZ7bkh/onc2Y4MN25y46Ye+LvGyaVRfiJnt0NzY0cyNyf+2FEUWgOVlxyx/OO3C/jFM64A4GYgd7x5BGibq4sbUSfGexEyq8719W+m39lrTnz/uX4g4smpx3OorqF3P0H/Z5zRjHBzmp2+APq5eP2z6xMYpQkmyRyt7QVNLOvHpp/OomnzbOylma9TW1jKxcwrOQTUDlRcBwUXN1Vxc57Ae6OIEfwLNleeYvvrf0DP9Z8zM1Tz8JIr7Bhumq3BTESwUCyT2sQqvZ+yXXw1v4N/ebCAPyzlkS+6MLdDS70cRo8kox2/ob00zvUlpoD1vabwIp9BZWvBWL7oSo9xdRPNYbBxe+yhzCEasSWqg8jZAGTdtbzUhBXE3+wsKxvbuL+4itldji3YfV7QxMbz5Qw+HcuiNqp3KSpzw7OdtHwuryMFDUppnafLbMZ8tcePwc+mUS5OIODzUvHYTWOZpBCDit7mEDvXvBbHJVpKBifhpQTxOkRkg5W8NF+2Zmw9MmkxosTxbm22Qv1Dz3QVSS6V2ll9hdWH/xVpyu48A5+jEexm+iaWYp7sTBC1NM6M65oHP594uFjA//NoCb+fzeDheh7FsobOISzky3g6n8XS2p4DaCdT1XlyPAXY0iXh2t1CcXuN0vlxGm4c47Qjhx1CF7Omr9kKTQLsNq0vvPwPOxOl6WViNXtahVZpc1W+p8rxRdiPHV6WNKPJsHUjHFZAXjOS+nHrFcb38v3IbHdDMkXOpEhvjOJ6BEmbGC02QdZtVW28N0yPzjroJTmYHomuu4UG1tY4Y01l5QRXYwz39yHKRAQqIrnCGzrz3vqwNScNmoBnZjW9ZNP6P6VFjhj6uHpkZfkVMo9q8NeiiA5dhyek4adQVUhqEuLZSttcmB/L386juLMt1v8fny/hf3k4j/Usc0x9R5pyYftwo1gPolitY69M+epBIs7VB6eAaShsFGwxljY8Pc6gU8OScxvGn9/K/SUU116iUmwgOnKNHYZr/LhI3LR6E1Y/bHDmWt2gM6f3qHMpXncqjL7uAB5v79KDHYA9rpvWNGK08OBSx5UHwzUZDMU6cOa9zdv21+u6/f4gxrm/MkVm2SSD1F+LE1J5RS4F4KGTwMmmm4cUL5K+a/kGfvtwAX9+9BKrW9u4lkrgP33hwt2pNEFNEGnFbbFMxoeejGtNEagN06SQlkxpoqCHM90caQ64f0M7n9+g8vB/g2f/M4CghugowaiLHyNrw0JTJXpB0wk0zcGUtVyuyOnMpa0KHi9luNsX4c2rWXQinIezRtSN26ltI9bVhXhP3AE0m4jO+fUUUJ/waBenKgFmi7Kz3U0EkgMIcQf0Or+UpoOYT3kzHdNATVOlh86mKzV7hRXG6gjN8M2TQhEaMdYdwc+n+lHlNkeL2TLGaI318/F+jKaTiAb0HTbQhwqTljitrT80U7psJ0GYTQWb3qSB7SVyyJuu3UuAJEXc2bVd/IGCy39f2MXcXhUbxW34gzPc0Jm4NNZnj2ZNfMPeqcbFFfLcqkeOT6vkmAyX5EnxC8SP3ZUaejg1mV16htzTf0d8Z55WcAlq8RG4Y1TwDfAF2jSHunJmwxV9vEyayqdaHcGU8X1etgrd2gZCzfI2tYESbkRduDrcg3RXxAE0UsRxHVDA9AWNV4p5VDbnUeZQMDx8C644DQDSjr3pLM0Oczg5edoP1JXsa/vqoHvpqyyZjQYlk/z5L1dGcJWa7dlckasDPLgxksZEdxTU4GBkKdtaaYjjONJL6XEZ3QGkdVx60nufhFzY2sfXKzl8WyYcBZO438ihJ7OOn+z24Uo1RdmbODFDdoKb6oxHG93NM/pKBMDvjwGWiIuTRNxUmvII0CQkaisP0Jj5JVyLfySgkavvv03Qm+S4eIRBolRf5KbRnBGtk9vXZIOUpiVO0AcrxpmO8UQc1wO7mOHmpO4KZz35Lql1jNEwwdX+blrttd7LFzrOocDJFFDzNc1ZGwZnFrG7zY1tOcz0y9aZtpVTa5ZTG2cD+263Ugo6LGcHt+/tsxqonJ6HiZGT3T7qFg1zfWgdXN1EXTQ3d03nQyO1ZooMrwXrOjvuCAVOInJbMAWROSZz8KZEM0yG+OSC8lKc5verxo+YlJxtd2KyDJJj9OXdBl5xNcJ+qYweAlAsEEEl18t3THIBew0DES8ixXl49+6jnNvi2s95zo5eIaPWw83baSwy3As3N6N2B6N8JcGVS+ZkfThCRq6/fwCR2V3US0Vup6cc1bnptBfTqSiuUk0lwfcb7tDOrHN2KHA8Bbj5r1YF7K1xZnORbBTN96SvUP2IOkZaiNRs7w0JaukkoD7oAgdX5mHz57iOIT8JgNVW1TDjnDJNcOJM9r9MeKbrbrJjNmxKydcBNBLrHZxqRrQTXsU48TKYjCG8n0WBu7HH/VX0xroR1MYrIn6zGpunQ29TGlxSSzkc8MsnS/jq8QtsFwhoPb3c5yCI3Tw/gHtlfMLNcn7e/QmuhWPwbH3NTcEWKbrYQmVlFhHuCBagzpqbSrr+RB/VgPrJtZHl4qJ3vzuIEIGri7vC+0Kc7nBxokiNhFZDYmwj4wlyaF1sh7WsA2iHasa5OYECFbbpPFw5NsDsOmUfUwiKO+NQosavep0ckyY2tHfqd7mzE5I8xlv9RmISS4rCdmsPZeXPTqM91dV5NDQV4B3XuejtuLeggMyVB2hEbrwvih+Mp1AqFsAFTJiOxPHXk1cx1tvPDb6JHqI701UdHXXyLxFjHs1u4h/vzeH5WhbZSh2BDFeRUPCf116qjPg34Sj9u/DzgYQxMLBXfAAPlbOj3FTH6+P+CJSjFbiLVQkzCES6ke7jxtTd5Ni6hhAMjnLfhALbGF/EPIPbFFL5DHGuVklzs+VE9SXZw2edA5oabZG7VKvB+onaHhKhzqFAqcwXMLMBaiJ7vBzX0q9M66ESF/qoTOfRynyWuEJjfOVKmQb6fAgEA5w+plIeO4P8tBu60lSHuGzu+wDA+6KVGq0aqeV4R0Va1z6HEZuLXAlAAW1qFNVAN3KUlSxmSljZ3OYG3m4M9STMEhQtHPdoWKhEDhKyEzTnA2+9zXKSzUgpVK3g4Ln1TPe2n322nji/BxR4N8oQGjCS8OK/uTWM8ZgXm9zlvj8axGdcaZAi92O6pZoBw+mg3N98VFRPUvuQ22F1z+4U8fvNAtfD09Mo0vIBsYfmi3n48atClYL/IKrcYCVZGIJ/v4x0vRtjvn2qmND0ULlO+3bL2MjluATOxwFBEulUmgYPRqjfdhOR7RpGynO4wc9ekSODgQZnY+sZxDN1ZB8/RXD7SeeAlslk8NXXX5G1rOH27dsYGhzC8vIynj59ar7O09PTGBgYoAA3iydPnmC/uI+R0RGMjoyaL/jMsxksLy2jt7cXt27dMkA3NzeHly9fEgwDuH7jOnq6OY4mUJ7FTq5KO3Vn92Wez0qZTaNVI1WezA1/tLns5hz2uSrATQVaV98INtkwH84X8P8+WcDXS1tcIF7Hj4a68PefTuF6KmjJuk7oXwfeesGBk5zOY2avmn5tjyUcVsfryLXF6yj8RQhkBPVvVxCRSetuRdc0R2wp2pn7pGeQ3FaX6Z8BziaLH2k5Vpxew+8Y5VpUe2UCWqZG855Y4vUsASsvtBNnbYSbQrMmL60xKcP+uhrGzg4VfHeHMVSPcAnoMvb8q8hnvUiSOyxz+8PM3rZZ4hTIVuBbZx624tjvmUaiGMVdto8oObICAXKgvo4r7k10r2fIBVJlhEYs9baOXIEvW5hfwMLCArqS1PmIx/Hw0UPMzc6ZwguIvNRGXlxYxKOHjwznpXVWfp+fa2P38eTxE2M5c2ODG8WSG9O29Y8ePcL6xjpK+yV4yd35b1n+B/s0viZr6hWXseG+hiSn9oh0tUCHn906V8/tb1NAMs9hXwzx1A3OsvdgmfKSv7zYwP/9dBmPdylfq1exxyUog+EGBqJXqWfrZxrvUEF2FCsDp1YkJ6E3U0DgFQ55eZBbYj2oKqwzx1sc6+teHzmBme7kJ5lnhgj3nMYkFzNsFJINuKXBb1gzPq0ajpvqtogRH9IxHyd3yAUWQ5ytrFFhtoqtSgCT7n30+/OI1riRscwSce1msbbMvSN2ENhbQoAy3P69Cn7aSOIqR3k7BOJEI4veUAXJBFcg9F2Fd/h254CWTCTx6WefUs+E5kc4pJyfp8bu+jquXpMshYv6qWHspeBudXUVvX29httSmNnZWSJ+yQw173561wDeq1evkKTdpHw+j9u3bhOxd8jtLXEn7CHjbxI84eescDInZO/cex/gCMFM394q99jMrmGfgt1AfBre7il+dP3UKmcj5vKTxzKJ4aOgtlHCy91dzK9vcGemEc6OUdzAxA7Se0vSqPc47oNSgF3bDC81xKxxgsea3bQq4qA6NDGjXQZY5RQVUWUNj17l8YuvZ/D1IttKU2CQJkf2aR/lYJzp3OEQdme7jP5kBHemh7nfdAS//LqAPxXL2HV1U5cwjFCQIij3Ns16e7i3qo8TAT74KLYIeXxc6FBCoLqHPu8uZ79zSJEhylPmFvS50E2OMj76OeLjX1AFhKDWKcXEkQ0ODCLEzSk0Nb/H5RFmWDnMWQm+QNzby1cvjRxsfHycU6z9BtwEauFwGN3d3Wb4mefavPmFeQOMwWAQw8PDFPgFsb2zzTTzxl+yN7lKpWKGqTMzTznc/RoDnLbtiHvrtFBOuGMpYIEQZaP1HDFtBdvrc5R5BtHVO8lPuMwD0bHRF83wkBfqCYykJUn64NUpH5XM1c3pM6e+jiXxmfQ0Ey6sTrl2VQ3Lp8mxsZ61BbEUasWDzW/U8W9cYfDPs1ks0zIupzVBRRv8nMq4f//5NLriMWxvb3N0Rr02mi+aGE6jwjFuoDIG/7ccoub2cLU7jZvX2LerObx4+pgWNHbE2OGabxjdg7cQm+5Fb7SOenYJEW75VS5zIoqAVw92IZgah1ftkkq6Dc6IdgxodqF0rtZoqbQq2+IUEBNNNdwUyNW4REENWRMB8tNZDVxyN4GeZGUextGEgLi8SCRiwpz4GVfPIQGlKawJA72rzq+D4z4EBTiY0KqA/BoKpQKi3eNwRTWNTtDi64NUPxvjF3hsfQ1zbJQai9zoimG8vxdxfvSoEnlitX6I3DvvOB0K2JyZ9ZFTms3hJmuX83/YLdUxv13Econj1RAbBddvBmlaajThw53hOFIcQVaHuilW6uYGK1SaphqO5gz8V3sxSqXC3G4RfT3c4IZtaV/4QWH/bmOG+FBCjKO41JVx9EyPc1TAoWulAD+Xhvj1Yo19NbTVSgOtI/ZySRxz906A5uH0qsBM4CVwM9P1hHcBmGRh8tdsp/lKM5yeV6sVw3Hp662vtsIJ6Ooaa9tUE73anGRyhivkNlnFQtHEFxg67kNQgIBW2EYus8xWQmFrml9BcukNd4WA5kUs5sadCX6FuZ/Avbl5hPhB+2IwidsT3KwkpA+X8qi6cupLlDgX7gC1THat2hOXbeVeJ4l8rBpV/6e6BrtvXlOdFbJ2Pn7q3GWEOSveF/WAm9gjQW8PJxzqPOR4a7T/Ez1UiI2naT2X6j5cDdJg2CwXl3s8txGnPlwV+1Qd8XKk14N6PGlkecYQss3PmMwoJ8yAwM34E1f0kk7dDoeF2Sy3rqKsRDIwAZWGmhoyivtKp9NGriY5mjgpcWepnpQBv3VOBgSoZJeh7fmu7i4Tf4WzpK8oY8uRHZWuSyzGxaUEOtuJeD4WVhMI0VgUuzlyDI57zxRg49A2Z+VdVLdXqfjIL24XzQNR2ZHCj9ZXMM4GdWeIG5a4UvjbEfFj1OQmhzaYDqPGD6eZuVdoM/tmdYH3nHEn+belgEDBwJO5MLGFC6otaeLLt1VzbReEIFPf4rj64l7c7Ini6UYOs1wWF6Cp72vEhtGuNGQwl//GqX3IKRkdPk4MUAxm9obQvd5LCAH32MF1mqPSy8nvgYtDLJBSZpSInVVz1o/wws71WwCaZiMfP36MmZkZVMhtCdAEVo+fPDYzmcMjw7hy9YoBt2/vf4u5+TlqCvfgypUrhrP6mjKwe/fuGcD64osvzCzp2toaHtx/YIBxamrKAJdA7CRnxvUnPz4pmuP/VhTgF6/GIeTuBkecGTYVHxW2uTg5JOONYruoX8hfjhwwwJ/0SBdqA2p6HE7QEoYYaE0GmCbGa308D1qhrh13diigmUpLHibz1pbyMrkuMufivrSCgJIj0NhGi/MhI87qtDqh6plMOf76+ih1VAu4N7uNSNCLLyeGcKU/3bK9pi5txTCNwb4xZFB/1zNhlaBJJo9sFDRxmlFayGolxEDtTrHp+OyAHbK8XvsbjcaMDlqSSxDEMWlWUkqyGjpevXoVfX195LJiRk1DAv4R6qBJF00KtIVCASurK1SUS2FicsLMiN68edOofUg2dm36GiJRrkhWhu1CHMnNsWU5Esa5/Z4UMBY1qKaRW0VldxtBys7CabJi2hDDtGZBFdtcszI8XGTp8gvemo7+emQftrdzPnsUkPI7p3CMTFSbn+T5LVvm7sQv5pZRptx0qJcTeX096KOqRaBZ3+LO1D9ttTcyaJSVcdd67wQ+15l2/aepDNuXIBI2+7FajBVdvyd07teRp9MoDOfi+ruOgkuIr6FmjTIvydA0zBQQabZTudVMpu4lH9MQUrI1hZHgXxMGkoFpVUGAsyAKK2JKP02HVgoIzCSDM7Ni7Tki/UrFEn77u9+ad/3kxz+hrSxKGq1+9ToyOM/elgKyM8b1cNh+jJ35V8gVK6iPfY5gzxT8tIIQJWtmhhACPbYBVZPFgfHCrjO1Wav1Hvi9bT6c8B+EAtbOXVytQ55byrFP12r4zYMX+NOTOdq628P0YAo/nh7BD6+NYJDWbtudAE3cuEQL2jaP8IB9ipi4MRQtY3gRYnCzpp3PFZb/xqnfH3b2k8O+ujNPjgb/brBDPh1zaJql1BDyqJP/USeZV8sxQ2IqBWI6bCe/EIX9Olru5LK1gjgX74sC+kJIVYNySm5Lt0rZ2aY7jcV1D/YWV9BPqwnXab5nsIuNlRM9QiuXWurRBqd7HU5dkghn26kPeppow71U8Gh5B//8ZAX/yh1qkhTWrxQyCBKcpjgDOShzF0ecRp4y0ejnVy2ifQQFBfrCSQZrxBNW+2g1hdbFkYRO8bZjQDvFd56clDqC4z4sBWwWS4y6Ng3mrGZmZRVL+xHcr/rx65klrFLge4s2p3Y/vYovb4xhpIvcuT6/aqAOp/xh6+sU36aq13SO1t6K6V7fymMlRzCizuEOV368yBeoZ7aD7J72WmoDNMZT1QsLa0Q1yd98zb5rmgP99dxuWqeY5TcmdbYA7Y3ZfZsATQq3oojEjhMFRBmbGgcqkhozbGOfFhKyNK2doXG+361V8Q+rbLT7PuxTtOC5/ww98QBS0RFaQbbMJx8eiDj0PXcUaIITxeA02lnh0JOQRI0DTXOGOe1YpujoO1Ipu/G0tSOBm1x7r2sLZj18i18Ttz2xDuNe0PYoSuhbwVoyB68/xueiw0r4kMFEGbud6CwVIiIZBSEZawE6Z7PLkSEUwkO4v+tDrcRxhC+Fv+zH8GyrhAztXImq7ekoBcedUwpQbqr65AojDNC4QFp7AQQ5zcnl4b28nBzp5yofzXB/19nWZI0JdDYIi+OzBpt61nJ2YzHdkANdol/rkN8xh+m+dry3OF8sDs0GLfO5sLHaVgQ84EpahL6MF/aXlI1Elx4NNbkOE6UtajYuc11dhcYbBxHdT1OflhM+Hj5zkXvzsNmzlcrYouQuhrpqaI475xSw+keck9ifjPTgf8gNIf74JTlwD26lu/Hl5BD39OTDE5zd5VqP39Qm3vS8ldC7XVwcQDOUtaglPNOVFmnI6de6MreX/Mf6HLpo2lhEMivyapSRcInTbnEH7mgXUrQ/lcxEMNWTxf09jjmLOUyFazQCyGdU2fFrGYBF4EtOy/NdfNNbJNnnheRo42TE/tONYUxy2ZK7QHPZsQSuDCSRlLC/vb7PcGe6OIAmmpt1nuQkyMNyYYaRA3DFKutCG5aSpzjDFfHhuoZaJmnTaqAEs3oe+6vPsVfzIDk0xSFmBCM01vjfTQ8hVt3B+uYuZ7kC+Ns74xgflM26D5db503vjwJSkZLqheZ3pCzdxSPOrQNvdo+aOUr5+ZvDQTsXUr5VNzqrXelCNU2jwyZOjQtkK3s7lP9UEIyluLidGy5wJ5lL7w6ND4RoHEpWqHe2MYdSNkPjjdfg5z4B2n2nm0zYD0c5Xe/7/9s7s+dGkuOMJy4SJ0GC9zXkXDurkXa1K60c1hF2KPzgN/+19pPDEWvZ8iFboZBkaXe1O8eSw+FNggRA4iAA/77qbhC85lySINhFNvqurs6q+jozKyvzAQEvZplUPGAP52dsWGbjulUtOljfesLeTAKo+vjSu6qUCsHrIe4oe/KnEQCXtjo7PQtmKmL/AJrTm9ELFUABnVBtZ8kqu0VLLjxiTo6q6pYDWpdI7lk6SvGLOWWNkc2tl3gfxXPpyD3in0zTlGNGqEN7yMziu24fktLwB5geIBM0qOywzFOkQfKgD3A8TDePAo7jog5VjapnJQ0UNAVq7HpaNu+4D23uml786R9AC6gr/+WAV/KoarvbS9ZIDyJBMbMghmKzpa7oVUxwec+s36NYHTxh48JsBPj+SWcQq6Eludbefmr7+3gFzd/BRdA08gcumpjIJ+c/Ch82qKjZ3OecnJD/6QZ94fN6hrBhQS6iQHfdBW0o+Dh5zjk97u3M/cFFZ05wwDEW5524mmOn2+fVPPVSnyIubdDiaaZdMTJ3gC98K2/RI+HcPL7iUp/+Xpmrhb3N4j9MbUi6DS2vTFwYwSmja6ZNTDX21zGkXeGZ+LYbvYszjWG+yt73OMan2X2dBZIsGpp3IeNYB5PlXLtmP0w3lALUXTc2dTc9jWTH1KAcQHU1rE6lq+JPL9dPh/4DNFWAJpTha2mkMGbVzacYi27S2yG2DAb7JgWNSaaxsiVqWQOuq9XdQi98V+jTwExj52s7xINwMjdl2bFFGFtvGprn3w4yBi08yIe8lb2o+EaPCe4L1z1NgaBOVa/BclPrt596+HGjEaglchYZpaMmmYu4g+lBucgHRZqBfkk+2jB6W4br2kAltoyD9zUGLRlxd/h9/ptysi0zjZdW3cOjRmLIUnBnkdQ4l+McgBYhzsxxZ3pEVwoEkJva2LteJdw8TYHg+xisT5+/Ifv9p0NzhKdXxpl7hk4oQ3CXg8oOuu9VG0yjS8NVb78k4bYE6adbVfvj0qo9X9+1xaER+2Rhzu6PJ7yxkDMvq8AniOBFPCrUDyw2/AOLEa26ziiwGoMwTG1aKRAtvb3wN6SAGgXLqQ9dL9GlTwENiqMXsgHMNQiKG/l2DUBbwY30fWyo+gfQNE65jDT9X3/atF/9+aU92SzZvVzRKgSrGPp0ytITeTguaBEglGt5cGf7f7Eq0ZlaWB4NjtyxaIY4jCKZ3zJDIOulLnr5ZXFqMh7j6j9oK53GQPPxt28CZ96fgOaUP7xaBPAagktL7WKTtmsRgixwwK+6oMbUYLq3tX8zElZk9my7Yr/5esv+Z5lRXTwi7OCUMRVfsQ8n4zaJS+wUIvcxoMmtCxza9hMrMyczOXbP4kOTSJqKoQkV1Jj9L3DQrjkSpn6kABUe1HFXtbuu4DcB99ZBz+g+5vWX4O7eIk7/AZqrAf3I7gz/a0N3cCG9YqUNIjRvPLccMQGd8rulV+e6oMaON66nhoJW9RZPP0CyXiMKzstqyzbiaWIcpmyHiebz1batlSNWkW0Z+QFptF5GRRTFSfZ5W7jXZgJ6cuY+3BnzXVCcdcjApQK27n3dfib1Zns+U8zwwPkUCJpbsO4eIdf4mZLagIygtHZjaqxdcnXfm+r33ixVQLh3WHsVRBW4mJF05xi6tJFJwgUmiJn7wtq4lnYO6BwXd7NfX0CVITJWilaX0ARyopyPYJ4yHCNAK8EqiKXjgZl7Tcw0qlvWwIi2Wuf8yBRqxjG0/7hUgGjHU/jfgejhLTeSAu6jxRiRuoJ49yI6jG/32gbDb2v7DC7RpIg37Dg5h2HuLbXl7uzJd+4/Dg0yd0guI9soBrWYcAxkhojKtm51gpUO5EaZCYVrcOolGLnrydp5TaGAIpvNJu3Dmby9wO15tbRvj5JH9tEEUXcKA5aVhwxxolE57cN5Y2nF6sUNGNSCpQszTsfYmcCvEWA4ul5urK8hR3j6LSjg6cP0wZMmdsAOWH21VrY/PtlAbdG0uyMD9vFCwe5OoLZQQ1NyqNa7YKYi9iWg6cVc0qdHAf8GALDCrA3s/o45iy9scPoenXyUUTzPyDT4+riqCnaCPHp4LXHg7oTZ3z6eJhxi0T7CpdkUcR1+/mjSFhgQiMX1/noBuLM6gU8QuRWfIbP42GJDABqRpsN0yykQHzDmi9iT7br9y5/X7ddfrNo20VIepJg+eDhHKLoFm5vIOPs0xwAEIwQ9Sra+BLTgG6K+3I5iBW+MduYmLZVJ2i5+0iuYcGQGmbSOOOrpCzw+Rdc7SbS7snqgAj1OUi/TXTDPep8PqX00l7Gx1GPbK1VslEGAhdEhw0s2L4OsKXGzQZPlnWtb64B73hLDC85OTyf1pVb+okBAt5NPCff6lQKat6k6F6B9tVay/3y2Y/+6TUDwJjEz60f22y+f26OpjE2PZYzgXi65tniqHXpneuO37wDNm6foEVeKTkWlSSB2RjEcjWKXVnv2xGqbK5YZWWQQdNABnoDiws6sE9cIah7YeO9zuozyCioTiwlAbXyGAL+ttIkp65hgBDccMBiwiREt8zSHZx9adHgWLEOOEJp7sgd0inX8wntPC3/7nQKB8l/rDQa/n+zVEUDh+/EPtcdgU/GwaZXDuovRGYlyldNL9zZV+g7QHLn9L4g+Kp57YFUSo5u5GULr0bHLq9Y8KDJ3ES5NNzg2xW3o51qSgFdGsiXUXfuouxTrVI71CtmYxfUieieu8fHnuIwclwcMvYciWTuXcFx8xNfXef1vImpiRFupbFtsZN6i43chChyrY91YgYj6TjvPtZ1cfQK6XIODekKY+okCqtEA1PIDcRtJ6AjKNNpEq123ARpePOFFSXdfTs66lvGKpnCmfV4xwfoT0HwiirjOZEGdV4MDmUkivk/gnPUrqxQ3LTeM0S0V5sHBeZ346mpDYLYCI/W75QP78jmusIlh+slMxn78YMqmFWXJb0TdbUnbJ6anuldAuU/yxjf57JbxOLL7zKq4VMoVFgD1ac4G1a4blIvvUttrruwH6XppEpQiXF8OBcThq/XLW+3dsSH7aHoETm3Nlmo1G8tE7AFhC8fHMLrWRRIFuE5Sj1rMeemi4+dde1nHgpZ9Wfn3UL7USiJrUUw4MjvPbZ1wbQPjC5bMoxzXZHaX1IG7O/HVVVGJx37JhMx//O039gdmNtQBtBcvNbx0ZL/8+I7lcbB43tfvxDGKG9XMAL67MQ3Ea2Sz+ML2ixgVw40OjC6A8AwEBJ9lvfNZpaGOhukWUEDqjACg7k5F7O8/nrd8rErf2LW72XH7xfcf2dxowQc0T32joDpO6ulR+twuQJOolRvHNG3UWnu7OGtlfmdqGG9DiKMXfncuseaEPUqsma1kv32+bv+xsmtPawBsNG0p4mEuAG4/mMtZfhaL/nNSkIU7JSzWQIBzz4eqt7JubdwDtdCX5cfumg1iRCsGTjfpi3smnXfszEXhgT6hgGpb3za1GKx87LM7WVvIPbDGUcvSfOjmCkPYOdJcXLvCUvFEY+tNItwuQIsCXHAqxnSfweI31iouWWR8kZpRRPcrrq1TjzukZT3fr9rTOieksIfPX21XbZWQ1vWGJ0a+eRPi+tomAwFPbLe4DoDLtfYCeZKvWq+8NZ7hzN489/DK/qCAcEotK8HHLYXrqZFs2+5ns4AcbZCTzUaLQSY1GAGfp2fFH4vb79Ufr7S9Wrp3LZdoHiyn82DeouUnLZfNWZN5j/XSdtcV3Tex7YYYdezyk0YnC/ocYuHPpFMeWLfheMuG0wMo+09OTXptaY4w8d7ftPI2k/ITaTD8DooSQmCIK9MnOQSz15Lwtlyg1h2LNBkUUpuj7TGqFOjW4uLOfITQwJH3d3HX6gWa9SegdVPW4ZG+RaorenOEWsK7RDI3TOiBA6tsrzKwU/Kxq2sCkOOvPTALcE36A41GNvy19A8BGx5cE+x3F+FNttPwyo9nC/ZLjBhjBHkdQ5dxn3Bij+bGLZOULs1rSK/OS++J7kx2Z3BmpXLJItkpSxbmsD+TWK0Gq2/yecmj0XlnwmP9SQGar/vuR53eWF+6roScGelS0HqBgbmeZtJ1uOuG3ti8uSKnauO8Phgck92MS7rQSxG5FJKdjTr36JjFsUerb72w5iSjnaPDDFjDVsO9xF2n9+4TaLmFO8tgxQ569hKDh5o/ib2hjaBjl2vqACZ0l3OOGJTDe/TZ3+7z3JSnaD9ZyFmtPGsfZpt2dNSwTwn8+uP701bIp2lE/vt4xfLy66CnMmNx5zQJ74XVcWo5ODBiQ1M/orCI2RgYW4QXcOmcvPwzF666y3vhReGJm0QBNRfnVt3ZAsDbuDr2G5jaVsCenfNSDtT8S4PTp3aDw1e6viGA9hZ27D5VmyiLAkjzKo0YNoCVs6qJYMIxOGTp3Ig1NvbsqMIoYOGQL5J0aUHFevXruDKOVkCsr1Yb9rsnDGsTp7KQjNhni6P26V1cfafFjHvqqYhTtr9F1epSGhJZ2Dzz6P/u8az9aL7guMlRxtOnhxkcYFhJgHY2Vx9lXMPjbREd7ADd2dZTRknrlhmeJ7YCc6MUws+JmV05dG1SgjDdQgqoCXgiWtDmT321Oh/M84nTi5xabwOa3+neBCN0jawvMHC2A3FSMCqlSh2j1IiN59qWx0BVnvc1ESoeBTmYOZAYnbPB7V0rb760obFFOn/qBNOn+hQoivtagTP7tycr9k9/eGpf7B3aBxiG7e3s2NBg1D5eHLOkKOn0ELpDO4EpCJuvSGpCWuK8AE7DAVljpCnlASTK+3g0CFtyTiaiD4WUEa20bFHN2dxfxanGkjUjWctiomIpGdG6C1l7zfecnMJDt5EC6jMn3vvk3olTN2TnygGt3QUZCgxcKVdsbX0NN9nojcbGbHx83OJxinWKth4PdJaqDuw47ACNNd5P7MutI/tvJtl+u7zqlOp/9bBgP4HzyRJX0nM0zYXxPHIe+qX8U9vZeWF5TDgiySyPlb7q+OECG+xdcaR4aL9+umb/Lh8rjaj9pnZkw8tF3F1v26PZYQAtAItgrTuP82Hn3BSw7ho90p3iJju3AcbuvXXMpc6Gv0/+cGfSgUQ1z6C5ZUeE7qvUqjYw9X3k4TtgmCZ1BperPMrjdD7BBeE6pMDNpsCVA1oHmOi9rWbLgdnnn39ue8U9u3f/nv30pz+1iYkJJKSTYBB15spnia3LAlDT2S2c0n7+lw375z/jY39j22aIK7lb2rRMOurEwzT+w1ySN9vksCVGhi1OQOL65hL+wRDPZNbhOCx1eq+00jzt1Zq2LCVayzN9aB7VbBUOcGe/YkcNjmP46nFAgqW3A4yAdQ/gRre7bb1bB93O5umEUMedMarZhiXdX7JScc1aA2lLFOZ5v4ILRapRq06RThOMU2EKKdAvFAjYiat9H/VWUrlUsqdPnrrtO3fuWI0pF6svV1GIC0JIfh9ug1ht2U65f/+gd0XnN4qE1+K2td22/e+zbfsVurElHBn+nsm18rX/7Ysdax8ew4NAq62wbUSGGhwctIOdVWtV4MU0l0idXoF4ETZjPFQ8WyaVtEl5u5UoSVlGGTHNAWL5bIo5bxIv0dkh89bgqlpOp+W/JGfeJuntnKjr364K0qbHqXXnqeewOIHYdw/08is7hDtLjy+CZbMUNeHOdp7ffXvnYLgRUqB/KHA9gAb9BFAVxMyDgwObnZm1Tz75oQ3lhmxjY8OqVTooPbvRaNgmwTyePXtmS0tLVmM60Hl9UvgTnKg1j5iPxjCkRgUJNnwI0BSrTdur1LCAljYsSNI6AVXpceY4Tlj8qGyHxVXMv8ronzSgIBFQohx6LW5ZZBjyr2eG7G/STfthtGqfJmv2i9mEPZwpAIgMeZIERueVz518zY9ATEt3Bs6IhEydBxFlrpPyeCBHjKyld4sLxZ1r7TUrrW1ZfHDKEvl74LXA1+MZXZ7K2+Who8GD3nSte8IUUqD3KXDlIqfTodGxxHUJsORVIp1JWyaTtYGBAUCn4XFj0E4i6e7urn39zde2vLxsc/NzHFUn9Fd+B5XI6bomP6k0LnJkS7G9B4MlAGvjYSNluaE8Bvi8bqdTKw/ExMS4DY5OW2TrmR3KC0cFThFzh4TTTXkjixImH6By+4cfLtgEhq8r2yVE2Yb9/G7W7s3kHFMnfk5leJ95bt1FIyu/rDoafHe6tzksuzq8IsBemr18Ya1q3LJTD3F5BqBptgFJvKP3zrqXEmrlkFMnwhRSoL8ocOWA5sinTkWSXiwQJ91ayMS/47g4H0OUkz6tXqs7HVsKYOokP4/ufd03DmPys7mC7RAIZHmnyBy1tn02P2kPpwuWxJurA57OMwCKCB1/mInbxO/cLxUJvrtJnMoFChdHXHMOeBxQMZhpd6cAjIH7dlCtwdsd2Z2xNLZe8U55O2V5hw2B4auTrpCY6WMSe3ENBBwx02H7pW3v4h5oTKHrGNkc7BoI6GT6+id0Lg03QgrcUApcD6BBLOmEYii+BGTSnQWLR0ev80XhkoZR2mfSadvcZCpPGduJi/qlD3Cj4NMvP5jFBKJhz1+sWBrzip/dn7cH06NMIUKI869z2Uh008yBBCg4OmPx8rIdlbctdXSAfk1z2rwpR+KPEtyngcyh8RhH045nUlZapNTX+r0SGZz/ajrqntIBMz1HZXIR0CurdrCGmQb6wLRci+cZ1JBCsTudzvi9C9udebgdUqB3KHDlgCYga/vDehI1c7mc049VDiqOE3v4EJEJ0dPvwx1KJYLRyc4Rb8N1db/DCqyQDO3jUWy5frRo63N55mwmcU+dtNwgF/Ef9GVd693Gs7DZMnzsZzPbiLjMHNj51hJTHzpAE3B4o4Ti7UjSzUnpzxJBD6jRWP+Md/47/VUJVeIWNIuh24NrZTfqXAPBne0TxWrpT8TYPLTUzIdIzx8wC0JxRx3cfaclCTMLKXATKHAtLV8goCWVStm9e/csm8tasVi0/HDepqennR2aODc3svcaKnqg5F0kkVO4JVPScaSu782P2Cz6tBxW/eKu3JQkzum648SOZghgaBuHu0mgk2rsLiPK7buYhFFAy3mnEPzpRuc7jcx0mJ/LAzO/hCorH4DAfi8qj6IRBk3kTWMdM43tHUsMTVmqcMfiBIMB0XSDf3O4Cilwuyhw5RyaI6/f38SJzczOOGCrVCqWyWasUCg43ZpjTN6xX+o2qcRb4I4ARwKYmEKXnZ9nJ2uOY1GLTImvsBzh3QZfWk2xO3FZbXnM9p1Nmq5m4V+XB2JrCxMPx71x7HKTN2neK7P0Zgx44IW2tLaM2J7Fs/gHFhlhwETis3sf/YQppMDto8D1AFpXf0ujH0un0k6X5jADLsiJpa5nvkOFeL3e3SgQU8CQICtt+tLuccbuID8CNXl1zRSsuvoMo/sX+BHTPMghRD3Pil/5dIBReR3ncmLrzDNOnH37nYBX9WanyoD2ibVXf88UL+zhFj8DzO6Au1lrAuBOexaOYr49kcM7+oICdIFrSAI0f3HwJcAQtyO9lA8TgVh6YekuQpOuGxxWCYT8Y97E8a6H+4WQcUZTohoh3oxo4gMg0gFh3+RTTAUN7jjO2jviwE35n1qOr3v/LYFZE4By4nILUbO8jonG11be20DMnLT49ANPb8ZLqlQnklfMDq3PeZETl4c7IQVuOgWuB9CuhWoX9G7kR505kiLduehmonl2yA4x3zja30Bmld+OriSPFnLAqPUVJc8aDuFZoiYT6ctbW8RPHrOhWQYBBgFhp9eTcIyR7VlYu6JSho8JKXD9FDjRV6+/ONdRAk8/5bgbiZ1JFOs4RBQ3V9tdYeZAyQGadGXHoqQ0c1ouP6kcA86LB6Lm3rd2sMHUMIY9sjOfUs5FRj/hLDVYISDTSwQKvssvWviEkAI9R4EQ0BDpRAQtLSnVFUhkeMbS+Fav768zv3OLM3BkSg4wdGUgxLqjl/wDJ8hUK9MshqU/2OF+ydIAWXT0QxRmeQY+MP51xdEPi3ZcOS+5WGH2IQV6kAIhoFEpUrYn4HuEA0Z0cenR0phwHFYPcS30EjzDoFf2Zw4oBBhSvTv1u+64lBSYaUgYxq2u2bf/Z4erz/FLiY5v8iGc5IS1j6LeCK5fAgWvkxPLMIUUuK0UuEWApo5+3uJgzJ3xIIpfuLTI8Lil8OVfw09a6wATDufS27vWY9D87fNazulRgjfZ77BV5Mv1LvcI8zRbJfRmX2Nv9tJi2JtlZ76HnzM8abgw6bxP8EpBOV5RrOCScB1SoF8pcIsATVUY9H5/7VZCAG0AZAEXFkXRnp9wswwk6h0W0aXJH78bDJD4qeV1OjTl+26L7moJBNsEO8HHWXPtC6vgKaQx/ZHZFICmmAgUOaIJpl2PcHo+7g1TSIHbSoEbAWjSc1+KrtspnwRmJAGDUiCyDWYtXpjGhKNpB9sEHakUwTzIpUArblTRv8+7651/PTzSdDAJvlHnukiTqeItwOwA05GNp7ZXrhIfed6GJuYpA8/XTcLToMzv/PTwxpAC/UWB3gY0v8NKADvWKX3HFeCU6AE4ae1zPTFGPCXiMd+0Ud6x6u4a7oiOnJFtW7oqXRfc9l5F0ihr10ir8tKoZhtRs7iMicayRYjalJm8h25vxAMxWYx4SHj8ZJXlTZfju8KtkAJ9RYHeBrQrI3WADiACmwIYpg0AILOWwldatFW3KMFH2tU9wRhJ2jbPbt8bYXQH3+lHUOZ4M+aMxrB5i7WZ2iR32iUcWr74xqrEL0jPIGoOL8KVaUIXZXO2cH6Zg6K/zfqdShreFFKg9ylwIwCt4yvtKugpLCO1NBvUBVKZxL1YikhKy9Y8QOxsy3jVAz3/Urf/Xj8Sc4nuhI9w1HO7gBk6u+Uv8KJRxfnkgsUJR2cxptxHsTlzLsL1tNfp8N6rROHNIQVuJAVuBKBdPmUFTV3wxOYR+01D+Z6btCwjnlbZQZe2Yq1a2VNfcU0wePku5QtA2q3lWbeOzqzMzISdZ5ho/NEam8/BMETN2cd4AhlD1AVgA/2d776oo+97lwKE94QU6EMKXM/k9J4kJAglsc0HqrjWKmeiwP+spdef2D4BfLOTc9ZKZrg04QRP3eNcHbmLuV6fiGBb98uODIeR7ngTcdK3aYtUOXaIfVsDrqyO4WyjDoNWsuZh0SpVzDXSc5acfmwRTZBXODuhp1J33v4h70T4G1IgpEAIaGoD3cDgb3usKzsKd5fFrdBwjhBxJWYPEL8zO0lAJbkW0nn+3cWIgApY4uIYSCyVCMkx+fxnhLRR2WezRJR2Apm0xZHVcDi7RxyACmMANTiwuMUBykR8kOh6M8TVfGSRsUVrxvCOi0jajWMqsks62F12/3C4CilwWykQAtpFNS+gcCjCDwGIbXTWIvuMOu5sWr6wb+LgXKg7gZgWKeoBJ6uL88JLRxV9G0FgiMlnrXLJWgBYswkXBsdWZSQhmkgRA5gAK3BgMUAsFk9ZIjlk0QxxQuX1Q1Ow4kkYO0IQa+TBlYVnnrFfCU5c9CLh8ZACt4cCIaC9sq4BCxd3ABOO7LQN5/bsEB/+8c0vMLyVCQVAVj9EVITLIvBwE9Cq4Uq83YAbOwK8AMV2K2ax2IAlUzmLJ1Dq40q8FRsEq/I4yi1gJAunl2BENc6UK027isERyldum6qB8/MMOl5ZyPBkSIGQAj4F/h+wGRS7sMp5iQAAAABJRU5ErkJggg==)"
      ]
    },
    {
      "cell_type": "code",
      "metadata": {
        "colab": {
          "base_uri": "https://localhost:8080/",
          "height": 109
        },
        "id": "wOgyiDz8UAm6",
        "outputId": "d0464f4a-8753-4130-f9a2-9d43d9e6cf47"
      },
      "source": [
        "loan_df[[\"dti\", \"loan_total\"]].corr(method=\"spearman\")"
      ],
      "execution_count": 30,
      "outputs": [
        {
          "output_type": "execute_result",
          "data": {
            "text/html": [
              "<div>\n",
              "<style scoped>\n",
              "    .dataframe tbody tr th:only-of-type {\n",
              "        vertical-align: middle;\n",
              "    }\n",
              "\n",
              "    .dataframe tbody tr th {\n",
              "        vertical-align: top;\n",
              "    }\n",
              "\n",
              "    .dataframe thead th {\n",
              "        text-align: right;\n",
              "    }\n",
              "</style>\n",
              "<table border=\"1\" class=\"dataframe\">\n",
              "  <thead>\n",
              "    <tr style=\"text-align: right;\">\n",
              "      <th></th>\n",
              "      <th>dti</th>\n",
              "      <th>loan_total</th>\n",
              "    </tr>\n",
              "  </thead>\n",
              "  <tbody>\n",
              "    <tr>\n",
              "      <th>dti</th>\n",
              "      <td>1.000000</td>\n",
              "      <td>0.029344</td>\n",
              "    </tr>\n",
              "    <tr>\n",
              "      <th>loan_total</th>\n",
              "      <td>0.029344</td>\n",
              "      <td>1.000000</td>\n",
              "    </tr>\n",
              "  </tbody>\n",
              "</table>\n",
              "</div>"
            ],
            "text/plain": [
              "                 dti  loan_total\n",
              "dti         1.000000    0.029344\n",
              "loan_total  0.029344    1.000000"
            ]
          },
          "metadata": {
            "tags": []
          },
          "execution_count": 30
        }
      ]
    },
    {
      "cell_type": "code",
      "metadata": {
        "colab": {
          "base_uri": "https://localhost:8080/",
          "height": 294
        },
        "id": "_bObFp3_UK20",
        "outputId": "29d3512e-1522-41e2-f5a5-33b54bdd4b08"
      },
      "source": [
        "sns.regplot(x=\"dti\", y=\"loan_total\", data=loan_df)"
      ],
      "execution_count": 31,
      "outputs": [
        {
          "output_type": "execute_result",
          "data": {
            "text/plain": [
              "<matplotlib.axes._subplots.AxesSubplot at 0x7f07e5482350>"
            ]
          },
          "metadata": {
            "tags": []
          },
          "execution_count": 31
        },
        {
          "output_type": "display_data",
          "data": {
            "image/png": "[encoded data removed]",
            "text/plain": [
              "<Figure size 432x288 with 1 Axes>"
            ]
          },
          "metadata": {
            "tags": [],
            "needs_background": "light"
          }
        }
      ]
    },
    {
      "cell_type": "code",
      "metadata": {
        "id": "C3b2kk8pUTcr"
      },
      "source": [
        ""
      ],
      "execution_count": null,
      "outputs": []
    }
  ]
}